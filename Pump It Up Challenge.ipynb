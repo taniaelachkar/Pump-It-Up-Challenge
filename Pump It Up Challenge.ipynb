{
 "cells": [
  {
   "cell_type": "markdown",
   "metadata": {},
   "source": [
    "# Pump It Up Challenge"
   ]
  },
  {
   "cell_type": "code",
   "execution_count": 1,
   "metadata": {
    "collapsed": true
   },
   "outputs": [],
   "source": [
    "%matplotlib inline\n",
    "import pandas as pd\n",
    "import numpy as np"
   ]
  },
  {
   "cell_type": "code",
   "execution_count": 3,
   "metadata": {},
   "outputs": [
    {
     "data": {
      "text/html": [
       "<div>\n",
       "<style>\n",
       "    .dataframe thead tr:only-child th {\n",
       "        text-align: right;\n",
       "    }\n",
       "\n",
       "    .dataframe thead th {\n",
       "        text-align: left;\n",
       "    }\n",
       "\n",
       "    .dataframe tbody tr th {\n",
       "        vertical-align: top;\n",
       "    }\n",
       "</style>\n",
       "<table border=\"1\" class=\"dataframe\">\n",
       "  <thead>\n",
       "    <tr style=\"text-align: right;\">\n",
       "      <th></th>\n",
       "      <th>amount_tsh</th>\n",
       "      <th>date_recorded</th>\n",
       "      <th>funder</th>\n",
       "      <th>gps_height</th>\n",
       "      <th>installer</th>\n",
       "      <th>longitude</th>\n",
       "      <th>latitude</th>\n",
       "      <th>wpt_name</th>\n",
       "      <th>num_private</th>\n",
       "      <th>basin</th>\n",
       "      <th>...</th>\n",
       "      <th>payment_type</th>\n",
       "      <th>water_quality</th>\n",
       "      <th>quality_group</th>\n",
       "      <th>quantity</th>\n",
       "      <th>quantity_group</th>\n",
       "      <th>source</th>\n",
       "      <th>source_type</th>\n",
       "      <th>source_class</th>\n",
       "      <th>waterpoint_type</th>\n",
       "      <th>waterpoint_type_group</th>\n",
       "    </tr>\n",
       "    <tr>\n",
       "      <th>id</th>\n",
       "      <th></th>\n",
       "      <th></th>\n",
       "      <th></th>\n",
       "      <th></th>\n",
       "      <th></th>\n",
       "      <th></th>\n",
       "      <th></th>\n",
       "      <th></th>\n",
       "      <th></th>\n",
       "      <th></th>\n",
       "      <th></th>\n",
       "      <th></th>\n",
       "      <th></th>\n",
       "      <th></th>\n",
       "      <th></th>\n",
       "      <th></th>\n",
       "      <th></th>\n",
       "      <th></th>\n",
       "      <th></th>\n",
       "      <th></th>\n",
       "      <th></th>\n",
       "    </tr>\n",
       "  </thead>\n",
       "  <tbody>\n",
       "    <tr>\n",
       "      <th>69572</th>\n",
       "      <td>6000.0</td>\n",
       "      <td>2011-03-14</td>\n",
       "      <td>Roman</td>\n",
       "      <td>1390</td>\n",
       "      <td>Roman</td>\n",
       "      <td>34.938093</td>\n",
       "      <td>-9.856322</td>\n",
       "      <td>none</td>\n",
       "      <td>0</td>\n",
       "      <td>Lake Nyasa</td>\n",
       "      <td>...</td>\n",
       "      <td>annually</td>\n",
       "      <td>soft</td>\n",
       "      <td>good</td>\n",
       "      <td>enough</td>\n",
       "      <td>enough</td>\n",
       "      <td>spring</td>\n",
       "      <td>spring</td>\n",
       "      <td>groundwater</td>\n",
       "      <td>communal standpipe</td>\n",
       "      <td>communal standpipe</td>\n",
       "    </tr>\n",
       "    <tr>\n",
       "      <th>8776</th>\n",
       "      <td>0.0</td>\n",
       "      <td>2013-03-06</td>\n",
       "      <td>Grumeti</td>\n",
       "      <td>1399</td>\n",
       "      <td>GRUMETI</td>\n",
       "      <td>34.698766</td>\n",
       "      <td>-2.147466</td>\n",
       "      <td>Zahanati</td>\n",
       "      <td>0</td>\n",
       "      <td>Lake Victoria</td>\n",
       "      <td>...</td>\n",
       "      <td>never pay</td>\n",
       "      <td>soft</td>\n",
       "      <td>good</td>\n",
       "      <td>insufficient</td>\n",
       "      <td>insufficient</td>\n",
       "      <td>rainwater harvesting</td>\n",
       "      <td>rainwater harvesting</td>\n",
       "      <td>surface</td>\n",
       "      <td>communal standpipe</td>\n",
       "      <td>communal standpipe</td>\n",
       "    </tr>\n",
       "    <tr>\n",
       "      <th>34310</th>\n",
       "      <td>25.0</td>\n",
       "      <td>2013-02-25</td>\n",
       "      <td>Lottery Club</td>\n",
       "      <td>686</td>\n",
       "      <td>World vision</td>\n",
       "      <td>37.460664</td>\n",
       "      <td>-3.821329</td>\n",
       "      <td>Kwa Mahundi</td>\n",
       "      <td>0</td>\n",
       "      <td>Pangani</td>\n",
       "      <td>...</td>\n",
       "      <td>per bucket</td>\n",
       "      <td>soft</td>\n",
       "      <td>good</td>\n",
       "      <td>enough</td>\n",
       "      <td>enough</td>\n",
       "      <td>dam</td>\n",
       "      <td>dam</td>\n",
       "      <td>surface</td>\n",
       "      <td>communal standpipe multiple</td>\n",
       "      <td>communal standpipe</td>\n",
       "    </tr>\n",
       "    <tr>\n",
       "      <th>67743</th>\n",
       "      <td>0.0</td>\n",
       "      <td>2013-01-28</td>\n",
       "      <td>Unicef</td>\n",
       "      <td>263</td>\n",
       "      <td>UNICEF</td>\n",
       "      <td>38.486161</td>\n",
       "      <td>-11.155298</td>\n",
       "      <td>Zahanati Ya Nanyumbu</td>\n",
       "      <td>0</td>\n",
       "      <td>Ruvuma / Southern Coast</td>\n",
       "      <td>...</td>\n",
       "      <td>never pay</td>\n",
       "      <td>soft</td>\n",
       "      <td>good</td>\n",
       "      <td>dry</td>\n",
       "      <td>dry</td>\n",
       "      <td>machine dbh</td>\n",
       "      <td>borehole</td>\n",
       "      <td>groundwater</td>\n",
       "      <td>communal standpipe multiple</td>\n",
       "      <td>communal standpipe</td>\n",
       "    </tr>\n",
       "    <tr>\n",
       "      <th>19728</th>\n",
       "      <td>0.0</td>\n",
       "      <td>2011-07-13</td>\n",
       "      <td>Action In A</td>\n",
       "      <td>0</td>\n",
       "      <td>Artisan</td>\n",
       "      <td>31.130847</td>\n",
       "      <td>-1.825359</td>\n",
       "      <td>Shuleni</td>\n",
       "      <td>0</td>\n",
       "      <td>Lake Victoria</td>\n",
       "      <td>...</td>\n",
       "      <td>never pay</td>\n",
       "      <td>soft</td>\n",
       "      <td>good</td>\n",
       "      <td>seasonal</td>\n",
       "      <td>seasonal</td>\n",
       "      <td>rainwater harvesting</td>\n",
       "      <td>rainwater harvesting</td>\n",
       "      <td>surface</td>\n",
       "      <td>communal standpipe</td>\n",
       "      <td>communal standpipe</td>\n",
       "    </tr>\n",
       "  </tbody>\n",
       "</table>\n",
       "<p>5 rows × 39 columns</p>\n",
       "</div>"
      ],
      "text/plain": [
       "       amount_tsh date_recorded        funder  gps_height     installer  \\\n",
       "id                                                                        \n",
       "69572      6000.0    2011-03-14         Roman        1390         Roman   \n",
       "8776          0.0    2013-03-06       Grumeti        1399       GRUMETI   \n",
       "34310        25.0    2013-02-25  Lottery Club         686  World vision   \n",
       "67743         0.0    2013-01-28        Unicef         263        UNICEF   \n",
       "19728         0.0    2011-07-13   Action In A           0       Artisan   \n",
       "\n",
       "       longitude   latitude              wpt_name  num_private  \\\n",
       "id                                                               \n",
       "69572  34.938093  -9.856322                  none            0   \n",
       "8776   34.698766  -2.147466              Zahanati            0   \n",
       "34310  37.460664  -3.821329           Kwa Mahundi            0   \n",
       "67743  38.486161 -11.155298  Zahanati Ya Nanyumbu            0   \n",
       "19728  31.130847  -1.825359               Shuleni            0   \n",
       "\n",
       "                         basin          ...          payment_type  \\\n",
       "id                                      ...                         \n",
       "69572               Lake Nyasa          ...              annually   \n",
       "8776             Lake Victoria          ...             never pay   \n",
       "34310                  Pangani          ...            per bucket   \n",
       "67743  Ruvuma / Southern Coast          ...             never pay   \n",
       "19728            Lake Victoria          ...             never pay   \n",
       "\n",
       "      water_quality  quality_group      quantity quantity_group  \\\n",
       "id                                                                \n",
       "69572          soft           good        enough         enough   \n",
       "8776           soft           good  insufficient   insufficient   \n",
       "34310          soft           good        enough         enough   \n",
       "67743          soft           good           dry            dry   \n",
       "19728          soft           good      seasonal       seasonal   \n",
       "\n",
       "                     source           source_type source_class  \\\n",
       "id                                                               \n",
       "69572                spring                spring  groundwater   \n",
       "8776   rainwater harvesting  rainwater harvesting      surface   \n",
       "34310                   dam                   dam      surface   \n",
       "67743           machine dbh              borehole  groundwater   \n",
       "19728  rainwater harvesting  rainwater harvesting      surface   \n",
       "\n",
       "                   waterpoint_type waterpoint_type_group  \n",
       "id                                                        \n",
       "69572           communal standpipe    communal standpipe  \n",
       "8776            communal standpipe    communal standpipe  \n",
       "34310  communal standpipe multiple    communal standpipe  \n",
       "67743  communal standpipe multiple    communal standpipe  \n",
       "19728           communal standpipe    communal standpipe  \n",
       "\n",
       "[5 rows x 39 columns]"
      ]
     },
     "execution_count": 3,
     "metadata": {},
     "output_type": "execute_result"
    }
   ],
   "source": [
    "df = pd.read_csv(\n",
    "    \"/Users/taniaelachkar/Desktop/MBD/Term 2/Machine Learning II/assignment 2/Pump_it_Up_Data_Mining_the_Water_Table_-_Training_set_values.csv\", sep=',', index_col=\"id\",\n",
    ")\n",
    "df.head()"
   ]
  },
  {
   "cell_type": "code",
   "execution_count": 4,
   "metadata": {},
   "outputs": [
    {
     "name": "stdout",
     "output_type": "stream",
     "text": [
      "<class 'pandas.core.frame.DataFrame'>\n",
      "Int64Index: 59400 entries, 69572 to 26348\n",
      "Data columns (total 39 columns):\n",
      "amount_tsh               59400 non-null float64\n",
      "date_recorded            59400 non-null object\n",
      "funder                   55765 non-null object\n",
      "gps_height               59400 non-null int64\n",
      "installer                55745 non-null object\n",
      "longitude                59400 non-null float64\n",
      "latitude                 59400 non-null float64\n",
      "wpt_name                 59400 non-null object\n",
      "num_private              59400 non-null int64\n",
      "basin                    59400 non-null object\n",
      "subvillage               59029 non-null object\n",
      "region                   59400 non-null object\n",
      "region_code              59400 non-null int64\n",
      "district_code            59400 non-null int64\n",
      "lga                      59400 non-null object\n",
      "ward                     59400 non-null object\n",
      "population               59400 non-null int64\n",
      "public_meeting           56066 non-null object\n",
      "recorded_by              59400 non-null object\n",
      "scheme_management        55523 non-null object\n",
      "scheme_name              31234 non-null object\n",
      "permit                   56344 non-null object\n",
      "construction_year        59400 non-null int64\n",
      "extraction_type          59400 non-null object\n",
      "extraction_type_group    59400 non-null object\n",
      "extraction_type_class    59400 non-null object\n",
      "management               59400 non-null object\n",
      "management_group         59400 non-null object\n",
      "payment                  59400 non-null object\n",
      "payment_type             59400 non-null object\n",
      "water_quality            59400 non-null object\n",
      "quality_group            59400 non-null object\n",
      "quantity                 59400 non-null object\n",
      "quantity_group           59400 non-null object\n",
      "source                   59400 non-null object\n",
      "source_type              59400 non-null object\n",
      "source_class             59400 non-null object\n",
      "waterpoint_type          59400 non-null object\n",
      "waterpoint_type_group    59400 non-null object\n",
      "dtypes: float64(3), int64(6), object(30)\n",
      "memory usage: 18.1+ MB\n"
     ]
    }
   ],
   "source": [
    "df.info()"
   ]
  },
  {
   "cell_type": "code",
   "execution_count": 5,
   "metadata": {},
   "outputs": [
    {
     "data": {
      "text/html": [
       "<div>\n",
       "<style>\n",
       "    .dataframe thead tr:only-child th {\n",
       "        text-align: right;\n",
       "    }\n",
       "\n",
       "    .dataframe thead th {\n",
       "        text-align: left;\n",
       "    }\n",
       "\n",
       "    .dataframe tbody tr th {\n",
       "        vertical-align: top;\n",
       "    }\n",
       "</style>\n",
       "<table border=\"1\" class=\"dataframe\">\n",
       "  <thead>\n",
       "    <tr style=\"text-align: right;\">\n",
       "      <th></th>\n",
       "      <th>status_group</th>\n",
       "    </tr>\n",
       "    <tr>\n",
       "      <th>id</th>\n",
       "      <th></th>\n",
       "    </tr>\n",
       "  </thead>\n",
       "  <tbody>\n",
       "    <tr>\n",
       "      <th>69572</th>\n",
       "      <td>functional</td>\n",
       "    </tr>\n",
       "    <tr>\n",
       "      <th>8776</th>\n",
       "      <td>functional</td>\n",
       "    </tr>\n",
       "    <tr>\n",
       "      <th>34310</th>\n",
       "      <td>functional</td>\n",
       "    </tr>\n",
       "    <tr>\n",
       "      <th>67743</th>\n",
       "      <td>non functional</td>\n",
       "    </tr>\n",
       "    <tr>\n",
       "      <th>19728</th>\n",
       "      <td>functional</td>\n",
       "    </tr>\n",
       "  </tbody>\n",
       "</table>\n",
       "</div>"
      ],
      "text/plain": [
       "         status_group\n",
       "id                   \n",
       "69572      functional\n",
       "8776       functional\n",
       "34310      functional\n",
       "67743  non functional\n",
       "19728      functional"
      ]
     },
     "execution_count": 5,
     "metadata": {},
     "output_type": "execute_result"
    }
   ],
   "source": [
    "df2 = pd.read_csv(\"/Users/taniaelachkar/Desktop/MBD/Term 2/Machine Learning II/assignment 2/Pump_it_Up_Data_Mining_the_Water_Table_-_Training_set_labels.csv\" , sep = ',', index_col = 'id')\n",
    "df2.head(5)"
   ]
  },
  {
   "cell_type": "code",
   "execution_count": 6,
   "metadata": {},
   "outputs": [
    {
     "data": {
      "text/plain": [
       "status_group    0\n",
       "dtype: int64"
      ]
     },
     "execution_count": 6,
     "metadata": {},
     "output_type": "execute_result"
    }
   ],
   "source": [
    "#checking for nulls in training labels dataset\n",
    "df2.isnull().sum()"
   ]
  },
  {
   "cell_type": "code",
   "execution_count": 7,
   "metadata": {},
   "outputs": [
    {
     "data": {
      "text/html": [
       "<div>\n",
       "<style>\n",
       "    .dataframe thead tr:only-child th {\n",
       "        text-align: right;\n",
       "    }\n",
       "\n",
       "    .dataframe thead th {\n",
       "        text-align: left;\n",
       "    }\n",
       "\n",
       "    .dataframe tbody tr th {\n",
       "        vertical-align: top;\n",
       "    }\n",
       "</style>\n",
       "<table border=\"1\" class=\"dataframe\">\n",
       "  <thead>\n",
       "    <tr style=\"text-align: right;\">\n",
       "      <th></th>\n",
       "      <th>amount_tsh</th>\n",
       "      <th>date_recorded</th>\n",
       "      <th>funder</th>\n",
       "      <th>gps_height</th>\n",
       "      <th>installer</th>\n",
       "      <th>longitude</th>\n",
       "      <th>latitude</th>\n",
       "      <th>wpt_name</th>\n",
       "      <th>num_private</th>\n",
       "      <th>basin</th>\n",
       "      <th>...</th>\n",
       "      <th>water_quality</th>\n",
       "      <th>quality_group</th>\n",
       "      <th>quantity</th>\n",
       "      <th>quantity_group</th>\n",
       "      <th>source</th>\n",
       "      <th>source_type</th>\n",
       "      <th>source_class</th>\n",
       "      <th>waterpoint_type</th>\n",
       "      <th>waterpoint_type_group</th>\n",
       "      <th>status_group</th>\n",
       "    </tr>\n",
       "    <tr>\n",
       "      <th>id</th>\n",
       "      <th></th>\n",
       "      <th></th>\n",
       "      <th></th>\n",
       "      <th></th>\n",
       "      <th></th>\n",
       "      <th></th>\n",
       "      <th></th>\n",
       "      <th></th>\n",
       "      <th></th>\n",
       "      <th></th>\n",
       "      <th></th>\n",
       "      <th></th>\n",
       "      <th></th>\n",
       "      <th></th>\n",
       "      <th></th>\n",
       "      <th></th>\n",
       "      <th></th>\n",
       "      <th></th>\n",
       "      <th></th>\n",
       "      <th></th>\n",
       "      <th></th>\n",
       "    </tr>\n",
       "  </thead>\n",
       "  <tbody>\n",
       "    <tr>\n",
       "      <th>69572</th>\n",
       "      <td>6000.0</td>\n",
       "      <td>2011-03-14</td>\n",
       "      <td>Roman</td>\n",
       "      <td>1390</td>\n",
       "      <td>Roman</td>\n",
       "      <td>34.938093</td>\n",
       "      <td>-9.856322</td>\n",
       "      <td>none</td>\n",
       "      <td>0</td>\n",
       "      <td>Lake Nyasa</td>\n",
       "      <td>...</td>\n",
       "      <td>soft</td>\n",
       "      <td>good</td>\n",
       "      <td>enough</td>\n",
       "      <td>enough</td>\n",
       "      <td>spring</td>\n",
       "      <td>spring</td>\n",
       "      <td>groundwater</td>\n",
       "      <td>communal standpipe</td>\n",
       "      <td>communal standpipe</td>\n",
       "      <td>functional</td>\n",
       "    </tr>\n",
       "    <tr>\n",
       "      <th>8776</th>\n",
       "      <td>0.0</td>\n",
       "      <td>2013-03-06</td>\n",
       "      <td>Grumeti</td>\n",
       "      <td>1399</td>\n",
       "      <td>GRUMETI</td>\n",
       "      <td>34.698766</td>\n",
       "      <td>-2.147466</td>\n",
       "      <td>Zahanati</td>\n",
       "      <td>0</td>\n",
       "      <td>Lake Victoria</td>\n",
       "      <td>...</td>\n",
       "      <td>soft</td>\n",
       "      <td>good</td>\n",
       "      <td>insufficient</td>\n",
       "      <td>insufficient</td>\n",
       "      <td>rainwater harvesting</td>\n",
       "      <td>rainwater harvesting</td>\n",
       "      <td>surface</td>\n",
       "      <td>communal standpipe</td>\n",
       "      <td>communal standpipe</td>\n",
       "      <td>functional</td>\n",
       "    </tr>\n",
       "    <tr>\n",
       "      <th>34310</th>\n",
       "      <td>25.0</td>\n",
       "      <td>2013-02-25</td>\n",
       "      <td>Lottery Club</td>\n",
       "      <td>686</td>\n",
       "      <td>World vision</td>\n",
       "      <td>37.460664</td>\n",
       "      <td>-3.821329</td>\n",
       "      <td>Kwa Mahundi</td>\n",
       "      <td>0</td>\n",
       "      <td>Pangani</td>\n",
       "      <td>...</td>\n",
       "      <td>soft</td>\n",
       "      <td>good</td>\n",
       "      <td>enough</td>\n",
       "      <td>enough</td>\n",
       "      <td>dam</td>\n",
       "      <td>dam</td>\n",
       "      <td>surface</td>\n",
       "      <td>communal standpipe multiple</td>\n",
       "      <td>communal standpipe</td>\n",
       "      <td>functional</td>\n",
       "    </tr>\n",
       "    <tr>\n",
       "      <th>67743</th>\n",
       "      <td>0.0</td>\n",
       "      <td>2013-01-28</td>\n",
       "      <td>Unicef</td>\n",
       "      <td>263</td>\n",
       "      <td>UNICEF</td>\n",
       "      <td>38.486161</td>\n",
       "      <td>-11.155298</td>\n",
       "      <td>Zahanati Ya Nanyumbu</td>\n",
       "      <td>0</td>\n",
       "      <td>Ruvuma / Southern Coast</td>\n",
       "      <td>...</td>\n",
       "      <td>soft</td>\n",
       "      <td>good</td>\n",
       "      <td>dry</td>\n",
       "      <td>dry</td>\n",
       "      <td>machine dbh</td>\n",
       "      <td>borehole</td>\n",
       "      <td>groundwater</td>\n",
       "      <td>communal standpipe multiple</td>\n",
       "      <td>communal standpipe</td>\n",
       "      <td>non functional</td>\n",
       "    </tr>\n",
       "    <tr>\n",
       "      <th>19728</th>\n",
       "      <td>0.0</td>\n",
       "      <td>2011-07-13</td>\n",
       "      <td>Action In A</td>\n",
       "      <td>0</td>\n",
       "      <td>Artisan</td>\n",
       "      <td>31.130847</td>\n",
       "      <td>-1.825359</td>\n",
       "      <td>Shuleni</td>\n",
       "      <td>0</td>\n",
       "      <td>Lake Victoria</td>\n",
       "      <td>...</td>\n",
       "      <td>soft</td>\n",
       "      <td>good</td>\n",
       "      <td>seasonal</td>\n",
       "      <td>seasonal</td>\n",
       "      <td>rainwater harvesting</td>\n",
       "      <td>rainwater harvesting</td>\n",
       "      <td>surface</td>\n",
       "      <td>communal standpipe</td>\n",
       "      <td>communal standpipe</td>\n",
       "      <td>functional</td>\n",
       "    </tr>\n",
       "    <tr>\n",
       "      <th>9944</th>\n",
       "      <td>20.0</td>\n",
       "      <td>2011-03-13</td>\n",
       "      <td>Mkinga Distric Coun</td>\n",
       "      <td>0</td>\n",
       "      <td>DWE</td>\n",
       "      <td>39.172796</td>\n",
       "      <td>-4.765587</td>\n",
       "      <td>Tajiri</td>\n",
       "      <td>0</td>\n",
       "      <td>Pangani</td>\n",
       "      <td>...</td>\n",
       "      <td>salty</td>\n",
       "      <td>salty</td>\n",
       "      <td>enough</td>\n",
       "      <td>enough</td>\n",
       "      <td>other</td>\n",
       "      <td>other</td>\n",
       "      <td>unknown</td>\n",
       "      <td>communal standpipe multiple</td>\n",
       "      <td>communal standpipe</td>\n",
       "      <td>functional</td>\n",
       "    </tr>\n",
       "    <tr>\n",
       "      <th>19816</th>\n",
       "      <td>0.0</td>\n",
       "      <td>2012-10-01</td>\n",
       "      <td>Dwsp</td>\n",
       "      <td>0</td>\n",
       "      <td>DWSP</td>\n",
       "      <td>33.362410</td>\n",
       "      <td>-3.766365</td>\n",
       "      <td>Kwa Ngomho</td>\n",
       "      <td>0</td>\n",
       "      <td>Internal</td>\n",
       "      <td>...</td>\n",
       "      <td>soft</td>\n",
       "      <td>good</td>\n",
       "      <td>enough</td>\n",
       "      <td>enough</td>\n",
       "      <td>machine dbh</td>\n",
       "      <td>borehole</td>\n",
       "      <td>groundwater</td>\n",
       "      <td>hand pump</td>\n",
       "      <td>hand pump</td>\n",
       "      <td>non functional</td>\n",
       "    </tr>\n",
       "    <tr>\n",
       "      <th>54551</th>\n",
       "      <td>0.0</td>\n",
       "      <td>2012-10-09</td>\n",
       "      <td>Rwssp</td>\n",
       "      <td>0</td>\n",
       "      <td>DWE</td>\n",
       "      <td>32.620617</td>\n",
       "      <td>-4.226198</td>\n",
       "      <td>Tushirikiane</td>\n",
       "      <td>0</td>\n",
       "      <td>Lake Tanganyika</td>\n",
       "      <td>...</td>\n",
       "      <td>milky</td>\n",
       "      <td>milky</td>\n",
       "      <td>enough</td>\n",
       "      <td>enough</td>\n",
       "      <td>shallow well</td>\n",
       "      <td>shallow well</td>\n",
       "      <td>groundwater</td>\n",
       "      <td>hand pump</td>\n",
       "      <td>hand pump</td>\n",
       "      <td>non functional</td>\n",
       "    </tr>\n",
       "    <tr>\n",
       "      <th>53934</th>\n",
       "      <td>0.0</td>\n",
       "      <td>2012-11-03</td>\n",
       "      <td>Wateraid</td>\n",
       "      <td>0</td>\n",
       "      <td>Water Aid</td>\n",
       "      <td>32.711100</td>\n",
       "      <td>-5.146712</td>\n",
       "      <td>Kwa Ramadhan Musa</td>\n",
       "      <td>0</td>\n",
       "      <td>Lake Tanganyika</td>\n",
       "      <td>...</td>\n",
       "      <td>salty</td>\n",
       "      <td>salty</td>\n",
       "      <td>seasonal</td>\n",
       "      <td>seasonal</td>\n",
       "      <td>machine dbh</td>\n",
       "      <td>borehole</td>\n",
       "      <td>groundwater</td>\n",
       "      <td>hand pump</td>\n",
       "      <td>hand pump</td>\n",
       "      <td>non functional</td>\n",
       "    </tr>\n",
       "    <tr>\n",
       "      <th>46144</th>\n",
       "      <td>0.0</td>\n",
       "      <td>2011-08-03</td>\n",
       "      <td>Isingiro Ho</td>\n",
       "      <td>0</td>\n",
       "      <td>Artisan</td>\n",
       "      <td>30.626991</td>\n",
       "      <td>-1.257051</td>\n",
       "      <td>Kwapeto</td>\n",
       "      <td>0</td>\n",
       "      <td>Lake Victoria</td>\n",
       "      <td>...</td>\n",
       "      <td>soft</td>\n",
       "      <td>good</td>\n",
       "      <td>enough</td>\n",
       "      <td>enough</td>\n",
       "      <td>shallow well</td>\n",
       "      <td>shallow well</td>\n",
       "      <td>groundwater</td>\n",
       "      <td>hand pump</td>\n",
       "      <td>hand pump</td>\n",
       "      <td>functional</td>\n",
       "    </tr>\n",
       "  </tbody>\n",
       "</table>\n",
       "<p>10 rows × 40 columns</p>\n",
       "</div>"
      ],
      "text/plain": [
       "       amount_tsh date_recorded               funder  gps_height  \\\n",
       "id                                                                 \n",
       "69572      6000.0    2011-03-14                Roman        1390   \n",
       "8776          0.0    2013-03-06              Grumeti        1399   \n",
       "34310        25.0    2013-02-25         Lottery Club         686   \n",
       "67743         0.0    2013-01-28               Unicef         263   \n",
       "19728         0.0    2011-07-13          Action In A           0   \n",
       "9944         20.0    2011-03-13  Mkinga Distric Coun           0   \n",
       "19816         0.0    2012-10-01                 Dwsp           0   \n",
       "54551         0.0    2012-10-09                Rwssp           0   \n",
       "53934         0.0    2012-11-03             Wateraid           0   \n",
       "46144         0.0    2011-08-03          Isingiro Ho           0   \n",
       "\n",
       "          installer  longitude   latitude              wpt_name  num_private  \\\n",
       "id                                                                             \n",
       "69572         Roman  34.938093  -9.856322                  none            0   \n",
       "8776        GRUMETI  34.698766  -2.147466              Zahanati            0   \n",
       "34310  World vision  37.460664  -3.821329           Kwa Mahundi            0   \n",
       "67743        UNICEF  38.486161 -11.155298  Zahanati Ya Nanyumbu            0   \n",
       "19728       Artisan  31.130847  -1.825359               Shuleni            0   \n",
       "9944            DWE  39.172796  -4.765587                Tajiri            0   \n",
       "19816          DWSP  33.362410  -3.766365            Kwa Ngomho            0   \n",
       "54551           DWE  32.620617  -4.226198          Tushirikiane            0   \n",
       "53934     Water Aid  32.711100  -5.146712     Kwa Ramadhan Musa            0   \n",
       "46144       Artisan  30.626991  -1.257051               Kwapeto            0   \n",
       "\n",
       "                         basin       ...       water_quality quality_group  \\\n",
       "id                                   ...                                     \n",
       "69572               Lake Nyasa       ...                soft          good   \n",
       "8776             Lake Victoria       ...                soft          good   \n",
       "34310                  Pangani       ...                soft          good   \n",
       "67743  Ruvuma / Southern Coast       ...                soft          good   \n",
       "19728            Lake Victoria       ...                soft          good   \n",
       "9944                   Pangani       ...               salty         salty   \n",
       "19816                 Internal       ...                soft          good   \n",
       "54551          Lake Tanganyika       ...               milky         milky   \n",
       "53934          Lake Tanganyika       ...               salty         salty   \n",
       "46144            Lake Victoria       ...                soft          good   \n",
       "\n",
       "           quantity  quantity_group                source  \\\n",
       "id                                                          \n",
       "69572        enough          enough                spring   \n",
       "8776   insufficient    insufficient  rainwater harvesting   \n",
       "34310        enough          enough                   dam   \n",
       "67743           dry             dry           machine dbh   \n",
       "19728      seasonal        seasonal  rainwater harvesting   \n",
       "9944         enough          enough                 other   \n",
       "19816        enough          enough           machine dbh   \n",
       "54551        enough          enough          shallow well   \n",
       "53934      seasonal        seasonal           machine dbh   \n",
       "46144        enough          enough          shallow well   \n",
       "\n",
       "                source_type  source_class              waterpoint_type  \\\n",
       "id                                                                       \n",
       "69572                spring   groundwater           communal standpipe   \n",
       "8776   rainwater harvesting       surface           communal standpipe   \n",
       "34310                   dam       surface  communal standpipe multiple   \n",
       "67743              borehole   groundwater  communal standpipe multiple   \n",
       "19728  rainwater harvesting       surface           communal standpipe   \n",
       "9944                  other       unknown  communal standpipe multiple   \n",
       "19816              borehole   groundwater                    hand pump   \n",
       "54551          shallow well   groundwater                    hand pump   \n",
       "53934              borehole   groundwater                    hand pump   \n",
       "46144          shallow well   groundwater                    hand pump   \n",
       "\n",
       "      waterpoint_type_group    status_group  \n",
       "id                                           \n",
       "69572    communal standpipe      functional  \n",
       "8776     communal standpipe      functional  \n",
       "34310    communal standpipe      functional  \n",
       "67743    communal standpipe  non functional  \n",
       "19728    communal standpipe      functional  \n",
       "9944     communal standpipe      functional  \n",
       "19816             hand pump  non functional  \n",
       "54551             hand pump  non functional  \n",
       "53934             hand pump  non functional  \n",
       "46144             hand pump      functional  \n",
       "\n",
       "[10 rows x 40 columns]"
      ]
     },
     "execution_count": 7,
     "metadata": {},
     "output_type": "execute_result"
    }
   ],
   "source": [
    "#combining trainset and training-labels dataframes\n",
    "final_train_df = pd.concat([df, df2], axis = 1, join = \"inner\")\n",
    "final_train_df.head(10)"
   ]
  },
  {
   "cell_type": "code",
   "execution_count": 8,
   "metadata": {},
   "outputs": [
    {
     "data": {
      "text/plain": [
       "amount_tsh                   0\n",
       "date_recorded                0\n",
       "funder                    3635\n",
       "gps_height                   0\n",
       "installer                 3655\n",
       "longitude                    0\n",
       "latitude                     0\n",
       "wpt_name                     0\n",
       "num_private                  0\n",
       "basin                        0\n",
       "subvillage                 371\n",
       "region                       0\n",
       "region_code                  0\n",
       "district_code                0\n",
       "lga                          0\n",
       "ward                         0\n",
       "population                   0\n",
       "public_meeting            3334\n",
       "recorded_by                  0\n",
       "scheme_management         3877\n",
       "scheme_name              28166\n",
       "permit                    3056\n",
       "construction_year            0\n",
       "extraction_type              0\n",
       "extraction_type_group        0\n",
       "extraction_type_class        0\n",
       "management                   0\n",
       "management_group             0\n",
       "payment                      0\n",
       "payment_type                 0\n",
       "water_quality                0\n",
       "quality_group                0\n",
       "quantity                     0\n",
       "quantity_group               0\n",
       "source                       0\n",
       "source_type                  0\n",
       "source_class                 0\n",
       "waterpoint_type              0\n",
       "waterpoint_type_group        0\n",
       "status_group                 0\n",
       "dtype: int64"
      ]
     },
     "execution_count": 8,
     "metadata": {},
     "output_type": "execute_result"
    }
   ],
   "source": [
    "#to get a count of the null values per column\n",
    "final_train_df.isnull().sum()\n",
    "#from below we see funder, installer, subvillage, public_meeting, scheme_management, scheme_name and permit variables have null values."
   ]
  },
  {
   "cell_type": "code",
   "execution_count": 9,
   "metadata": {},
   "outputs": [
    {
     "data": {
      "text/plain": [
       "Government Of Tanzania            9084\n",
       "Danida                            3114\n",
       "Hesawa                            2202\n",
       "Rwssp                             1374\n",
       "World Bank                        1349\n",
       "Kkkt                              1287\n",
       "World Vision                      1246\n",
       "Unicef                            1057\n",
       "Tasaf                              877\n",
       "District Council                   843\n",
       "Dhv                                829\n",
       "Private Individual                 826\n",
       "Dwsp                               811\n",
       "0                                  777\n",
       "Norad                              765\n",
       "Germany Republi                    610\n",
       "Tcrs                               602\n",
       "Ministry Of Water                  590\n",
       "Water                              583\n",
       "Dwe                                484\n",
       "Netherlands                        470\n",
       "Hifab                              450\n",
       "Adb                                448\n",
       "Lga                                442\n",
       "Amref                              425\n",
       "Fini Water                         393\n",
       "Oxfam                              359\n",
       "Wateraid                           333\n",
       "Rc Church                          321\n",
       "Isf                                316\n",
       "                                  ... \n",
       "Ngo                                  1\n",
       "Sweeden                              1\n",
       "Nyanza Road                          1\n",
       "Pentecostal                          1\n",
       "Bread Of The Worl                    1\n",
       "Oikos E.Africa/ European Union       1\n",
       "Abddwe                               1\n",
       "Sobodo                               1\n",
       "Ngelepo Group                        1\n",
       "Misana George                        1\n",
       "Lizad                                1\n",
       "Sda Church                           1\n",
       "Tlc/jenus Malecha                    1\n",
       "Lungwe                               1\n",
       "Matogoro                             1\n",
       "Wamarekani                           1\n",
       "Makanga                              1\n",
       "Ruangwa Lga                          1\n",
       "Songa Hospi                          1\n",
       "Brad                                 1\n",
       "Ambwene Mwaikek                      1\n",
       "Full Gospel Church                   1\n",
       "Worldvision                          1\n",
       "Nyamuhanga Maro                      1\n",
       "Mkulima                              1\n",
       "Wwf / Fores                          1\n",
       "Dqnida                               1\n",
       "Mamaz                                1\n",
       "Ur                                   1\n",
       "S.S Mohamed                          1\n",
       "Name: funder, Length: 1897, dtype: int64"
      ]
     },
     "execution_count": 9,
     "metadata": {},
     "output_type": "execute_result"
    }
   ],
   "source": [
    "#we start with funder and installer variable analysis\n",
    "final_train_df.funder.value_counts()"
   ]
  },
  {
   "cell_type": "code",
   "execution_count": 10,
   "metadata": {
    "collapsed": true
   },
   "outputs": [],
   "source": [
    "# Make funder lowercase, take first 3 letters as a sub string as lot of values may mean the same installer\n",
    "final_train_df['funder'] = final_train_df['funder'].str.lower().str.slice(0,3)"
   ]
  },
  {
   "cell_type": "code",
   "execution_count": 11,
   "metadata": {
    "collapsed": true
   },
   "outputs": [],
   "source": [
    "# Creating a function to categorize:\n",
    "# Keep high frequency values and replace low frequency values with new category \"other\"\n",
    "def wrangler_function(row,colName,highFrequencyEntity):  \n",
    "    if row[colName] in highFrequencyEntity:\n",
    "        return row[colName]\n",
    "    else:\n",
    "        return 'other'"
   ]
  },
  {
   "cell_type": "code",
   "execution_count": 12,
   "metadata": {},
   "outputs": [
    {
     "data": {
      "text/plain": [
       "other    34820\n",
       "gov       9123\n",
       "dan       3117\n",
       "wor       2633\n",
       "hes       2216\n",
       "kkk       1540\n",
       "rws       1406\n",
       "uni       1202\n",
       "pri       1146\n",
       "wat       1137\n",
       "tas       1060\n",
       "Name: funder, dtype: int64"
      ]
     },
     "execution_count": 12,
     "metadata": {},
     "output_type": "execute_result"
    }
   ],
   "source": [
    "# Categorizing funder variable, Reducing the levels of the funder variable\n",
    "highFrequencyEntity = ('gov','dan','hes','rws','wor','kkk','uni','pri','wat','tas')        \n",
    "final_train_df['funder'] = final_train_df.apply(lambda row: wrangler_function(row,'funder',highFrequencyEntity), axis=1)\n",
    "final_train_df.funder.value_counts()"
   ]
  },
  {
   "cell_type": "code",
   "execution_count": 13,
   "metadata": {},
   "outputs": [
    {
     "data": {
      "text/plain": [
       "other    28631\n",
       "dwe      17432\n",
       "gov       2668\n",
       "dan       1682\n",
       "com       1681\n",
       "hes       1402\n",
       "dis       1374\n",
       "rwe       1292\n",
       "kkk       1163\n",
       "cen       1072\n",
       "wor       1003\n",
       "Name: installer, dtype: int64"
      ]
     },
     "execution_count": 13,
     "metadata": {},
     "output_type": "execute_result"
    }
   ],
   "source": [
    "# Exploring \"installer\" variable\n",
    "#repeat the same process as funder with the installer variable\n",
    "final_train_df['installer'] = final_train_df['installer'].str.lower().str.slice(0,3)\n",
    "# Categorizing funder variable, Reducing the levels of the funder variable\n",
    "highFrequencyEntity = ('dwe','gov','dan','com','hes','dis','rwe','wor','kkk','cen')        \n",
    "final_train_df['installer'] = final_train_df.apply(lambda row: wrangler_function(row,'installer',highFrequencyEntity), axis=1)\n",
    "final_train_df.installer.value_counts()"
   ]
  },
  {
   "cell_type": "code",
   "execution_count": 14,
   "metadata": {},
   "outputs": [
    {
     "name": "stdout",
     "output_type": "stream",
     "text": [
      "Number of Sub-villages:  19287\n"
     ]
    },
    {
     "data": {
      "text/plain": [
       "Madukani          508\n",
       "Shuleni           506\n",
       "Majengo           502\n",
       "Kati              373\n",
       "Mtakuja           262\n",
       "Sokoni            232\n",
       "M                 187\n",
       "Muungano          172\n",
       "Mbuyuni           164\n",
       "Mlimani           152\n",
       "Songambele        147\n",
       "Msikitini         134\n",
       "Miembeni          134\n",
       "1                 132\n",
       "Kibaoni           114\n",
       "Kanisani          111\n",
       "I                 109\n",
       "Mapinduzi         109\n",
       "Mjimwema          108\n",
       "Mjini             108\n",
       "Mkwajuni          104\n",
       "Mwenge            102\n",
       "Azimio             98\n",
       "Mabatini           98\n",
       "Mission            95\n",
       "Mbugani            95\n",
       "Bwawani            91\n",
       "Bondeni            90\n",
       "Chang'Ombe         88\n",
       "Zahanati           86\n",
       "                 ... \n",
       "Nyunjwi             1\n",
       "Mwaburura           1\n",
       "Mwamidu             1\n",
       "Mwaluhende          1\n",
       "Mwangae             1\n",
       "Nyakahunga          1\n",
       "Tyula               1\n",
       "Bulyamuru           1\n",
       "Semaki A            1\n",
       "Mitimingi           1\n",
       "Jamusi Ng'Ambo      1\n",
       "Mpunga Relini       1\n",
       "Mtitaa              1\n",
       "Kashenye            1\n",
       "Kagoma A            1\n",
       "Mwanghalanga B      1\n",
       "Mnogelwa            1\n",
       "Ilundo              1\n",
       "Ivangalala          1\n",
       "Engusero A          1\n",
       "Rwamalebe           1\n",
       "Mabombani           1\n",
       "Salong'We A         1\n",
       "Masasi A            1\n",
       "Kokakwe             1\n",
       "Mnafu               1\n",
       "W                   1\n",
       "Unyakhae            1\n",
       "Naipuli             1\n",
       "Uhamiaji            1\n",
       "Name: subvillage, Length: 19287, dtype: int64"
      ]
     },
     "execution_count": 14,
     "metadata": {},
     "output_type": "execute_result"
    }
   ],
   "source": [
    "#analyzing sub-village\n",
    "#Checking number of unique values to categorize subvillage\n",
    "print('Number of Sub-villages: ', len(final_train_df.subvillage.value_counts()))\n",
    "final_train_df.subvillage.value_counts()"
   ]
  },
  {
   "cell_type": "code",
   "execution_count": 15,
   "metadata": {
    "collapsed": true
   },
   "outputs": [],
   "source": [
    "# As there are so many unique values, high frequency values will not be able to dominate other variables. \n",
    "# Hence, it is advisable to remove the column from dataset.\n",
    "final_train_df = final_train_df.drop('subvillage', axis=1)"
   ]
  },
  {
   "cell_type": "code",
   "execution_count": 16,
   "metadata": {},
   "outputs": [
    {
     "data": {
      "text/plain": [
       "(59400, 39)"
      ]
     },
     "execution_count": 16,
     "metadata": {},
     "output_type": "execute_result"
    }
   ],
   "source": [
    "final_train_df.shape"
   ]
  },
  {
   "cell_type": "code",
   "execution_count": 17,
   "metadata": {},
   "outputs": [
    {
     "data": {
      "text/plain": [
       "True     51011\n",
       "False     5055\n",
       "Name: public_meeting, dtype: int64"
      ]
     },
     "execution_count": 17,
     "metadata": {},
     "output_type": "execute_result"
    }
   ],
   "source": [
    "#analyzing public_meeting variable\n",
    "final_train_df.public_meeting.value_counts()"
   ]
  },
  {
   "cell_type": "code",
   "execution_count": 18,
   "metadata": {},
   "outputs": [
    {
     "data": {
      "text/html": [
       "<div>\n",
       "<style>\n",
       "    .dataframe thead tr:only-child th {\n",
       "        text-align: right;\n",
       "    }\n",
       "\n",
       "    .dataframe thead th {\n",
       "        text-align: left;\n",
       "    }\n",
       "\n",
       "    .dataframe tbody tr th {\n",
       "        vertical-align: top;\n",
       "    }\n",
       "</style>\n",
       "<table border=\"1\" class=\"dataframe\">\n",
       "  <thead>\n",
       "    <tr style=\"text-align: right;\">\n",
       "      <th></th>\n",
       "      <th>public_meeting</th>\n",
       "    </tr>\n",
       "    <tr>\n",
       "      <th>status_group</th>\n",
       "      <th></th>\n",
       "    </tr>\n",
       "  </thead>\n",
       "  <tbody>\n",
       "    <tr>\n",
       "      <th>functional</th>\n",
       "      <td>28408</td>\n",
       "    </tr>\n",
       "    <tr>\n",
       "      <th>functional needs repair</th>\n",
       "      <td>3719</td>\n",
       "    </tr>\n",
       "    <tr>\n",
       "      <th>non functional</th>\n",
       "      <td>18884</td>\n",
       "    </tr>\n",
       "  </tbody>\n",
       "</table>\n",
       "</div>"
      ],
      "text/plain": [
       "                         public_meeting\n",
       "status_group                           \n",
       "functional                        28408\n",
       "functional needs repair            3719\n",
       "non functional                    18884"
      ]
     },
     "execution_count": 18,
     "metadata": {},
     "output_type": "execute_result"
    }
   ],
   "source": [
    "#analyzing public_meeting variable wrt status_group\n",
    "final_train_df.public_meeting.value_counts()\n",
    "final_train_df.groupby('status_group')[['public_meeting']].sum()"
   ]
  },
  {
   "cell_type": "code",
   "execution_count": 19,
   "metadata": {},
   "outputs": [
    {
     "data": {
      "text/plain": [
       "amount_tsh           57.807800\n",
       "gps_height            0.462402\n",
       "longitude            -4.191046\n",
       "latitude             -0.152037\n",
       "num_private          91.933750\n",
       "region_code           3.173818\n",
       "district_code         3.962045\n",
       "population           12.660714\n",
       "public_meeting       -2.861945\n",
       "permit               -0.819382\n",
       "construction_year    -0.634928\n",
       "dtype: float64"
      ]
     },
     "execution_count": 19,
     "metadata": {},
     "output_type": "execute_result"
    }
   ],
   "source": [
    "final_train_df.skew()"
   ]
  },
  {
   "cell_type": "code",
   "execution_count": 20,
   "metadata": {
    "collapsed": true
   },
   "outputs": [],
   "source": [
    "final_train_df.public_meeting = final_train_df.public_meeting.fillna(True)"
   ]
  },
  {
   "cell_type": "code",
   "execution_count": 21,
   "metadata": {},
   "outputs": [
    {
     "data": {
      "text/plain": [
       "VWC                 36793\n",
       "WUG                  5206\n",
       "Water authority      3153\n",
       "WUA                  2883\n",
       "Water Board          2748\n",
       "Parastatal           1680\n",
       "Private operator     1063\n",
       "Company              1061\n",
       "Other                 766\n",
       "SWC                    97\n",
       "Trust                  72\n",
       "None                    1\n",
       "Name: scheme_management, dtype: int64"
      ]
     },
     "execution_count": 21,
     "metadata": {},
     "output_type": "execute_result"
    }
   ],
   "source": [
    "#analyzing scheme_management variable\n",
    "final_train_df.scheme_management.value_counts()"
   ]
  },
  {
   "cell_type": "code",
   "execution_count": 22,
   "metadata": {},
   "outputs": [
    {
     "data": {
      "text/plain": [
       "VWC                36793\n",
       "other               5876\n",
       "WUG                 5206\n",
       "Water authority     3153\n",
       "WUA                 2883\n",
       "Water Board         2748\n",
       "Parastatal          1680\n",
       "Company             1061\n",
       "Name: scheme_management, dtype: int64"
      ]
     },
     "execution_count": 22,
     "metadata": {},
     "output_type": "execute_result"
    }
   ],
   "source": [
    "# Since the 'scheme_management' variable includes high frequency and a few low frequency variables,\n",
    "#we reduce the number of levels for that variable\n",
    "highFrequencyEntity = ('VWC','WUG','Water authority','WUA','Water Board','Parastatal','Private Operator','Company')        \n",
    "final_train_df['scheme_management'] = final_train_df.apply(lambda row: wrangler_function(row,'scheme_management',highFrequencyEntity), axis=1)\n",
    "final_train_df.scheme_management.value_counts()"
   ]
  },
  {
   "cell_type": "code",
   "execution_count": 23,
   "metadata": {},
   "outputs": [
    {
     "data": {
      "text/plain": [
       "K                                               682\n",
       "None                                            644\n",
       "Borehole                                        546\n",
       "Chalinze wate                                   405\n",
       "M                                               400\n",
       "DANIDA                                          379\n",
       "Government                                      320\n",
       "Ngana water supplied scheme                     270\n",
       "wanging'ombe water supply s                     261\n",
       "wanging'ombe supply scheme                      234\n",
       "I                                               229\n",
       "Bagamoyo wate                                   229\n",
       "Uroki-Bomang'ombe water sup                     209\n",
       "N                                               204\n",
       "Kirua kahe gravity water supply trust           193\n",
       "Machumba estate pipe line                       185\n",
       "Makwale water supplied sche                     166\n",
       "Kijiji                                          161\n",
       "S                                               154\n",
       "Losaa-Kia water supply                          152\n",
       "Handeni Trunk Main(H                            152\n",
       "mtwango water supply scheme                     152\n",
       "Mkongoro Two                                    147\n",
       "Roman                                           139\n",
       "Mkongoro One                                    128\n",
       "Maambreni gravity water supply                  125\n",
       "Lyamungo umbwe water supply                     120\n",
       "Kirua kahe pumping water trust                  113\n",
       "Ki                                              107\n",
       "Nabaiye pipe line                               107\n",
       "                                               ... \n",
       "KKKT                                              1\n",
       "Zimba water supply                                1\n",
       "Kamsunzu Water Supply                             1\n",
       "Sakidawa                                          1\n",
       "Kubugege Solar Energy                             1\n",
       "Ngoyoni hospital water supply                     1\n",
       "Mkeyui streem                                     1\n",
       "IKTM 2 water supply                               1\n",
       "Bany                                              1\n",
       "Nyakayenzi gravity point source water supply      1\n",
       "Pwani water supply (Ruvu)                         1\n",
       "Ketumbeine water project                          1\n",
       "Tove-mtwango                                      1\n",
       "Madimba water supply                              1\n",
       "Kasahunga pipe scheme                             1\n",
       "Kigonigoni water supply                           1\n",
       "Kifunikoni water supply                           1\n",
       "TM lawate  water supply                           1\n",
       "Manjau                                            1\n",
       "Mwamanoni village water pipe scheme               1\n",
       "Gayu                                              1\n",
       "Mirumba                                           1\n",
       "fini water                                        1\n",
       "Lwamgasa                                          1\n",
       "BL Nkenku kijijini                                1\n",
       "Kasota                                            1\n",
       "Ndea Karamba water supply                         1\n",
       "Mbawala chini water suplly                        1\n",
       "Ushara lawate water supply                        1\n",
       "Upper RUVU                                        1\n",
       "Name: scheme_name, Length: 2696, dtype: int64"
      ]
     },
     "execution_count": 23,
     "metadata": {},
     "output_type": "execute_result"
    }
   ],
   "source": [
    "#analyzing scheme_name variable\n",
    "final_train_df.scheme_name.value_counts()"
   ]
  },
  {
   "cell_type": "code",
   "execution_count": 24,
   "metadata": {
    "collapsed": true
   },
   "outputs": [],
   "source": [
    "# As there are so many unique values, high frequency values will not be able to dominate other variables. \n",
    "# Hence, it is advisable to remove the column from dataset.\n",
    "final_train_df = final_train_df.drop('scheme_name', axis=1)"
   ]
  },
  {
   "cell_type": "code",
   "execution_count": 25,
   "metadata": {},
   "outputs": [
    {
     "data": {
      "text/plain": [
       "True     38852\n",
       "False    17492\n",
       "Name: permit, dtype: int64"
      ]
     },
     "execution_count": 25,
     "metadata": {},
     "output_type": "execute_result"
    }
   ],
   "source": [
    "#analyzing permit variable\n",
    "final_train_df.permit.value_counts()"
   ]
  },
  {
   "cell_type": "code",
   "execution_count": 26,
   "metadata": {},
   "outputs": [
    {
     "data": {
      "text/html": [
       "<div>\n",
       "<style>\n",
       "    .dataframe thead tr:only-child th {\n",
       "        text-align: right;\n",
       "    }\n",
       "\n",
       "    .dataframe thead th {\n",
       "        text-align: left;\n",
       "    }\n",
       "\n",
       "    .dataframe tbody tr th {\n",
       "        vertical-align: top;\n",
       "    }\n",
       "</style>\n",
       "<table border=\"1\" class=\"dataframe\">\n",
       "  <thead>\n",
       "    <tr style=\"text-align: right;\">\n",
       "      <th></th>\n",
       "      <th>permit</th>\n",
       "    </tr>\n",
       "    <tr>\n",
       "      <th>status_group</th>\n",
       "      <th></th>\n",
       "    </tr>\n",
       "  </thead>\n",
       "  <tbody>\n",
       "    <tr>\n",
       "      <th>functional</th>\n",
       "      <td>21541</td>\n",
       "    </tr>\n",
       "    <tr>\n",
       "      <th>functional needs repair</th>\n",
       "      <td>2697</td>\n",
       "    </tr>\n",
       "    <tr>\n",
       "      <th>non functional</th>\n",
       "      <td>14614</td>\n",
       "    </tr>\n",
       "  </tbody>\n",
       "</table>\n",
       "</div>"
      ],
      "text/plain": [
       "                         permit\n",
       "status_group                   \n",
       "functional                21541\n",
       "functional needs repair    2697\n",
       "non functional            14614"
      ]
     },
     "execution_count": 26,
     "metadata": {},
     "output_type": "execute_result"
    }
   ],
   "source": [
    "final_train_df.groupby('status_group')[['permit']].sum()"
   ]
  },
  {
   "cell_type": "code",
   "execution_count": 27,
   "metadata": {
    "collapsed": true
   },
   "outputs": [],
   "source": [
    "final_train_df.permit = final_train_df.permit.fillna(True)"
   ]
  },
  {
   "cell_type": "code",
   "execution_count": 28,
   "metadata": {},
   "outputs": [
    {
     "data": {
      "text/plain": [
       "0       58643\n",
       "6          81\n",
       "1          73\n",
       "5          46\n",
       "8          46\n",
       "32         40\n",
       "45         36\n",
       "15         35\n",
       "39         30\n",
       "93         28\n",
       "3          27\n",
       "7          26\n",
       "2          23\n",
       "65         22\n",
       "47         21\n",
       "102        20\n",
       "4          20\n",
       "17         17\n",
       "80         15\n",
       "20         14\n",
       "25         12\n",
       "11         11\n",
       "41         10\n",
       "34         10\n",
       "16          8\n",
       "120         7\n",
       "150         6\n",
       "22          6\n",
       "12          5\n",
       "24          5\n",
       "        ...  \n",
       "14          3\n",
       "61          3\n",
       "27          2\n",
       "26          2\n",
       "160         1\n",
       "30          1\n",
       "698         1\n",
       "60          1\n",
       "1402        1\n",
       "450         1\n",
       "668         1\n",
       "131         1\n",
       "35          1\n",
       "672         1\n",
       "42          1\n",
       "136         1\n",
       "87          1\n",
       "300         1\n",
       "280         1\n",
       "141         1\n",
       "62          1\n",
       "111         1\n",
       "240         1\n",
       "1776        1\n",
       "755         1\n",
       "180         1\n",
       "213         1\n",
       "23          1\n",
       "55          1\n",
       "94          1\n",
       "Name: num_private, Length: 65, dtype: int64"
      ]
     },
     "execution_count": 28,
     "metadata": {},
     "output_type": "execute_result"
    }
   ],
   "source": [
    "#next we analyze with num_private column as it has a high skewness value\n",
    "final_train_df.num_private.value_counts()"
   ]
  },
  {
   "cell_type": "code",
   "execution_count": 29,
   "metadata": {
    "collapsed": true
   },
   "outputs": [],
   "source": [
    "#num_private column is removed as 99% of the column is filled with 0's\n",
    "final_train_df = final_train_df.drop('num_private', axis=1)"
   ]
  },
  {
   "cell_type": "code",
   "execution_count": 30,
   "metadata": {},
   "outputs": [
    {
     "data": {
      "text/plain": [
       "(59400, 37)"
      ]
     },
     "execution_count": 30,
     "metadata": {},
     "output_type": "execute_result"
    }
   ],
   "source": [
    "final_train_df.shape"
   ]
  },
  {
   "cell_type": "code",
   "execution_count": 31,
   "metadata": {},
   "outputs": [
    {
     "data": {
      "text/plain": [
       "GeoData Consultants Ltd    59400\n",
       "Name: recorded_by, dtype: int64"
      ]
     },
     "execution_count": 31,
     "metadata": {},
     "output_type": "execute_result"
    }
   ],
   "source": [
    "#analyzing recorded_by column\n",
    "final_train_df.recorded_by.value_counts()"
   ]
  },
  {
   "cell_type": "code",
   "execution_count": 32,
   "metadata": {
    "collapsed": true
   },
   "outputs": [],
   "source": [
    "#Remove recorded_by column as it has only one value for all rows\n",
    "final_train_df = final_train_df.drop('recorded_by', axis=1)"
   ]
  },
  {
   "cell_type": "code",
   "execution_count": 33,
   "metadata": {},
   "outputs": [
    {
     "data": {
      "text/plain": [
       "(59400, 36)"
      ]
     },
     "execution_count": 33,
     "metadata": {},
     "output_type": "execute_result"
    }
   ],
   "source": [
    "final_train_df.shape"
   ]
  },
  {
   "cell_type": "code",
   "execution_count": 34,
   "metadata": {},
   "outputs": [
    {
     "data": {
      "text/plain": [
       "none                       3563\n",
       "Shuleni                    1748\n",
       "Zahanati                    830\n",
       "Msikitini                   535\n",
       "Kanisani                    323\n",
       "Bombani                     271\n",
       "Sokoni                      260\n",
       "Ofisini                     254\n",
       "School                      208\n",
       "Shule Ya Msingi             199\n",
       "Shule                       152\n",
       "Sekondari                   146\n",
       "Muungano                    133\n",
       "Mkombozi                    111\n",
       "Madukani                    104\n",
       "Mbugani                      94\n",
       "Hospital                     94\n",
       "Upendo                       93\n",
       "Kituo Cha Afya               90\n",
       "Mkuyuni                      88\n",
       "Umoja                        84\n",
       "Center                       83\n",
       "Ccm                          81\n",
       "Kisimani                     78\n",
       "Mtakuja                      76\n",
       "Ofisi Ya Kijiji              76\n",
       "Tankini                      73\n",
       "Bwawani                      66\n",
       "Songambele                   66\n",
       "Maendeleo                    64\n",
       "                           ... \n",
       "Kwamkwanyule                  1\n",
       "Kwa Tofa Fungo                1\n",
       "Kwa Mzee Chimalila            1\n",
       "Gesusu Waibe                  1\n",
       "Mbueni A                      1\n",
       "Mwita Chota                   1\n",
       "Lwazi                         1\n",
       "Melani                        1\n",
       "Kwa Elifares Jafet            1\n",
       "Kiteke                        1\n",
       "Jiji                          1\n",
       "Mwanindo Primary School       1\n",
       "Kwaagustine                   1\n",
       "Kwa Mwadini                   1\n",
       "Kwa Hamis Mbaya               1\n",
       "Kwalikoko                     1\n",
       "Makaburini 2                  1\n",
       "Kwa Mchapawali                1\n",
       "Dambe                         1\n",
       "Omary Ngoma                   1\n",
       "Kwa Mw.Jackson                1\n",
       "Kwa Donath Malyango           1\n",
       "Mela                          1\n",
       "Halawa Group                  1\n",
       "Kwa Mwanzuzu                  1\n",
       "Manyota Primary School        1\n",
       "Elihabu                       1\n",
       "Kwa Abiud                     1\n",
       "Kwa John Olomi                1\n",
       "Bora                          1\n",
       "Name: wpt_name, Length: 37400, dtype: int64"
      ]
     },
     "execution_count": 34,
     "metadata": {},
     "output_type": "execute_result"
    }
   ],
   "source": [
    "#next we analyze with wpt_name column as it has a high skewness value\n",
    "final_train_df.wpt_name.value_counts()"
   ]
  },
  {
   "cell_type": "code",
   "execution_count": 35,
   "metadata": {
    "collapsed": true
   },
   "outputs": [],
   "source": [
    "#Remove wpt_name column as it has only one value for all rows\n",
    "final_train_df = final_train_df.drop('wpt_name', axis=1)"
   ]
  },
  {
   "cell_type": "code",
   "execution_count": 36,
   "metadata": {},
   "outputs": [
    {
     "data": {
      "text/plain": [
       "(59400, 35)"
      ]
     },
     "execution_count": 36,
     "metadata": {},
     "output_type": "execute_result"
    }
   ],
   "source": [
    "final_train_df.shape"
   ]
  },
  {
   "cell_type": "code",
   "execution_count": 37,
   "metadata": {
    "collapsed": true
   },
   "outputs": [],
   "source": [
    "#analyzing date_recorded column\n",
    "#final_train_df.date_recorded.unique()\n",
    "#from below we see that the recorded dates in the year 2004 and 2002 could possibly be outliers"
   ]
  },
  {
   "cell_type": "code",
   "execution_count": 38,
   "metadata": {},
   "outputs": [
    {
     "data": {
      "text/plain": [
       "0       20709\n",
       "2010     2645\n",
       "2008     2613\n",
       "2009     2533\n",
       "2000     2091\n",
       "2007     1587\n",
       "2006     1471\n",
       "2003     1286\n",
       "2011     1256\n",
       "2004     1123\n",
       "2012     1084\n",
       "2002     1075\n",
       "1978     1037\n",
       "1995     1014\n",
       "2005     1011\n",
       "1999      979\n",
       "1998      966\n",
       "1990      954\n",
       "1985      945\n",
       "1980      811\n",
       "1996      811\n",
       "1984      779\n",
       "1982      744\n",
       "1994      738\n",
       "1972      708\n",
       "1974      676\n",
       "1997      644\n",
       "1992      640\n",
       "1993      608\n",
       "2001      540\n",
       "1988      521\n",
       "1983      488\n",
       "1975      437\n",
       "1986      434\n",
       "1976      414\n",
       "1970      411\n",
       "1991      324\n",
       "1989      316\n",
       "1987      302\n",
       "1981      238\n",
       "1977      202\n",
       "1979      192\n",
       "1973      184\n",
       "2013      176\n",
       "1971      145\n",
       "1960      102\n",
       "1967       88\n",
       "1963       85\n",
       "1968       77\n",
       "1969       59\n",
       "1964       40\n",
       "1962       30\n",
       "1961       21\n",
       "1965       19\n",
       "1966       17\n",
       "Name: construction_year, dtype: int64"
      ]
     },
     "execution_count": 38,
     "metadata": {},
     "output_type": "execute_result"
    }
   ],
   "source": [
    "#analyzing construction_year feature\n",
    "final_train_df.construction_year.value_counts()"
   ]
  },
  {
   "cell_type": "code",
   "execution_count": 39,
   "metadata": {
    "collapsed": true
   },
   "outputs": [],
   "source": [
    "#imputing the construction_year null values with the median of this variable\n",
    "final_train_df.loc[(final_train_df.construction_year == 0), 'construction_year'] = final_train_df.construction_year.median()"
   ]
  },
  {
   "cell_type": "code",
   "execution_count": 40,
   "metadata": {
    "collapsed": true
   },
   "outputs": [],
   "source": [
    "#converting date_recorded and construction_year columns from object to datetime to  further process it\n",
    "final_train_df['date_recorded'] = pd.to_datetime(final_train_df['date_recorded'])"
   ]
  },
  {
   "cell_type": "code",
   "execution_count": 41,
   "metadata": {},
   "outputs": [
    {
     "data": {
      "text/plain": [
       "2011-03-15    572\n",
       "2011-03-17    558\n",
       "2013-02-03    546\n",
       "2011-03-14    520\n",
       "2011-03-16    513\n",
       "2011-03-18    497\n",
       "2011-03-19    466\n",
       "2013-02-04    464\n",
       "2013-01-29    459\n",
       "2011-03-04    458\n",
       "2013-02-14    444\n",
       "2013-01-24    435\n",
       "2011-03-05    434\n",
       "2013-02-15    429\n",
       "2013-03-15    428\n",
       "2011-03-11    426\n",
       "2013-01-30    421\n",
       "2013-02-16    418\n",
       "2011-03-23    417\n",
       "2011-03-09    416\n",
       "2013-01-18    409\n",
       "2011-03-30    391\n",
       "2013-02-26    391\n",
       "2013-03-19    381\n",
       "2011-03-24    381\n",
       "2013-02-13    380\n",
       "2011-03-12    379\n",
       "2013-01-23    379\n",
       "2011-03-03    378\n",
       "2013-01-28    376\n",
       "             ... \n",
       "2011-09-25      1\n",
       "2012-01-21      1\n",
       "2011-09-12      1\n",
       "2004-04-01      1\n",
       "2013-01-01      1\n",
       "2012-01-25      1\n",
       "2011-08-31      1\n",
       "2004-04-05      1\n",
       "2011-09-26      1\n",
       "2011-09-20      1\n",
       "2011-09-01      1\n",
       "2011-09-06      1\n",
       "2011-09-23      1\n",
       "2011-09-05      1\n",
       "2004-01-07      1\n",
       "2011-09-17      1\n",
       "2004-03-06      1\n",
       "2011-09-21      1\n",
       "2011-09-19      1\n",
       "2011-09-11      1\n",
       "2013-12-01      1\n",
       "2011-09-15      1\n",
       "2011-08-30      1\n",
       "2011-09-28      1\n",
       "2002-10-14      1\n",
       "2004-06-01      1\n",
       "2011-09-08      1\n",
       "2011-09-16      1\n",
       "2011-09-13      1\n",
       "2011-09-18      1\n",
       "Name: date_recorded, Length: 356, dtype: int64"
      ]
     },
     "execution_count": 41,
     "metadata": {},
     "output_type": "execute_result"
    }
   ],
   "source": [
    "final_train_df.date_recorded.value_counts()"
   ]
  },
  {
   "cell_type": "code",
   "execution_count": 42,
   "metadata": {},
   "outputs": [
    {
     "data": {
      "text/plain": [
       "id\n",
       "69572    12.0\n",
       "8776      3.0\n",
       "34310     4.0\n",
       "67743    27.0\n",
       "19728    25.0\n",
       "9944      2.0\n",
       "19816    26.0\n",
       "54551    26.0\n",
       "53934    26.0\n",
       "46144    25.0\n",
       "49056     0.0\n",
       "50409    26.0\n",
       "36957    26.0\n",
       "50495     4.0\n",
       "53752    26.0\n",
       "61848    20.0\n",
       "48451    33.0\n",
       "58155    33.0\n",
       "34169    12.0\n",
       "18274    19.0\n",
       "48375     3.0\n",
       "6091     27.0\n",
       "58500    33.0\n",
       "37862     2.0\n",
       "51058     4.0\n",
       "22308    39.0\n",
       "55012     2.0\n",
       "20145    25.0\n",
       "19685    13.0\n",
       "69124    11.0\n",
       "         ... \n",
       "14796    27.0\n",
       "20387    26.0\n",
       "29940    26.0\n",
       "15233    25.0\n",
       "49651    26.0\n",
       "50998     6.0\n",
       "34716    23.0\n",
       "43986    26.0\n",
       "38067     3.0\n",
       "58255    25.0\n",
       "30647    12.0\n",
       "67885    19.0\n",
       "47002     5.0\n",
       "44616     5.0\n",
       "72148    25.0\n",
       "34473     1.0\n",
       "34952     2.0\n",
       "26640    13.0\n",
       "72559    18.0\n",
       "30410     2.0\n",
       "13677    20.0\n",
       "44885    46.0\n",
       "40607    25.0\n",
       "48348    26.0\n",
       "11164     4.0\n",
       "60739    14.0\n",
       "27263    15.0\n",
       "37057    25.0\n",
       "31282    25.0\n",
       "26348     9.0\n",
       "Name: age, Length: 59400, dtype: float64"
      ]
     },
     "execution_count": 42,
     "metadata": {},
     "output_type": "execute_result"
    }
   ],
   "source": [
    "#creating a new variable, age using the construction_year and date_recorded features, without removing the outliers\n",
    "final_train_df['age'] = (final_train_df['date_recorded'].dt.year).sub(final_train_df['construction_year'], axis=0)\n",
    "final_train_df['age']"
   ]
  },
  {
   "cell_type": "code",
   "execution_count": 43,
   "metadata": {},
   "outputs": [
    {
     "data": {
      "text/plain": [
       "amount_tsh           57.807800\n",
       "gps_height            0.462402\n",
       "longitude            -4.191046\n",
       "latitude             -0.152037\n",
       "region_code           3.173818\n",
       "district_code         3.962045\n",
       "population           12.660714\n",
       "public_meeting       -2.973921\n",
       "permit               -0.901815\n",
       "construction_year     0.093218\n",
       "age                  -0.050716\n",
       "dtype: float64"
      ]
     },
     "execution_count": 43,
     "metadata": {},
     "output_type": "execute_result"
    }
   ],
   "source": [
    "final_train_df.skew()\n",
    "#as we see below the age feature has negative skewness due to the possibility of outliers in date_recorded column\n",
    "#now we remove the outliers from the date_recorded column and construct the age column again "
   ]
  },
  {
   "cell_type": "code",
   "execution_count": 44,
   "metadata": {
    "collapsed": true
   },
   "outputs": [],
   "source": [
    "#deleting outliers from date_recorded feature\n",
    "final_train_df = final_train_df[final_train_df.date_recorded != '2004-08-01']\n",
    "final_train_df = final_train_df[final_train_df.date_recorded != '2004-12-01']\n",
    "final_train_df = final_train_df[final_train_df.date_recorded != '2002-10-14']\n",
    "final_train_df = final_train_df[final_train_df.date_recorded != '2004-05-01']\n",
    "final_train_df = final_train_df[final_train_df.date_recorded != '2004-04-05']\n",
    "final_train_df = final_train_df[final_train_df.date_recorded != '2004-06-01']\n",
    "final_train_df = final_train_df[final_train_df.date_recorded != '2004-01-07']\n",
    "final_train_df = final_train_df[final_train_df.date_recorded != '2004-03-01']\n",
    "final_train_df = final_train_df[final_train_df.date_recorded != '2004-07-01']\n",
    "final_train_df = final_train_df[final_train_df.date_recorded != '2004-03-06']\n",
    "final_train_df = final_train_df[final_train_df.date_recorded != '2004-09-01']\n",
    "final_train_df = final_train_df[final_train_df.date_recorded != '2004-04-01']"
   ]
  },
  {
   "cell_type": "code",
   "execution_count": 45,
   "metadata": {
    "collapsed": true
   },
   "outputs": [],
   "source": [
    "#dropping the age column created before \n",
    "final_train_df = final_train_df.drop('age', axis=1)"
   ]
  },
  {
   "cell_type": "code",
   "execution_count": 46,
   "metadata": {},
   "outputs": [
    {
     "data": {
      "text/plain": [
       "id\n",
       "69572    12.0\n",
       "8776      3.0\n",
       "34310     4.0\n",
       "67743    27.0\n",
       "19728    25.0\n",
       "Name: age_wo, dtype: float64"
      ]
     },
     "execution_count": 46,
     "metadata": {},
     "output_type": "execute_result"
    }
   ],
   "source": [
    "#creating the age column after removing the outliers from date_recorded column\n",
    "final_train_df['age_wo'] = (final_train_df['date_recorded'].dt.year).sub(final_train_df['construction_year'], axis=0)\n",
    "final_train_df.age_wo.head()"
   ]
  },
  {
   "cell_type": "code",
   "execution_count": 47,
   "metadata": {
    "collapsed": true
   },
   "outputs": [],
   "source": [
    "final_train_df.loc[(final_train_df.age_wo == 0), 'age_wo'] = final_train_df.age_wo.median()"
   ]
  },
  {
   "cell_type": "code",
   "execution_count": 48,
   "metadata": {
    "scrolled": true
   },
   "outputs": [
    {
     "data": {
      "text/plain": [
       "amount_tsh           57.793042\n",
       "gps_height            0.462127\n",
       "longitude            -4.190498\n",
       "latitude             -0.151936\n",
       "region_code           3.175380\n",
       "district_code         3.964930\n",
       "population           12.659727\n",
       "public_meeting       -2.973674\n",
       "permit               -0.902070\n",
       "construction_year     0.093213\n",
       "age_wo               -0.068485\n",
       "dtype: float64"
      ]
     },
     "execution_count": 48,
     "metadata": {},
     "output_type": "execute_result"
    }
   ],
   "source": [
    "#checking for skewness again\n",
    "final_train_df.skew()\n",
    "#now we see that the skewness for age_wo feature is highly small as compared to the earlier age feature(which included the outliers)"
   ]
  },
  {
   "cell_type": "code",
   "execution_count": 49,
   "metadata": {
    "collapsed": true
   },
   "outputs": [],
   "source": [
    "#since we have the age_wo feature, we can remove date_recorded and construction_year features from our dataframe\n",
    "final_train_df = final_train_df.drop('date_recorded', axis=1)\n",
    "#final_train_df = final_train_df.drop('construction_year', axis=1)"
   ]
  },
  {
   "cell_type": "code",
   "execution_count": 50,
   "metadata": {},
   "outputs": [
    {
     "data": {
      "text/plain": [
       "(59369, 35)"
      ]
     },
     "execution_count": 50,
     "metadata": {},
     "output_type": "execute_result"
    }
   ],
   "source": [
    "final_train_df.shape"
   ]
  },
  {
   "cell_type": "code",
   "execution_count": 51,
   "metadata": {},
   "outputs": [
    {
     "data": {
      "text/plain": [
       "gravity                      26766\n",
       "nira/tanira                   8150\n",
       "other                         6424\n",
       "submersible                   4764\n",
       "swn 80                        3668\n",
       "mono                          2865\n",
       "india mark ii                 2398\n",
       "afridev                       1769\n",
       "ksb                           1415\n",
       "other - rope pump              450\n",
       "other - swn 81                 229\n",
       "windmill                       117\n",
       "india mark iii                  97\n",
       "cemo                            90\n",
       "other - play pump               85\n",
       "walimi                          48\n",
       "climax                          32\n",
       "other - mkulima/shinyanga        2\n",
       "Name: extraction_type, dtype: int64"
      ]
     },
     "execution_count": 51,
     "metadata": {},
     "output_type": "execute_result"
    }
   ],
   "source": [
    "#analyzing all extraction variables\n",
    "final_train_df.extraction_type.value_counts()"
   ]
  },
  {
   "cell_type": "code",
   "execution_count": 52,
   "metadata": {},
   "outputs": [
    {
     "data": {
      "text/plain": [
       "gravity         26766\n",
       "handpump        16446\n",
       "other            6424\n",
       "submersible      6179\n",
       "motorpump        2987\n",
       "rope pump         450\n",
       "wind-powered      117\n",
       "Name: extraction_type_class, dtype: int64"
      ]
     },
     "execution_count": 52,
     "metadata": {},
     "output_type": "execute_result"
    }
   ],
   "source": [
    "final_train_df.extraction_type_class.value_counts()"
   ]
  },
  {
   "cell_type": "code",
   "execution_count": 53,
   "metadata": {},
   "outputs": [
    {
     "data": {
      "text/plain": [
       "gravity            26766\n",
       "nira/tanira         8150\n",
       "other               6424\n",
       "submersible         6179\n",
       "swn 80              3668\n",
       "mono                2865\n",
       "india mark ii       2398\n",
       "afridev             1769\n",
       "rope pump            450\n",
       "other handpump       364\n",
       "other motorpump      122\n",
       "wind-powered         117\n",
       "india mark iii        97\n",
       "Name: extraction_type_group, dtype: int64"
      ]
     },
     "execution_count": 53,
     "metadata": {},
     "output_type": "execute_result"
    }
   ],
   "source": [
    "final_train_df.extraction_type_group.value_counts()"
   ]
  },
  {
   "cell_type": "code",
   "execution_count": 54,
   "metadata": {
    "collapsed": true
   },
   "outputs": [],
   "source": [
    "#after observing all three extraction variables, we decide to keep extraction_type_class as it provides a more compact grouping for variable extraction.\n",
    "final_train_df = final_train_df.drop('extraction_type_group', axis=1)"
   ]
  },
  {
   "cell_type": "code",
   "execution_count": 55,
   "metadata": {
    "collapsed": true
   },
   "outputs": [],
   "source": [
    "final_train_df = final_train_df.drop('extraction_type', axis=1)"
   ]
  },
  {
   "cell_type": "code",
   "execution_count": 56,
   "metadata": {},
   "outputs": [
    {
     "data": {
      "text/plain": [
       "(59369, 33)"
      ]
     },
     "execution_count": 56,
     "metadata": {},
     "output_type": "execute_result"
    }
   ],
   "source": [
    "final_train_df.shape"
   ]
  },
  {
   "cell_type": "code",
   "execution_count": 57,
   "metadata": {},
   "outputs": [
    {
     "data": {
      "text/plain": [
       "vwc                 40484\n",
       "wug                  6511\n",
       "water board          2933\n",
       "wua                  2535\n",
       "private operator     1970\n",
       "parastatal           1767\n",
       "water authority       904\n",
       "other                 843\n",
       "company               685\n",
       "unknown               560\n",
       "other - school         99\n",
       "trust                  78\n",
       "Name: management, dtype: int64"
      ]
     },
     "execution_count": 57,
     "metadata": {},
     "output_type": "execute_result"
    }
   ],
   "source": [
    "#analyzing the management variables\n",
    "final_train_df.management.value_counts()"
   ]
  },
  {
   "cell_type": "code",
   "execution_count": 58,
   "metadata": {},
   "outputs": [
    {
     "data": {
      "text/plain": [
       "VWC                36771\n",
       "other               5870\n",
       "WUG                 5204\n",
       "Water authority     3153\n",
       "WUA                 2883\n",
       "Water Board         2748\n",
       "Parastatal          1679\n",
       "Company             1061\n",
       "Name: scheme_management, dtype: int64"
      ]
     },
     "execution_count": 58,
     "metadata": {},
     "output_type": "execute_result"
    }
   ],
   "source": [
    "final_train_df.scheme_management.value_counts()"
   ]
  },
  {
   "cell_type": "code",
   "execution_count": 59,
   "metadata": {
    "collapsed": true
   },
   "outputs": [],
   "source": [
    "#since scheme_management better represent management variable, we keep that and remove management variable\n",
    "final_train_df = final_train_df.drop('management', axis=1)"
   ]
  },
  {
   "cell_type": "code",
   "execution_count": 60,
   "metadata": {},
   "outputs": [
    {
     "data": {
      "text/plain": [
       "(59369, 32)"
      ]
     },
     "execution_count": 60,
     "metadata": {},
     "output_type": "execute_result"
    }
   ],
   "source": [
    "final_train_df.shape"
   ]
  },
  {
   "cell_type": "code",
   "execution_count": 61,
   "metadata": {},
   "outputs": [
    {
     "data": {
      "text/plain": [
       "user-group    52463\n",
       "commercial     3637\n",
       "parastatal     1767\n",
       "other           942\n",
       "unknown         560\n",
       "Name: management_group, dtype: int64"
      ]
     },
     "execution_count": 61,
     "metadata": {},
     "output_type": "execute_result"
    }
   ],
   "source": [
    "final_train_df.management_group.value_counts()\n",
    "#from below, we see user-group dominates the management_group values, thus we remove the management_group feature"
   ]
  },
  {
   "cell_type": "code",
   "execution_count": 62,
   "metadata": {},
   "outputs": [
    {
     "data": {
      "text/plain": [
       "user-group    52463\n",
       "commercial     3637\n",
       "parastatal     1767\n",
       "other          1502\n",
       "Name: management_group, dtype: int64"
      ]
     },
     "execution_count": 62,
     "metadata": {},
     "output_type": "execute_result"
    }
   ],
   "source": [
    "highFrequencyEntity = ('user-group','commercial','parastatal','other')        \n",
    "final_train_df['management_group'] = final_train_df.apply(lambda row: wrangler_function(row,'management_group',highFrequencyEntity), axis=1)\n",
    "final_train_df.management_group.value_counts()"
   ]
  },
  {
   "cell_type": "code",
   "execution_count": 63,
   "metadata": {},
   "outputs": [
    {
     "data": {
      "text/plain": [
       "(59369, 32)"
      ]
     },
     "execution_count": 63,
     "metadata": {},
     "output_type": "execute_result"
    }
   ],
   "source": [
    "final_train_df.shape"
   ]
  },
  {
   "cell_type": "code",
   "execution_count": 64,
   "metadata": {},
   "outputs": [
    {
     "data": {
      "text/plain": [
       "never pay                25331\n",
       "pay per bucket            8981\n",
       "pay monthly               8300\n",
       "unknown                   8149\n",
       "pay when scheme fails     3912\n",
       "pay annually              3642\n",
       "other                     1054\n",
       "Name: payment, dtype: int64"
      ]
     },
     "execution_count": 64,
     "metadata": {},
     "output_type": "execute_result"
    }
   ],
   "source": [
    "#analyzing payment variable\n",
    "final_train_df.payment.value_counts()"
   ]
  },
  {
   "cell_type": "code",
   "execution_count": 65,
   "metadata": {},
   "outputs": [
    {
     "data": {
      "text/plain": [
       "never pay     25331\n",
       "per bucket     8981\n",
       "monthly        8300\n",
       "unknown        8149\n",
       "on failure     3912\n",
       "annually       3642\n",
       "other          1054\n",
       "Name: payment_type, dtype: int64"
      ]
     },
     "execution_count": 65,
     "metadata": {},
     "output_type": "execute_result"
    }
   ],
   "source": [
    "final_train_df.payment_type.value_counts()"
   ]
  },
  {
   "cell_type": "code",
   "execution_count": 66,
   "metadata": {
    "collapsed": true
   },
   "outputs": [],
   "source": [
    "#since the payment and payment_type have same values and value counts, we remove payment feature\n",
    "final_train_df = final_train_df.drop('payment', axis=1)"
   ]
  },
  {
   "cell_type": "code",
   "execution_count": 67,
   "metadata": {},
   "outputs": [
    {
     "data": {
      "text/plain": [
       "soft                  50793\n",
       "salty                  4853\n",
       "unknown                1875\n",
       "milky                   803\n",
       "coloured                490\n",
       "salty abandoned         338\n",
       "fluoride                200\n",
       "fluoride abandoned       17\n",
       "Name: water_quality, dtype: int64"
      ]
     },
     "execution_count": 67,
     "metadata": {},
     "output_type": "execute_result"
    }
   ],
   "source": [
    "#analyzing water quality features\n",
    "final_train_df.water_quality.value_counts()"
   ]
  },
  {
   "cell_type": "code",
   "execution_count": 68,
   "metadata": {},
   "outputs": [
    {
     "data": {
      "text/plain": [
       "good        50793\n",
       "salty        5191\n",
       "unknown      1875\n",
       "milky         803\n",
       "colored       490\n",
       "fluoride      217\n",
       "Name: quality_group, dtype: int64"
      ]
     },
     "execution_count": 68,
     "metadata": {},
     "output_type": "execute_result"
    }
   ],
   "source": [
    "final_train_df.quality_group.value_counts()"
   ]
  },
  {
   "cell_type": "code",
   "execution_count": 69,
   "metadata": {
    "collapsed": true
   },
   "outputs": [],
   "source": [
    "#we keep quality_group and remove water_quality from above analysis\n",
    "final_train_df = final_train_df.drop('water_quality', axis=1)"
   ]
  },
  {
   "cell_type": "code",
   "execution_count": 70,
   "metadata": {},
   "outputs": [
    {
     "data": {
      "text/plain": [
       "enough          33171\n",
       "insufficient    15122\n",
       "dry              6241\n",
       "seasonal         4047\n",
       "unknown           788\n",
       "Name: quantity_group, dtype: int64"
      ]
     },
     "execution_count": 70,
     "metadata": {},
     "output_type": "execute_result"
    }
   ],
   "source": [
    "#analyzing quantity variables\n",
    "final_train_df.quantity_group.value_counts()"
   ]
  },
  {
   "cell_type": "code",
   "execution_count": 71,
   "metadata": {},
   "outputs": [
    {
     "data": {
      "text/plain": [
       "enough          33171\n",
       "insufficient    15122\n",
       "dry              6241\n",
       "seasonal         4047\n",
       "unknown           788\n",
       "Name: quantity, dtype: int64"
      ]
     },
     "execution_count": 71,
     "metadata": {},
     "output_type": "execute_result"
    }
   ],
   "source": [
    "final_train_df.quantity.value_counts()"
   ]
  },
  {
   "cell_type": "code",
   "execution_count": 72,
   "metadata": {
    "collapsed": true
   },
   "outputs": [],
   "source": [
    "#since the quantity and quantity_group have same values and value counts, we remove quantity_group feature\n",
    "final_train_df = final_train_df.drop('quantity_group', axis=1)"
   ]
  },
  {
   "cell_type": "code",
   "execution_count": 73,
   "metadata": {},
   "outputs": [
    {
     "data": {
      "text/plain": [
       "communal standpipe             28515\n",
       "hand pump                      17477\n",
       "other                           6372\n",
       "communal standpipe multiple     6099\n",
       "improved spring                  783\n",
       "cattle trough                    116\n",
       "dam                                7\n",
       "Name: waterpoint_type, dtype: int64"
      ]
     },
     "execution_count": 73,
     "metadata": {},
     "output_type": "execute_result"
    }
   ],
   "source": [
    "#analyzing waterpoint features\n",
    "final_train_df.waterpoint_type.value_counts()"
   ]
  },
  {
   "cell_type": "code",
   "execution_count": 74,
   "metadata": {},
   "outputs": [
    {
     "data": {
      "text/plain": [
       "communal standpipe    34614\n",
       "hand pump             17477\n",
       "other                  6372\n",
       "improved spring         783\n",
       "cattle trough           116\n",
       "dam                       7\n",
       "Name: waterpoint_type_group, dtype: int64"
      ]
     },
     "execution_count": 74,
     "metadata": {},
     "output_type": "execute_result"
    }
   ],
   "source": [
    "final_train_df.waterpoint_type_group.value_counts()"
   ]
  },
  {
   "cell_type": "code",
   "execution_count": 75,
   "metadata": {
    "collapsed": true
   },
   "outputs": [],
   "source": [
    "#removing waterpoint_type feature\n",
    "final_train_df =final_train_df.drop('waterpoint_type', axis=1)"
   ]
  },
  {
   "cell_type": "code",
   "execution_count": 76,
   "metadata": {},
   "outputs": [
    {
     "data": {
      "text/plain": [
       "spring                  17010\n",
       "shallow well            16810\n",
       "machine dbh             11075\n",
       "river                    9610\n",
       "rainwater harvesting     2293\n",
       "hand dtw                  873\n",
       "lake                      764\n",
       "dam                       656\n",
       "other                     212\n",
       "unknown                    66\n",
       "Name: source, dtype: int64"
      ]
     },
     "execution_count": 76,
     "metadata": {},
     "output_type": "execute_result"
    }
   ],
   "source": [
    "#analyzing source features\n",
    "final_train_df.source.value_counts()"
   ]
  },
  {
   "cell_type": "code",
   "execution_count": 77,
   "metadata": {},
   "outputs": [
    {
     "data": {
      "text/plain": [
       "groundwater    45768\n",
       "surface        13323\n",
       "unknown          278\n",
       "Name: source_class, dtype: int64"
      ]
     },
     "execution_count": 77,
     "metadata": {},
     "output_type": "execute_result"
    }
   ],
   "source": [
    "final_train_df.source_class.value_counts()"
   ]
  },
  {
   "cell_type": "code",
   "execution_count": 78,
   "metadata": {},
   "outputs": [
    {
     "data": {
      "text/plain": [
       "spring                  17010\n",
       "shallow well            16810\n",
       "borehole                11948\n",
       "river/lake              10374\n",
       "rainwater harvesting     2293\n",
       "dam                       656\n",
       "other                     278\n",
       "Name: source_type, dtype: int64"
      ]
     },
     "execution_count": 78,
     "metadata": {},
     "output_type": "execute_result"
    }
   ],
   "source": [
    "final_train_df.source_type.value_counts()"
   ]
  },
  {
   "cell_type": "code",
   "execution_count": 79,
   "metadata": {},
   "outputs": [
    {
     "data": {
      "text/plain": [
       "spring          17010\n",
       "shallow well    16810\n",
       "borehole        11948\n",
       "river/lake      10374\n",
       "other            3227\n",
       "Name: source_type, dtype: int64"
      ]
     },
     "execution_count": 79,
     "metadata": {},
     "output_type": "execute_result"
    }
   ],
   "source": [
    "#removing the source feature from the dataset and transforming source_type\n",
    "final_train_df = final_train_df.drop('source', axis=1)\n",
    "highFrequencyEntity = ('spring','shallow well','borehole','river/lake','other')        \n",
    "final_train_df['source_type'] = final_train_df.apply(lambda row: wrangler_function(row,'source_type',highFrequencyEntity), axis=1)\n",
    "final_train_df.source_type.value_counts()"
   ]
  },
  {
   "cell_type": "code",
   "execution_count": 80,
   "metadata": {},
   "outputs": [
    {
     "data": {
      "text/plain": [
       " 0       20426\n",
       "-15         60\n",
       "-16         55\n",
       "-13         55\n",
       "-20         52\n",
       " 1290       52\n",
       "-14         51\n",
       " 303        51\n",
       "-18         49\n",
       "-19         47\n",
       " 1269       46\n",
       " 1295       46\n",
       " 1304       45\n",
       "-23         45\n",
       " 280        44\n",
       " 1538       44\n",
       " 1286       44\n",
       "-8          44\n",
       " 1332       43\n",
       "-17         43\n",
       " 320        43\n",
       " 1317       42\n",
       " 1293       42\n",
       " 1319       42\n",
       " 1359       42\n",
       " 1264       42\n",
       " 1288       42\n",
       " 1303       42\n",
       " 1401       42\n",
       "-6          41\n",
       "         ...  \n",
       " 2506        1\n",
       " 2023        1\n",
       "-53          1\n",
       " 2364        1\n",
       " 2332        1\n",
       " 2402        1\n",
       " 2236        1\n",
       " 2420        1\n",
       " 2291        1\n",
       " 2407        1\n",
       " 2080        1\n",
       " 2250        1\n",
       " 591         1\n",
       " 2378        1\n",
       " 2535        1\n",
       " 2614        1\n",
       " 2484        1\n",
       " 2450        1\n",
       " 2072        1\n",
       " 2286        1\n",
       " 2567        1\n",
       " 2322        1\n",
       " 2254        1\n",
       " 2264        1\n",
       " 2464        1\n",
       " 2285        1\n",
       " 2424        1\n",
       " 2552        1\n",
       " 2413        1\n",
       " 2385        1\n",
       "Name: gps_height, Length: 2428, dtype: int64"
      ]
     },
     "execution_count": 80,
     "metadata": {},
     "output_type": "execute_result"
    }
   ],
   "source": [
    "#analyzing gps_height feature\n",
    "final_train_df.gps_height.value_counts()"
   ]
  },
  {
   "cell_type": "code",
   "execution_count": 81,
   "metadata": {},
   "outputs": [
    {
     "data": {
      "text/plain": [
       "count    59369.000000\n",
       "mean       668.403190\n",
       "std        693.141417\n",
       "min        -90.000000\n",
       "25%          0.000000\n",
       "50%        369.000000\n",
       "75%       1320.000000\n",
       "max       2770.000000\n",
       "Name: gps_height, dtype: float64"
      ]
     },
     "execution_count": 81,
     "metadata": {},
     "output_type": "execute_result"
    }
   ],
   "source": [
    "final_train_df.gps_height.describe()"
   ]
  },
  {
   "cell_type": "code",
   "execution_count": 82,
   "metadata": {},
   "outputs": [
    {
     "data": {
      "text/html": [
       "<div>\n",
       "<style>\n",
       "    .dataframe thead tr:only-child th {\n",
       "        text-align: right;\n",
       "    }\n",
       "\n",
       "    .dataframe thead th {\n",
       "        text-align: left;\n",
       "    }\n",
       "\n",
       "    .dataframe tbody tr th {\n",
       "        vertical-align: top;\n",
       "    }\n",
       "</style>\n",
       "<table border=\"1\" class=\"dataframe\">\n",
       "  <thead>\n",
       "    <tr>\n",
       "      <th></th>\n",
       "      <th colspan=\"8\" halign=\"left\">latitude</th>\n",
       "      <th colspan=\"5\" halign=\"left\">longitude</th>\n",
       "      <th colspan=\"8\" halign=\"left\">gps_height</th>\n",
       "    </tr>\n",
       "    <tr>\n",
       "      <th></th>\n",
       "      <th>count</th>\n",
       "      <th>mean</th>\n",
       "      <th>std</th>\n",
       "      <th>min</th>\n",
       "      <th>25%</th>\n",
       "      <th>50%</th>\n",
       "      <th>75%</th>\n",
       "      <th>max</th>\n",
       "      <th>count</th>\n",
       "      <th>mean</th>\n",
       "      <th>...</th>\n",
       "      <th>75%</th>\n",
       "      <th>max</th>\n",
       "      <th>count</th>\n",
       "      <th>mean</th>\n",
       "      <th>std</th>\n",
       "      <th>min</th>\n",
       "      <th>25%</th>\n",
       "      <th>50%</th>\n",
       "      <th>75%</th>\n",
       "      <th>max</th>\n",
       "    </tr>\n",
       "    <tr>\n",
       "      <th>extraction_type_class</th>\n",
       "      <th></th>\n",
       "      <th></th>\n",
       "      <th></th>\n",
       "      <th></th>\n",
       "      <th></th>\n",
       "      <th></th>\n",
       "      <th></th>\n",
       "      <th></th>\n",
       "      <th></th>\n",
       "      <th></th>\n",
       "      <th></th>\n",
       "      <th></th>\n",
       "      <th></th>\n",
       "      <th></th>\n",
       "      <th></th>\n",
       "      <th></th>\n",
       "      <th></th>\n",
       "      <th></th>\n",
       "      <th></th>\n",
       "      <th></th>\n",
       "      <th></th>\n",
       "    </tr>\n",
       "  </thead>\n",
       "  <tbody>\n",
       "    <tr>\n",
       "      <th>gravity</th>\n",
       "      <td>6691.0</td>\n",
       "      <td>-5.977806</td>\n",
       "      <td>3.321408</td>\n",
       "      <td>-9.700965</td>\n",
       "      <td>-9.209535</td>\n",
       "      <td>-6.661262</td>\n",
       "      <td>-2.553213</td>\n",
       "      <td>-2.000000e-08</td>\n",
       "      <td>6691.0</td>\n",
       "      <td>32.915539</td>\n",
       "      <td>...</td>\n",
       "      <td>33.908424</td>\n",
       "      <td>39.102707</td>\n",
       "      <td>6691.0</td>\n",
       "      <td>0.0</td>\n",
       "      <td>0.0</td>\n",
       "      <td>0.0</td>\n",
       "      <td>0.0</td>\n",
       "      <td>0.0</td>\n",
       "      <td>0.0</td>\n",
       "      <td>0.0</td>\n",
       "    </tr>\n",
       "    <tr>\n",
       "      <th>handpump</th>\n",
       "      <td>8475.0</td>\n",
       "      <td>-3.713858</td>\n",
       "      <td>2.603232</td>\n",
       "      <td>-10.365883</td>\n",
       "      <td>-4.761784</td>\n",
       "      <td>-3.265976</td>\n",
       "      <td>-2.541962</td>\n",
       "      <td>-2.000000e-08</td>\n",
       "      <td>8475.0</td>\n",
       "      <td>28.127888</td>\n",
       "      <td>...</td>\n",
       "      <td>33.436079</td>\n",
       "      <td>40.092995</td>\n",
       "      <td>8475.0</td>\n",
       "      <td>0.0</td>\n",
       "      <td>0.0</td>\n",
       "      <td>0.0</td>\n",
       "      <td>0.0</td>\n",
       "      <td>0.0</td>\n",
       "      <td>0.0</td>\n",
       "      <td>0.0</td>\n",
       "    </tr>\n",
       "    <tr>\n",
       "      <th>motorpump</th>\n",
       "      <td>1422.0</td>\n",
       "      <td>-5.085989</td>\n",
       "      <td>1.681895</td>\n",
       "      <td>-9.174394</td>\n",
       "      <td>-6.140495</td>\n",
       "      <td>-5.563798</td>\n",
       "      <td>-4.576613</td>\n",
       "      <td>-2.000000e-08</td>\n",
       "      <td>1422.0</td>\n",
       "      <td>33.804613</td>\n",
       "      <td>...</td>\n",
       "      <td>35.918309</td>\n",
       "      <td>39.402391</td>\n",
       "      <td>1422.0</td>\n",
       "      <td>0.0</td>\n",
       "      <td>0.0</td>\n",
       "      <td>0.0</td>\n",
       "      <td>0.0</td>\n",
       "      <td>0.0</td>\n",
       "      <td>0.0</td>\n",
       "      <td>0.0</td>\n",
       "    </tr>\n",
       "    <tr>\n",
       "      <th>other</th>\n",
       "      <td>2545.0</td>\n",
       "      <td>-3.643832</td>\n",
       "      <td>2.048051</td>\n",
       "      <td>-9.605068</td>\n",
       "      <td>-4.677380</td>\n",
       "      <td>-3.732604</td>\n",
       "      <td>-2.599852</td>\n",
       "      <td>-2.000000e-08</td>\n",
       "      <td>2545.0</td>\n",
       "      <td>29.667804</td>\n",
       "      <td>...</td>\n",
       "      <td>33.350146</td>\n",
       "      <td>39.373839</td>\n",
       "      <td>2545.0</td>\n",
       "      <td>0.0</td>\n",
       "      <td>0.0</td>\n",
       "      <td>0.0</td>\n",
       "      <td>0.0</td>\n",
       "      <td>0.0</td>\n",
       "      <td>0.0</td>\n",
       "      <td>0.0</td>\n",
       "    </tr>\n",
       "    <tr>\n",
       "      <th>rope pump</th>\n",
       "      <td>58.0</td>\n",
       "      <td>-3.093599</td>\n",
       "      <td>0.526587</td>\n",
       "      <td>-3.684709</td>\n",
       "      <td>-3.612097</td>\n",
       "      <td>-3.272940</td>\n",
       "      <td>-2.526756</td>\n",
       "      <td>-2.404576e+00</td>\n",
       "      <td>58.0</td>\n",
       "      <td>32.219736</td>\n",
       "      <td>...</td>\n",
       "      <td>33.495207</td>\n",
       "      <td>33.550109</td>\n",
       "      <td>58.0</td>\n",
       "      <td>0.0</td>\n",
       "      <td>0.0</td>\n",
       "      <td>0.0</td>\n",
       "      <td>0.0</td>\n",
       "      <td>0.0</td>\n",
       "      <td>0.0</td>\n",
       "      <td>0.0</td>\n",
       "    </tr>\n",
       "    <tr>\n",
       "      <th>submersible</th>\n",
       "      <td>1178.0</td>\n",
       "      <td>-4.687664</td>\n",
       "      <td>2.503654</td>\n",
       "      <td>-10.341677</td>\n",
       "      <td>-6.371729</td>\n",
       "      <td>-5.067420</td>\n",
       "      <td>-2.971814</td>\n",
       "      <td>-2.000000e-08</td>\n",
       "      <td>1178.0</td>\n",
       "      <td>30.686069</td>\n",
       "      <td>...</td>\n",
       "      <td>36.393413</td>\n",
       "      <td>40.246246</td>\n",
       "      <td>1178.0</td>\n",
       "      <td>0.0</td>\n",
       "      <td>0.0</td>\n",
       "      <td>0.0</td>\n",
       "      <td>0.0</td>\n",
       "      <td>0.0</td>\n",
       "      <td>0.0</td>\n",
       "      <td>0.0</td>\n",
       "    </tr>\n",
       "    <tr>\n",
       "      <th>wind-powered</th>\n",
       "      <td>57.0</td>\n",
       "      <td>-4.900276</td>\n",
       "      <td>1.232458</td>\n",
       "      <td>-6.354010</td>\n",
       "      <td>-6.228150</td>\n",
       "      <td>-4.302425</td>\n",
       "      <td>-3.829409</td>\n",
       "      <td>-2.489090e+00</td>\n",
       "      <td>57.0</td>\n",
       "      <td>34.890073</td>\n",
       "      <td>...</td>\n",
       "      <td>35.862783</td>\n",
       "      <td>38.503072</td>\n",
       "      <td>57.0</td>\n",
       "      <td>0.0</td>\n",
       "      <td>0.0</td>\n",
       "      <td>0.0</td>\n",
       "      <td>0.0</td>\n",
       "      <td>0.0</td>\n",
       "      <td>0.0</td>\n",
       "      <td>0.0</td>\n",
       "    </tr>\n",
       "  </tbody>\n",
       "</table>\n",
       "<p>7 rows × 24 columns</p>\n",
       "</div>"
      ],
      "text/plain": [
       "                      latitude                                           \\\n",
       "                         count      mean       std        min       25%   \n",
       "extraction_type_class                                                     \n",
       "gravity                 6691.0 -5.977806  3.321408  -9.700965 -9.209535   \n",
       "handpump                8475.0 -3.713858  2.603232 -10.365883 -4.761784   \n",
       "motorpump               1422.0 -5.085989  1.681895  -9.174394 -6.140495   \n",
       "other                   2545.0 -3.643832  2.048051  -9.605068 -4.677380   \n",
       "rope pump                 58.0 -3.093599  0.526587  -3.684709 -3.612097   \n",
       "submersible             1178.0 -4.687664  2.503654 -10.341677 -6.371729   \n",
       "wind-powered              57.0 -4.900276  1.232458  -6.354010 -6.228150   \n",
       "\n",
       "                                                        longitude             \\\n",
       "                            50%       75%           max     count       mean   \n",
       "extraction_type_class                                                          \n",
       "gravity               -6.661262 -2.553213 -2.000000e-08    6691.0  32.915539   \n",
       "handpump              -3.265976 -2.541962 -2.000000e-08    8475.0  28.127888   \n",
       "motorpump             -5.563798 -4.576613 -2.000000e-08    1422.0  33.804613   \n",
       "other                 -3.732604 -2.599852 -2.000000e-08    2545.0  29.667804   \n",
       "rope pump             -3.272940 -2.526756 -2.404576e+00      58.0  32.219736   \n",
       "submersible           -5.067420 -2.971814 -2.000000e-08    1178.0  30.686069   \n",
       "wind-powered          -4.302425 -3.829409 -2.489090e+00      57.0  34.890073   \n",
       "\n",
       "                      ...                        gps_height                 \\\n",
       "                      ...         75%        max      count mean  std  min   \n",
       "extraction_type_class ...                                                    \n",
       "gravity               ...   33.908424  39.102707     6691.0  0.0  0.0  0.0   \n",
       "handpump              ...   33.436079  40.092995     8475.0  0.0  0.0  0.0   \n",
       "motorpump             ...   35.918309  39.402391     1422.0  0.0  0.0  0.0   \n",
       "other                 ...   33.350146  39.373839     2545.0  0.0  0.0  0.0   \n",
       "rope pump             ...   33.495207  33.550109       58.0  0.0  0.0  0.0   \n",
       "submersible           ...   36.393413  40.246246     1178.0  0.0  0.0  0.0   \n",
       "wind-powered          ...   35.862783  38.503072       57.0  0.0  0.0  0.0   \n",
       "\n",
       "                                           \n",
       "                       25%  50%  75%  max  \n",
       "extraction_type_class                      \n",
       "gravity                0.0  0.0  0.0  0.0  \n",
       "handpump               0.0  0.0  0.0  0.0  \n",
       "motorpump              0.0  0.0  0.0  0.0  \n",
       "other                  0.0  0.0  0.0  0.0  \n",
       "rope pump              0.0  0.0  0.0  0.0  \n",
       "submersible            0.0  0.0  0.0  0.0  \n",
       "wind-powered           0.0  0.0  0.0  0.0  \n",
       "\n",
       "[7 rows x 24 columns]"
      ]
     },
     "execution_count": 82,
     "metadata": {},
     "output_type": "execute_result"
    }
   ],
   "source": [
    "final_train_df.loc[final_train_df.gps_height == 0].groupby(final_train_df.extraction_type_class)[['latitude', 'longitude','gps_height']].describe()"
   ]
  },
  {
   "cell_type": "code",
   "execution_count": 84,
   "metadata": {
    "collapsed": true
   },
   "outputs": [],
   "source": [
    "hm = final_train_df.loc[(final_train_df.extraction_type_class != 'gravity')][['gps_height']].mean()"
   ]
  },
  {
   "cell_type": "code",
   "execution_count": 85,
   "metadata": {},
   "outputs": [
    {
     "data": {
      "text/plain": [
       "count    59369.000000\n",
       "mean       668.403190\n",
       "std        693.141417\n",
       "min        -90.000000\n",
       "25%          0.000000\n",
       "50%        369.000000\n",
       "75%       1320.000000\n",
       "max       2770.000000\n",
       "Name: gps_height, dtype: float64"
      ]
     },
     "execution_count": 85,
     "metadata": {},
     "output_type": "execute_result"
    }
   ],
   "source": [
    "final_train_df.gps_height.describe()"
   ]
  },
  {
   "cell_type": "code",
   "execution_count": 86,
   "metadata": {
    "collapsed": true
   },
   "outputs": [],
   "source": [
    "#imputing the mean of gps_height values for all extraction_type_class which is not gravity\n",
    "final_train_df.loc[(final_train_df.extraction_type_class != 'gravity') & (final_train_df.gps_height == 0), 'gps_height'] = hm[0]"
   ]
  },
  {
   "cell_type": "code",
   "execution_count": 87,
   "metadata": {
    "scrolled": true
   },
   "outputs": [
    {
     "data": {
      "text/plain": [
       "id\n",
       "41564    350000.0\n",
       "4128     250000.0\n",
       "7860     200000.0\n",
       "70107    170000.0\n",
       "54154    138000.0\n",
       "15191    120000.0\n",
       "7737     117000.0\n",
       "71707    117000.0\n",
       "64148    117000.0\n",
       "18724    117000.0\n",
       "4712     117000.0\n",
       "38117    117000.0\n",
       "15801    117000.0\n",
       "10996    100000.0\n",
       "69674    100000.0\n",
       "45188    100000.0\n",
       "65614     70000.0\n",
       "58336     60000.0\n",
       "35268     50000.0\n",
       "24876     50000.0\n",
       "3252      50000.0\n",
       "13946     50000.0\n",
       "73818     45000.0\n",
       "30855     45000.0\n",
       "28057     45000.0\n",
       "24691     40000.0\n",
       "33304     40000.0\n",
       "28620     40000.0\n",
       "40048     40000.0\n",
       "73094     40000.0\n",
       "           ...   \n",
       "73879         0.0\n",
       "47651         0.0\n",
       "30809         0.0\n",
       "44508         0.0\n",
       "73387         0.0\n",
       "42214         0.0\n",
       "22356         0.0\n",
       "34760         0.0\n",
       "58055         0.0\n",
       "33354         0.0\n",
       "54239         0.0\n",
       "36737         0.0\n",
       "55282         0.0\n",
       "31996         0.0\n",
       "68007         0.0\n",
       "57389         0.0\n",
       "4882          0.0\n",
       "39125         0.0\n",
       "20911         0.0\n",
       "52044         0.0\n",
       "38714         0.0\n",
       "62195         0.0\n",
       "50464         0.0\n",
       "24263         0.0\n",
       "14975         0.0\n",
       "11841         0.0\n",
       "43662         0.0\n",
       "54930         0.0\n",
       "55187         0.0\n",
       "35938         0.0\n",
       "Name: amount_tsh, Length: 59369, dtype: float64"
      ]
     },
     "execution_count": 87,
     "metadata": {},
     "output_type": "execute_result"
    }
   ],
   "source": [
    "#analyzing amount_tsh feature\n",
    "final_train_df.amount_tsh.sort_values(ascending=False)"
   ]
  },
  {
   "cell_type": "code",
   "execution_count": 88,
   "metadata": {},
   "outputs": [
    {
     "data": {
      "text/html": [
       "<div>\n",
       "<style>\n",
       "    .dataframe thead tr:only-child th {\n",
       "        text-align: right;\n",
       "    }\n",
       "\n",
       "    .dataframe thead th {\n",
       "        text-align: left;\n",
       "    }\n",
       "\n",
       "    .dataframe tbody tr th {\n",
       "        vertical-align: top;\n",
       "    }\n",
       "</style>\n",
       "<table border=\"1\" class=\"dataframe\">\n",
       "  <thead>\n",
       "    <tr>\n",
       "      <th></th>\n",
       "      <th colspan=\"8\" halign=\"left\">amount_tsh</th>\n",
       "    </tr>\n",
       "    <tr>\n",
       "      <th></th>\n",
       "      <th>count</th>\n",
       "      <th>mean</th>\n",
       "      <th>std</th>\n",
       "      <th>min</th>\n",
       "      <th>25%</th>\n",
       "      <th>50%</th>\n",
       "      <th>75%</th>\n",
       "      <th>max</th>\n",
       "    </tr>\n",
       "    <tr>\n",
       "      <th>quantity</th>\n",
       "      <th></th>\n",
       "      <th></th>\n",
       "      <th></th>\n",
       "      <th></th>\n",
       "      <th></th>\n",
       "      <th></th>\n",
       "      <th></th>\n",
       "      <th></th>\n",
       "    </tr>\n",
       "  </thead>\n",
       "  <tbody>\n",
       "    <tr>\n",
       "      <th>dry</th>\n",
       "      <td>6241.0</td>\n",
       "      <td>129.512097</td>\n",
       "      <td>1608.749618</td>\n",
       "      <td>0.0</td>\n",
       "      <td>0.0</td>\n",
       "      <td>0.0</td>\n",
       "      <td>0.0</td>\n",
       "      <td>117000.0</td>\n",
       "    </tr>\n",
       "    <tr>\n",
       "      <th>enough</th>\n",
       "      <td>33171.0</td>\n",
       "      <td>414.603161</td>\n",
       "      <td>3294.590219</td>\n",
       "      <td>0.0</td>\n",
       "      <td>0.0</td>\n",
       "      <td>0.0</td>\n",
       "      <td>50.0</td>\n",
       "      <td>250000.0</td>\n",
       "    </tr>\n",
       "    <tr>\n",
       "      <th>insufficient</th>\n",
       "      <td>15122.0</td>\n",
       "      <td>250.605171</td>\n",
       "      <td>3204.733646</td>\n",
       "      <td>0.0</td>\n",
       "      <td>0.0</td>\n",
       "      <td>0.0</td>\n",
       "      <td>20.0</td>\n",
       "      <td>350000.0</td>\n",
       "    </tr>\n",
       "    <tr>\n",
       "      <th>seasonal</th>\n",
       "      <td>4047.0</td>\n",
       "      <td>114.843094</td>\n",
       "      <td>576.089208</td>\n",
       "      <td>0.0</td>\n",
       "      <td>0.0</td>\n",
       "      <td>0.0</td>\n",
       "      <td>0.0</td>\n",
       "      <td>14000.0</td>\n",
       "    </tr>\n",
       "    <tr>\n",
       "      <th>unknown</th>\n",
       "      <td>788.0</td>\n",
       "      <td>66.313452</td>\n",
       "      <td>317.345077</td>\n",
       "      <td>0.0</td>\n",
       "      <td>0.0</td>\n",
       "      <td>0.0</td>\n",
       "      <td>0.0</td>\n",
       "      <td>3000.0</td>\n",
       "    </tr>\n",
       "  </tbody>\n",
       "</table>\n",
       "</div>"
      ],
      "text/plain": [
       "             amount_tsh                                                \\\n",
       "                  count        mean          std  min  25%  50%   75%   \n",
       "quantity                                                                \n",
       "dry              6241.0  129.512097  1608.749618  0.0  0.0  0.0   0.0   \n",
       "enough          33171.0  414.603161  3294.590219  0.0  0.0  0.0  50.0   \n",
       "insufficient    15122.0  250.605171  3204.733646  0.0  0.0  0.0  20.0   \n",
       "seasonal         4047.0  114.843094   576.089208  0.0  0.0  0.0   0.0   \n",
       "unknown           788.0   66.313452   317.345077  0.0  0.0  0.0   0.0   \n",
       "\n",
       "                        \n",
       "                   max  \n",
       "quantity                \n",
       "dry           117000.0  \n",
       "enough        250000.0  \n",
       "insufficient  350000.0  \n",
       "seasonal       14000.0  \n",
       "unknown         3000.0  "
      ]
     },
     "execution_count": 88,
     "metadata": {},
     "output_type": "execute_result"
    }
   ],
   "source": [
    "final_train_df.groupby(final_train_df.quantity)[['amount_tsh']].describe()"
   ]
  },
  {
   "cell_type": "code",
   "execution_count": 89,
   "metadata": {},
   "outputs": [
    {
     "data": {
      "text/html": [
       "<div>\n",
       "<style>\n",
       "    .dataframe thead tr:only-child th {\n",
       "        text-align: right;\n",
       "    }\n",
       "\n",
       "    .dataframe thead th {\n",
       "        text-align: left;\n",
       "    }\n",
       "\n",
       "    .dataframe tbody tr th {\n",
       "        vertical-align: top;\n",
       "    }\n",
       "</style>\n",
       "<table border=\"1\" class=\"dataframe\">\n",
       "  <thead>\n",
       "    <tr style=\"text-align: right;\">\n",
       "      <th></th>\n",
       "      <th>amount_tsh</th>\n",
       "    </tr>\n",
       "  </thead>\n",
       "  <tbody>\n",
       "    <tr>\n",
       "      <th>count</th>\n",
       "      <td>21092.0</td>\n",
       "    </tr>\n",
       "    <tr>\n",
       "      <th>mean</th>\n",
       "      <td>0.0</td>\n",
       "    </tr>\n",
       "    <tr>\n",
       "      <th>std</th>\n",
       "      <td>0.0</td>\n",
       "    </tr>\n",
       "    <tr>\n",
       "      <th>min</th>\n",
       "      <td>0.0</td>\n",
       "    </tr>\n",
       "    <tr>\n",
       "      <th>25%</th>\n",
       "      <td>0.0</td>\n",
       "    </tr>\n",
       "    <tr>\n",
       "      <th>50%</th>\n",
       "      <td>0.0</td>\n",
       "    </tr>\n",
       "    <tr>\n",
       "      <th>75%</th>\n",
       "      <td>0.0</td>\n",
       "    </tr>\n",
       "    <tr>\n",
       "      <th>max</th>\n",
       "      <td>0.0</td>\n",
       "    </tr>\n",
       "  </tbody>\n",
       "</table>\n",
       "</div>"
      ],
      "text/plain": [
       "       amount_tsh\n",
       "count     21092.0\n",
       "mean          0.0\n",
       "std           0.0\n",
       "min           0.0\n",
       "25%           0.0\n",
       "50%           0.0\n",
       "75%           0.0\n",
       "max           0.0"
      ]
     },
     "execution_count": 89,
     "metadata": {},
     "output_type": "execute_result"
    }
   ],
   "source": [
    "#imputing the amount_tsh where \"quantity\" is \"enough\"\n",
    "final_train_df.loc[(final_train_df.quantity == 'enough') & (final_train_df.amount_tsh == 0)][['amount_tsh']].describe()"
   ]
  },
  {
   "cell_type": "code",
   "execution_count": 90,
   "metadata": {},
   "outputs": [
    {
     "data": {
      "text/plain": [
       "amount_tsh    414.603161\n",
       "dtype: float64"
      ]
     },
     "execution_count": 90,
     "metadata": {},
     "output_type": "execute_result"
    }
   ],
   "source": [
    "am = final_train_df.loc[(final_train_df.quantity == 'enough')][['amount_tsh']].mean()\n",
    "am"
   ]
  },
  {
   "cell_type": "code",
   "execution_count": 91,
   "metadata": {
    "collapsed": true
   },
   "outputs": [],
   "source": [
    "final_train_df.loc[(final_train_df.quantity == 'enough') & (final_train_df.amount_tsh == 0), 'amount_tsh'] = am[0]"
   ]
  },
  {
   "cell_type": "code",
   "execution_count": 92,
   "metadata": {
    "collapsed": true
   },
   "outputs": [],
   "source": [
    "#removing the outlier\n",
    "final_train_df = final_train_df[final_train_df.amount_tsh != 350000]"
   ]
  },
  {
   "cell_type": "code",
   "execution_count": 93,
   "metadata": {},
   "outputs": [
    {
     "data": {
      "text/plain": [
       "11    5299\n",
       "17    5007\n",
       "12    4637\n",
       "3     4379\n",
       "5     4039\n",
       "18    3320\n",
       "19    3042\n",
       "2     3024\n",
       "16    2816\n",
       "10    2640\n",
       "4     2509\n",
       "1     2201\n",
       "13    2092\n",
       "14    1979\n",
       "20    1967\n",
       "15    1807\n",
       "6     1608\n",
       "21    1583\n",
       "80    1238\n",
       "60    1023\n",
       "90     913\n",
       "7      805\n",
       "99     423\n",
       "9      390\n",
       "24     326\n",
       "8      300\n",
       "40       1\n",
       "Name: region_code, dtype: int64"
      ]
     },
     "execution_count": 93,
     "metadata": {},
     "output_type": "execute_result"
    }
   ],
   "source": [
    "final_train_df.region_code.value_counts()"
   ]
  },
  {
   "cell_type": "code",
   "execution_count": 94,
   "metadata": {},
   "outputs": [
    {
     "data": {
      "text/html": [
       "<div>\n",
       "<style>\n",
       "    .dataframe thead tr:only-child th {\n",
       "        text-align: right;\n",
       "    }\n",
       "\n",
       "    .dataframe thead th {\n",
       "        text-align: left;\n",
       "    }\n",
       "\n",
       "    .dataframe tbody tr th {\n",
       "        vertical-align: top;\n",
       "    }\n",
       "</style>\n",
       "<table border=\"1\" class=\"dataframe\">\n",
       "  <thead>\n",
       "    <tr>\n",
       "      <th></th>\n",
       "      <th></th>\n",
       "      <th colspan=\"8\" halign=\"left\">population</th>\n",
       "    </tr>\n",
       "    <tr>\n",
       "      <th></th>\n",
       "      <th></th>\n",
       "      <th>count</th>\n",
       "      <th>mean</th>\n",
       "      <th>std</th>\n",
       "      <th>min</th>\n",
       "      <th>25%</th>\n",
       "      <th>50%</th>\n",
       "      <th>75%</th>\n",
       "      <th>max</th>\n",
       "    </tr>\n",
       "    <tr>\n",
       "      <th>status_group</th>\n",
       "      <th>quantity</th>\n",
       "      <th></th>\n",
       "      <th></th>\n",
       "      <th></th>\n",
       "      <th></th>\n",
       "      <th></th>\n",
       "      <th></th>\n",
       "      <th></th>\n",
       "      <th></th>\n",
       "    </tr>\n",
       "  </thead>\n",
       "  <tbody>\n",
       "    <tr>\n",
       "      <th rowspan=\"5\" valign=\"top\">functional</th>\n",
       "      <th>dry</th>\n",
       "      <td>18.0</td>\n",
       "      <td>107.000000</td>\n",
       "      <td>141.447142</td>\n",
       "      <td>1.0</td>\n",
       "      <td>1.0</td>\n",
       "      <td>50.0</td>\n",
       "      <td>172.5</td>\n",
       "      <td>500.0</td>\n",
       "    </tr>\n",
       "    <tr>\n",
       "      <th>enough</th>\n",
       "      <td>966.0</td>\n",
       "      <td>182.806418</td>\n",
       "      <td>571.026135</td>\n",
       "      <td>0.0</td>\n",
       "      <td>1.0</td>\n",
       "      <td>58.0</td>\n",
       "      <td>129.0</td>\n",
       "      <td>8000.0</td>\n",
       "    </tr>\n",
       "    <tr>\n",
       "      <th>insufficient</th>\n",
       "      <td>316.0</td>\n",
       "      <td>305.180380</td>\n",
       "      <td>379.072966</td>\n",
       "      <td>0.0</td>\n",
       "      <td>90.0</td>\n",
       "      <td>250.0</td>\n",
       "      <td>412.5</td>\n",
       "      <td>5000.0</td>\n",
       "    </tr>\n",
       "    <tr>\n",
       "      <th>seasonal</th>\n",
       "      <td>174.0</td>\n",
       "      <td>316.672414</td>\n",
       "      <td>672.486458</td>\n",
       "      <td>0.0</td>\n",
       "      <td>40.0</td>\n",
       "      <td>200.0</td>\n",
       "      <td>351.5</td>\n",
       "      <td>7000.0</td>\n",
       "    </tr>\n",
       "    <tr>\n",
       "      <th>unknown</th>\n",
       "      <td>6.0</td>\n",
       "      <td>304.833333</td>\n",
       "      <td>326.235753</td>\n",
       "      <td>1.0</td>\n",
       "      <td>63.5</td>\n",
       "      <td>176.0</td>\n",
       "      <td>591.5</td>\n",
       "      <td>720.0</td>\n",
       "    </tr>\n",
       "    <tr>\n",
       "      <th rowspan=\"5\" valign=\"top\">functional needs repair</th>\n",
       "      <th>dry</th>\n",
       "      <td>1.0</td>\n",
       "      <td>0.000000</td>\n",
       "      <td>NaN</td>\n",
       "      <td>0.0</td>\n",
       "      <td>0.0</td>\n",
       "      <td>0.0</td>\n",
       "      <td>0.0</td>\n",
       "      <td>0.0</td>\n",
       "    </tr>\n",
       "    <tr>\n",
       "      <th>enough</th>\n",
       "      <td>126.0</td>\n",
       "      <td>105.539683</td>\n",
       "      <td>204.389771</td>\n",
       "      <td>0.0</td>\n",
       "      <td>1.0</td>\n",
       "      <td>1.0</td>\n",
       "      <td>96.0</td>\n",
       "      <td>1523.0</td>\n",
       "    </tr>\n",
       "    <tr>\n",
       "      <th>insufficient</th>\n",
       "      <td>25.0</td>\n",
       "      <td>128.400000</td>\n",
       "      <td>139.853495</td>\n",
       "      <td>1.0</td>\n",
       "      <td>20.0</td>\n",
       "      <td>69.0</td>\n",
       "      <td>200.0</td>\n",
       "      <td>452.0</td>\n",
       "    </tr>\n",
       "    <tr>\n",
       "      <th>seasonal</th>\n",
       "      <td>11.0</td>\n",
       "      <td>215.545455</td>\n",
       "      <td>190.694186</td>\n",
       "      <td>1.0</td>\n",
       "      <td>75.0</td>\n",
       "      <td>160.0</td>\n",
       "      <td>300.0</td>\n",
       "      <td>650.0</td>\n",
       "    </tr>\n",
       "    <tr>\n",
       "      <th>unknown</th>\n",
       "      <td>1.0</td>\n",
       "      <td>150.000000</td>\n",
       "      <td>NaN</td>\n",
       "      <td>150.0</td>\n",
       "      <td>150.0</td>\n",
       "      <td>150.0</td>\n",
       "      <td>150.0</td>\n",
       "      <td>150.0</td>\n",
       "    </tr>\n",
       "    <tr>\n",
       "      <th rowspan=\"5\" valign=\"top\">non functional</th>\n",
       "      <th>dry</th>\n",
       "      <td>634.0</td>\n",
       "      <td>159.856467</td>\n",
       "      <td>292.981794</td>\n",
       "      <td>0.0</td>\n",
       "      <td>1.0</td>\n",
       "      <td>60.0</td>\n",
       "      <td>200.0</td>\n",
       "      <td>3800.0</td>\n",
       "    </tr>\n",
       "    <tr>\n",
       "      <th>enough</th>\n",
       "      <td>173.0</td>\n",
       "      <td>169.855491</td>\n",
       "      <td>226.868103</td>\n",
       "      <td>1.0</td>\n",
       "      <td>1.0</td>\n",
       "      <td>60.0</td>\n",
       "      <td>250.0</td>\n",
       "      <td>1250.0</td>\n",
       "    </tr>\n",
       "    <tr>\n",
       "      <th>insufficient</th>\n",
       "      <td>154.0</td>\n",
       "      <td>241.915584</td>\n",
       "      <td>281.946756</td>\n",
       "      <td>1.0</td>\n",
       "      <td>1.0</td>\n",
       "      <td>200.0</td>\n",
       "      <td>300.0</td>\n",
       "      <td>1500.0</td>\n",
       "    </tr>\n",
       "    <tr>\n",
       "      <th>seasonal</th>\n",
       "      <td>22.0</td>\n",
       "      <td>168.409091</td>\n",
       "      <td>119.325748</td>\n",
       "      <td>1.0</td>\n",
       "      <td>67.5</td>\n",
       "      <td>175.0</td>\n",
       "      <td>275.0</td>\n",
       "      <td>360.0</td>\n",
       "    </tr>\n",
       "    <tr>\n",
       "      <th>unknown</th>\n",
       "      <td>13.0</td>\n",
       "      <td>215.692308</td>\n",
       "      <td>178.045586</td>\n",
       "      <td>1.0</td>\n",
       "      <td>1.0</td>\n",
       "      <td>250.0</td>\n",
       "      <td>360.0</td>\n",
       "      <td>450.0</td>\n",
       "    </tr>\n",
       "  </tbody>\n",
       "</table>\n",
       "</div>"
      ],
      "text/plain": [
       "                                     population                          \\\n",
       "                                          count        mean         std   \n",
       "status_group            quantity                                          \n",
       "functional              dry                18.0  107.000000  141.447142   \n",
       "                        enough            966.0  182.806418  571.026135   \n",
       "                        insufficient      316.0  305.180380  379.072966   \n",
       "                        seasonal          174.0  316.672414  672.486458   \n",
       "                        unknown             6.0  304.833333  326.235753   \n",
       "functional needs repair dry                 1.0    0.000000         NaN   \n",
       "                        enough            126.0  105.539683  204.389771   \n",
       "                        insufficient       25.0  128.400000  139.853495   \n",
       "                        seasonal           11.0  215.545455  190.694186   \n",
       "                        unknown             1.0  150.000000         NaN   \n",
       "non functional          dry               634.0  159.856467  292.981794   \n",
       "                        enough            173.0  169.855491  226.868103   \n",
       "                        insufficient      154.0  241.915584  281.946756   \n",
       "                        seasonal           22.0  168.409091  119.325748   \n",
       "                        unknown            13.0  215.692308  178.045586   \n",
       "\n",
       "                                                                          \n",
       "                                        min    25%    50%    75%     max  \n",
       "status_group            quantity                                          \n",
       "functional              dry             1.0    1.0   50.0  172.5   500.0  \n",
       "                        enough          0.0    1.0   58.0  129.0  8000.0  \n",
       "                        insufficient    0.0   90.0  250.0  412.5  5000.0  \n",
       "                        seasonal        0.0   40.0  200.0  351.5  7000.0  \n",
       "                        unknown         1.0   63.5  176.0  591.5   720.0  \n",
       "functional needs repair dry             0.0    0.0    0.0    0.0     0.0  \n",
       "                        enough          0.0    1.0    1.0   96.0  1523.0  \n",
       "                        insufficient    1.0   20.0   69.0  200.0   452.0  \n",
       "                        seasonal        1.0   75.0  160.0  300.0   650.0  \n",
       "                        unknown       150.0  150.0  150.0  150.0   150.0  \n",
       "non functional          dry             0.0    1.0   60.0  200.0  3800.0  \n",
       "                        enough          1.0    1.0   60.0  250.0  1250.0  \n",
       "                        insufficient    1.0    1.0  200.0  300.0  1500.0  \n",
       "                        seasonal        1.0   67.5  175.0  275.0   360.0  \n",
       "                        unknown         1.0    1.0  250.0  360.0   450.0  "
      ]
     },
     "execution_count": 94,
     "metadata": {},
     "output_type": "execute_result"
    }
   ],
   "source": [
    "#dealing with population feature. We will later impute the population by region codes depending on the population distribution\n",
    "final_train_df[final_train_df.region_code == 10].groupby([final_train_df.status_group, final_train_df.quantity])[['population']].describe()"
   ]
  },
  {
   "cell_type": "code",
   "execution_count": 95,
   "metadata": {
    "collapsed": true
   },
   "outputs": [],
   "source": [
    "#calculating the mean of population grouped by region codes\n",
    "m1 = final_train_df[final_train_df.region_code == 10][['population']].mean()\n",
    "m2 = final_train_df[final_train_df.region_code == 11][['population']].mean()\n",
    "m3 = final_train_df[final_train_df.region_code == 19][['population']].mean()\n",
    "m4 = final_train_df[final_train_df.region_code == 60][['population']].mean()"
   ]
  },
  {
   "cell_type": "code",
   "execution_count": 96,
   "metadata": {
    "collapsed": true
   },
   "outputs": [],
   "source": [
    "#getting the indexes\n",
    "i1 = final_train_df.loc[(final_train_df.population == 0) & (final_train_df.region_code == 10)].index\n",
    "i2 = final_train_df.loc[(final_train_df.population == 0) & (final_train_df.region_code == 11)].index\n",
    "i3 = final_train_df.loc[(final_train_df.population == 0) & (final_train_df.region_code == 19)].index\n",
    "i4 = final_train_df.loc[(final_train_df.population == 0) & (final_train_df.region_code == 60)].index"
   ]
  },
  {
   "cell_type": "code",
   "execution_count": 97,
   "metadata": {
    "collapsed": true
   },
   "outputs": [],
   "source": [
    "#function to impute the missing population values\n",
    "def popimpute(indexL, meanL):\n",
    "    for i in range(len(indexL)):\n",
    "        final_train_df.loc[[indexL[i]], 'population'] = meanL[0]"
   ]
  },
  {
   "cell_type": "code",
   "execution_count": 98,
   "metadata": {
    "collapsed": true
   },
   "outputs": [],
   "source": [
    "#calling the function to impute population values\n",
    "popimpute(i1, m1)\n",
    "popimpute(i2, m2)\n",
    "popimpute(i3, m3)\n",
    "popimpute(i4, m4)"
   ]
  },
  {
   "cell_type": "code",
   "execution_count": 99,
   "metadata": {},
   "outputs": [
    {
     "data": {
      "text/plain": [
       "0.000000       17053\n",
       "1.000000        7020\n",
       "66.406640       2678\n",
       "200.000000      1938\n",
       "150.000000      1892\n",
       "250.000000      1681\n",
       "300.000000      1476\n",
       "94.203057       1170\n",
       "100.000000      1146\n",
       "50.000000       1139\n",
       "500.000000      1008\n",
       "350.000000       986\n",
       "120.000000       915\n",
       "400.000000       774\n",
       "60.000000        706\n",
       "30.000000        626\n",
       "40.000000        552\n",
       "80.000000        532\n",
       "450.000000       499\n",
       "199.019318       467\n",
       "20.000000        462\n",
       "600.000000       437\n",
       "230.000000       388\n",
       "75.000000        289\n",
       "1000.000000      278\n",
       "800.000000       269\n",
       "90.000000        265\n",
       "130.000000       264\n",
       "25.000000        255\n",
       "320.000000       249\n",
       "               ...  \n",
       "1226.000000        1\n",
       "733.000000         1\n",
       "4230.000000        1\n",
       "299.000000         1\n",
       "615.000000         1\n",
       "1274.000000        1\n",
       "111.000000         1\n",
       "2461.000000        1\n",
       "479.000000         1\n",
       "1036.000000        1\n",
       "1710.000000        1\n",
       "3127.000000        1\n",
       "869.000000         1\n",
       "5200.000000        1\n",
       "887.000000         1\n",
       "612.000000         1\n",
       "1244.000000        1\n",
       "2238.000000        1\n",
       "282.000000         1\n",
       "2198.000000        1\n",
       "4210.000000        1\n",
       "1580.000000        1\n",
       "8600.000000        1\n",
       "9865.000000        1\n",
       "422.000000         1\n",
       "845.000000         1\n",
       "2210.000000        1\n",
       "104.000000         1\n",
       "711.000000         1\n",
       "439.000000         1\n",
       "Name: population, Length: 1051, dtype: int64"
      ]
     },
     "execution_count": 99,
     "metadata": {},
     "output_type": "execute_result"
    }
   ],
   "source": [
    "final_train_df.population.value_counts()"
   ]
  },
  {
   "cell_type": "code",
   "execution_count": 100,
   "metadata": {
    "collapsed": true
   },
   "outputs": [],
   "source": [
    "#calculating the mean of population grouped by region codes where population value is 1\n",
    "n1 = final_train_df[final_train_df.region_code == 4][['population']].mean()\n",
    "n2 = final_train_df[final_train_df.region_code == 3][['population']].mean()\n",
    "n3 = final_train_df[final_train_df.region_code == 2][['population']].mean()\n",
    "n4 = final_train_df[final_train_df.region_code == 5][['population']].mean()\n",
    "n5 = final_train_df[final_train_df.region_code == 10][['population']].mean()\n",
    "n6 = final_train_df[final_train_df.region_code == 15][['population']].mean()\n",
    "n7 = final_train_df[final_train_df.region_code == 6][['population']].mean()\n",
    "n8 = final_train_df[final_train_df.region_code == 21][['population']].mean()\n",
    "n9 = final_train_df[final_train_df.region_code == 80][['population']].mean()"
   ]
  },
  {
   "cell_type": "code",
   "execution_count": 101,
   "metadata": {
    "collapsed": true
   },
   "outputs": [],
   "source": [
    "#getting indexes where population is 1\n",
    "j1 = final_train_df.loc[(final_train_df.population == 1) & (final_train_df.region_code == 4)].index\n",
    "j2 = final_train_df.loc[(final_train_df.population == 1) & (final_train_df.region_code == 3)].index\n",
    "j3 = final_train_df.loc[(final_train_df.population == 1) & (final_train_df.region_code == 2)].index\n",
    "j4 = final_train_df.loc[(final_train_df.population == 1) & (final_train_df.region_code == 5)].index\n",
    "j5 = final_train_df.loc[(final_train_df.population == 1) & (final_train_df.region_code == 10)].index\n",
    "j6 = final_train_df.loc[(final_train_df.population == 1) & (final_train_df.region_code == 15)].index\n",
    "j7 = final_train_df.loc[(final_train_df.population == 1) & (final_train_df.region_code == 6)].index\n",
    "j8 = final_train_df.loc[(final_train_df.population == 1) & (final_train_df.region_code == 21)].index\n",
    "j9 = final_train_df.loc[(final_train_df.population == 1) & (final_train_df.region_code == 80)].index"
   ]
  },
  {
   "cell_type": "code",
   "execution_count": 102,
   "metadata": {
    "collapsed": true
   },
   "outputs": [],
   "source": [
    "#calling the function to impute population values\n",
    "popimpute(j1, n1)\n",
    "popimpute(j2, n2)\n",
    "popimpute(j3, n3)\n",
    "popimpute(j4, n4)\n",
    "popimpute(j5, n5)\n",
    "popimpute(j6, n6)\n",
    "popimpute(j7, n7)\n",
    "popimpute(j8, n8)\n",
    "popimpute(j9, n9)"
   ]
  },
  {
   "cell_type": "code",
   "execution_count": 103,
   "metadata": {},
   "outputs": [
    {
     "data": {
      "text/plain": [
       "0.000000       17053\n",
       "66.406640       2678\n",
       "1.000000        2468\n",
       "200.000000      1938\n",
       "150.000000      1892\n",
       "250.000000      1681\n",
       "105.747888      1531\n",
       "300.000000      1476\n",
       "94.203057       1170\n",
       "100.000000      1146\n",
       "50.000000       1139\n",
       "500.000000      1008\n",
       "350.000000       986\n",
       "120.000000       915\n",
       "239.757274       910\n",
       "400.000000       774\n",
       "60.000000        706\n",
       "30.000000        626\n",
       "40.000000        552\n",
       "268.733597       547\n",
       "80.000000        532\n",
       "450.000000       499\n",
       "234.224629       484\n",
       "199.019318       467\n",
       "20.000000        462\n",
       "600.000000       437\n",
       "230.000000       388\n",
       "365.500277       337\n",
       "75.000000        289\n",
       "1000.000000      278\n",
       "               ...  \n",
       "1226.000000        1\n",
       "1185.000000        1\n",
       "1274.000000        1\n",
       "748.000000         1\n",
       "733.000000         1\n",
       "4230.000000        1\n",
       "111.000000         1\n",
       "1036.000000        1\n",
       "2016.000000        1\n",
       "711.000000         1\n",
       "1710.000000        1\n",
       "479.000000         1\n",
       "869.000000         1\n",
       "3127.000000        1\n",
       "612.000000         1\n",
       "5200.000000        1\n",
       "887.000000         1\n",
       "1244.000000        1\n",
       "2238.000000        1\n",
       "282.000000         1\n",
       "2198.000000        1\n",
       "4210.000000        1\n",
       "8600.000000        1\n",
       "1580.000000        1\n",
       "9865.000000        1\n",
       "422.000000         1\n",
       "845.000000         1\n",
       "2210.000000        1\n",
       "104.000000         1\n",
       "2685.000000        1\n",
       "Name: population, Length: 1060, dtype: int64"
      ]
     },
     "execution_count": 103,
     "metadata": {},
     "output_type": "execute_result"
    }
   ],
   "source": [
    "final_train_df.population.value_counts()"
   ]
  },
  {
   "cell_type": "code",
   "execution_count": 104,
   "metadata": {},
   "outputs": [
    {
     "data": {
      "text/plain": [
       "id\n",
       "72742     0.000000\n",
       "20192     0.000000\n",
       "37105     0.000000\n",
       "23266     0.000000\n",
       "13130     0.000000\n",
       "24768     0.000000\n",
       "13691     0.000000\n",
       "31479     0.000000\n",
       "61449     0.000000\n",
       "15        0.000000\n",
       "68987     0.000000\n",
       "65706     0.000000\n",
       "8332      0.000000\n",
       "15636     0.000000\n",
       "48648     0.000000\n",
       "25833     0.000000\n",
       "56868     0.000000\n",
       "17712     0.000000\n",
       "40786     0.000000\n",
       "45238     0.000000\n",
       "6561      0.000000\n",
       "72575     0.000000\n",
       "55791     0.000000\n",
       "39344     0.000000\n",
       "13533     0.000000\n",
       "35292     0.000000\n",
       "58641     0.000000\n",
       "62075     0.000000\n",
       "27271     0.000000\n",
       "26147     0.000000\n",
       "           ...    \n",
       "44174    40.286679\n",
       "50315    40.287471\n",
       "58348    40.295239\n",
       "72000    40.298026\n",
       "31763    40.300378\n",
       "63714    40.301214\n",
       "39704    40.301987\n",
       "23189    40.301999\n",
       "34074    40.303795\n",
       "35119    40.304418\n",
       "10649    40.305421\n",
       "13289    40.305644\n",
       "55244    40.311031\n",
       "41875    40.311540\n",
       "45964    40.319699\n",
       "73518    40.320419\n",
       "12547    40.320693\n",
       "62933    40.320693\n",
       "72746    40.320693\n",
       "20666    40.320699\n",
       "20120    40.321966\n",
       "31454    40.322169\n",
       "25152    40.322625\n",
       "17282    40.322805\n",
       "7759     40.322832\n",
       "69830    40.323402\n",
       "47144    40.325226\n",
       "48316    40.325240\n",
       "41000    40.344301\n",
       "39105    40.345193\n",
       "Name: longitude, Length: 59368, dtype: float64"
      ]
     },
     "execution_count": 104,
     "metadata": {},
     "output_type": "execute_result"
    }
   ],
   "source": [
    "final_train_df.longitude.sort_values()"
   ]
  },
  {
   "cell_type": "code",
   "execution_count": 105,
   "metadata": {
    "collapsed": true
   },
   "outputs": [],
   "source": [
    "#getting the longitude values outside of tanzania, back inside\n",
    "final_train_df.loc[(final_train_df.longitude == 0), 'longitude'] = final_train_df.longitude.mean()"
   ]
  },
  {
   "cell_type": "code",
   "execution_count": 106,
   "metadata": {
    "collapsed": true
   },
   "outputs": [],
   "source": [
    "#transforming the longitude and latitude features to three dimensional co-ordinates\n",
    "final_train_df['x'] = np.cos(final_train_df.latitude) * np.cos(final_train_df.longitude)"
   ]
  },
  {
   "cell_type": "code",
   "execution_count": 107,
   "metadata": {
    "collapsed": true
   },
   "outputs": [],
   "source": [
    "final_train_df['y'] = np.cos(final_train_df.latitude) * np.sin(final_train_df.longitude)"
   ]
  },
  {
   "cell_type": "code",
   "execution_count": 108,
   "metadata": {
    "collapsed": true
   },
   "outputs": [],
   "source": [
    "final_train_df['z'] = np.sin(final_train_df.latitude) "
   ]
  },
  {
   "cell_type": "code",
   "execution_count": 109,
   "metadata": {
    "collapsed": true
   },
   "outputs": [],
   "source": [
    "#removing waterpoint_type feature\n",
    "final_train_df =final_train_df.drop('region', axis=1)"
   ]
  },
  {
   "cell_type": "code",
   "execution_count": 110,
   "metadata": {
    "collapsed": true
   },
   "outputs": [],
   "source": [
    "#removing waterpoint_type feature\n",
    "final_train_df =final_train_df.drop('lga', axis=1)"
   ]
  },
  {
   "cell_type": "code",
   "execution_count": 111,
   "metadata": {
    "collapsed": true
   },
   "outputs": [],
   "source": [
    "#removing waterpoint_type feature\n",
    "final_train_df =final_train_df.drop('ward', axis=1)"
   ]
  },
  {
   "cell_type": "code",
   "execution_count": 112,
   "metadata": {},
   "outputs": [
    {
     "data": {
      "text/plain": [
       "(59368, 27)"
      ]
     },
     "execution_count": 112,
     "metadata": {},
     "output_type": "execute_result"
    }
   ],
   "source": [
    "final_train_df.shape"
   ]
  },
  {
   "cell_type": "code",
   "execution_count": 113,
   "metadata": {},
   "outputs": [
    {
     "name": "stdout",
     "output_type": "stream",
     "text": [
      "<class 'pandas.core.frame.DataFrame'>\n",
      "Int64Index: 59368 entries, 69572 to 26348\n",
      "Data columns (total 27 columns):\n",
      "amount_tsh               59368 non-null float64\n",
      "funder                   59368 non-null object\n",
      "gps_height               59368 non-null float64\n",
      "installer                59368 non-null object\n",
      "longitude                59368 non-null float64\n",
      "latitude                 59368 non-null float64\n",
      "basin                    59368 non-null object\n",
      "region_code              59368 non-null int64\n",
      "district_code            59368 non-null int64\n",
      "population               59368 non-null float64\n",
      "public_meeting           59368 non-null bool\n",
      "scheme_management        59368 non-null object\n",
      "permit                   59368 non-null bool\n",
      "construction_year        59368 non-null float64\n",
      "extraction_type_class    59368 non-null object\n",
      "management_group         59368 non-null object\n",
      "payment_type             59368 non-null object\n",
      "quality_group            59368 non-null object\n",
      "quantity                 59368 non-null object\n",
      "source_type              59368 non-null object\n",
      "source_class             59368 non-null object\n",
      "waterpoint_type_group    59368 non-null object\n",
      "status_group             59368 non-null object\n",
      "age_wo                   59368 non-null float64\n",
      "x                        59368 non-null float64\n",
      "y                        59368 non-null float64\n",
      "z                        59368 non-null float64\n",
      "dtypes: bool(2), float64(10), int64(2), object(13)\n",
      "memory usage: 14.4+ MB\n"
     ]
    }
   ],
   "source": [
    "final_train_df.info()"
   ]
  },
  {
   "cell_type": "code",
   "execution_count": 114,
   "metadata": {},
   "outputs": [
    {
     "data": {
      "text/plain": [
       "communal standpipe    34613\n",
       "hand pump             17477\n",
       "other                  6372\n",
       "improved spring         783\n",
       "cattle trough           116\n",
       "dam                       7\n",
       "Name: waterpoint_type_group, dtype: int64"
      ]
     },
     "execution_count": 114,
     "metadata": {},
     "output_type": "execute_result"
    }
   ],
   "source": [
    "final_train_df.waterpoint_type_group.value_counts()"
   ]
  },
  {
   "cell_type": "code",
   "execution_count": 115,
   "metadata": {
    "collapsed": true
   },
   "outputs": [],
   "source": [
    "#converting all categorical variables to dummy variables\n",
    "train_d = final_train_df.copy()\n",
    "del train_d[\"status_group\"]\n",
    "train_d = pd.get_dummies(train_d)"
   ]
  },
  {
   "cell_type": "code",
   "execution_count": 116,
   "metadata": {},
   "outputs": [
    {
     "data": {
      "text/plain": [
       "(59368, 96)"
      ]
     },
     "execution_count": 116,
     "metadata": {},
     "output_type": "execute_result"
    }
   ],
   "source": [
    "train_d.shape"
   ]
  },
  {
   "cell_type": "code",
   "execution_count": 117,
   "metadata": {},
   "outputs": [
    {
     "data": {
      "text/plain": [
       "(59368, 96)"
      ]
     },
     "execution_count": 117,
     "metadata": {},
     "output_type": "execute_result"
    }
   ],
   "source": [
    "train_d.shape"
   ]
  },
  {
   "cell_type": "code",
   "execution_count": 120,
   "metadata": {},
   "outputs": [],
   "source": [
    "#do the above steps with test data\n",
    "df_test = pd.read_csv(\"testset1.csv\" , sep = ',', index_col = 'id')"
   ]
  },
  {
   "cell_type": "code",
   "execution_count": 121,
   "metadata": {},
   "outputs": [
    {
     "data": {
      "text/plain": [
       "(14850, 96)"
      ]
     },
     "execution_count": 121,
     "metadata": {},
     "output_type": "execute_result"
    }
   ],
   "source": [
    "df_test.shape"
   ]
  },
  {
   "cell_type": "code",
   "execution_count": 122,
   "metadata": {
    "collapsed": true
   },
   "outputs": [],
   "source": [
    "#applying random forest\n",
    "from sklearn.ensemble import RandomForestClassifier\n",
    "from sklearn.model_selection import cross_val_score\n",
    "from sklearn.model_selection import GridSearchCV"
   ]
  },
  {
   "cell_type": "code",
   "execution_count": 123,
   "metadata": {
    "collapsed": true
   },
   "outputs": [],
   "source": [
    "clf = RandomForestClassifier(n_estimators=500, random_state=1234 , max_leaf_nodes=5500)\n",
    "cv_score = cross_val_score(clf, train_d, final_train_df['status_group'], cv = 5, n_jobs = -1)"
   ]
  },
  {
   "cell_type": "code",
   "execution_count": 124,
   "metadata": {},
   "outputs": [
    {
     "name": "stdout",
     "output_type": "stream",
     "text": [
      "CV Score is: 0.8102174528720225\n"
     ]
    }
   ],
   "source": [
    "print('CV Score is: '+ str(np.mean(cv_score))) #param tuning and cleaned data and year sorted"
   ]
  },
  {
   "cell_type": "code",
   "execution_count": 125,
   "metadata": {},
   "outputs": [
    {
     "data": {
      "text/plain": [
       "RandomForestClassifier(bootstrap=True, class_weight=None, criterion='gini',\n",
       "            max_depth=None, max_features='auto', max_leaf_nodes=5500,\n",
       "            min_impurity_decrease=0.0, min_impurity_split=None,\n",
       "            min_samples_leaf=1, min_samples_split=2,\n",
       "            min_weight_fraction_leaf=0.0, n_estimators=500, n_jobs=1,\n",
       "            oob_score=False, random_state=1234, verbose=0,\n",
       "            warm_start=False)"
      ]
     },
     "execution_count": 125,
     "metadata": {},
     "output_type": "execute_result"
    }
   ],
   "source": [
    "clf.fit(train_d, final_train_df['status_group'])"
   ]
  },
  {
   "cell_type": "code",
   "execution_count": 126,
   "metadata": {},
   "outputs": [
    {
     "data": {
      "text/plain": [
       "array([3.52882700e-02, 4.17492893e-02, 6.82815550e-02, 6.50905654e-02,\n",
       "       1.87249021e-02, 1.91600143e-02, 2.95542250e-02, 5.45499112e-03,\n",
       "       6.80880223e-03, 3.65563026e-02, 3.82308581e-02, 6.29950007e-02,\n",
       "       6.26689406e-02, 6.08035635e-02, 1.90606865e-03, 7.35205579e-03,\n",
       "       1.73491517e-03, 9.41378539e-04, 6.52069441e-03, 1.19636352e-03,\n",
       "       1.10746936e-03, 1.48798088e-03, 1.29645401e-03, 1.11516114e-03,\n",
       "       2.97048937e-03, 2.37569268e-03, 1.39876107e-03, 8.05012461e-04,\n",
       "       1.73159274e-03, 6.61466217e-03, 3.37985265e-03, 8.94529890e-04,\n",
       "       7.47431435e-04, 6.67114987e-03, 2.46731891e-03, 1.26079139e-03,\n",
       "       3.78331018e-03, 2.94945020e-03, 2.35168907e-03, 3.07202417e-03,\n",
       "       3.27146228e-03, 2.62499394e-03, 2.67937277e-03, 2.36430981e-03,\n",
       "       2.29879547e-03, 1.49639857e-03, 1.41017572e-03, 6.40750844e-03,\n",
       "       1.70846988e-03, 3.65485454e-03, 2.14586653e-03, 2.44432600e-03,\n",
       "       3.47012805e-03, 9.03208436e-03, 9.24875536e-03, 3.14305535e-03,\n",
       "       3.12232147e-02, 6.77135468e-04, 4.60509204e-03, 2.71390289e-04,\n",
       "       3.36971223e-03, 1.37974514e-03, 1.54807821e-03, 4.54632027e-03,\n",
       "       2.88241989e-03, 5.21824231e-03, 1.37388097e-02, 2.38326522e-03,\n",
       "       9.72616713e-04, 5.92926847e-03, 6.19978766e-03, 7.34442802e-04,\n",
       "       3.99619540e-04, 5.79013300e-03, 9.87737587e-04, 3.19872903e-03,\n",
       "       6.98961902e-03, 8.36591078e-02, 2.16922013e-02, 1.47919454e-02,\n",
       "       6.74622898e-03, 1.72316453e-03, 5.72337462e-03, 4.10829703e-03,\n",
       "       3.84457638e-03, 6.24709230e-03, 6.73548526e-03, 4.78893191e-03,\n",
       "       4.95089712e-03, 3.81507939e-04, 2.58604073e-04, 7.89005551e-03,\n",
       "       1.70925888e-05, 7.48687157e-03, 1.65153003e-03, 3.73575198e-02])"
      ]
     },
     "execution_count": 126,
     "metadata": {},
     "output_type": "execute_result"
    }
   ],
   "source": [
    "clf.feature_importances_"
   ]
  },
  {
   "cell_type": "code",
   "execution_count": 127,
   "metadata": {
    "collapsed": true
   },
   "outputs": [],
   "source": [
    "model1 = clf.predict(df_test)"
   ]
  },
  {
   "cell_type": "code",
   "execution_count": 128,
   "metadata": {},
   "outputs": [
    {
     "data": {
      "text/plain": [
       "array(['functional', 'functional', 'functional', ..., 'functional',\n",
       "       'functional', 'non functional'], dtype=object)"
      ]
     },
     "execution_count": 128,
     "metadata": {},
     "output_type": "execute_result"
    }
   ],
   "source": [
    "model1"
   ]
  },
  {
   "cell_type": "code",
   "execution_count": 129,
   "metadata": {
    "collapsed": true
   },
   "outputs": [],
   "source": [
    "subdf = pd.DataFrame(model1)"
   ]
  },
  {
   "cell_type": "code",
   "execution_count": 130,
   "metadata": {},
   "outputs": [
    {
     "data": {
      "text/html": [
       "<div>\n",
       "<style>\n",
       "    .dataframe thead tr:only-child th {\n",
       "        text-align: right;\n",
       "    }\n",
       "\n",
       "    .dataframe thead th {\n",
       "        text-align: left;\n",
       "    }\n",
       "\n",
       "    .dataframe tbody tr th {\n",
       "        vertical-align: top;\n",
       "    }\n",
       "</style>\n",
       "<table border=\"1\" class=\"dataframe\">\n",
       "  <thead>\n",
       "    <tr style=\"text-align: right;\">\n",
       "      <th></th>\n",
       "      <th>0</th>\n",
       "    </tr>\n",
       "  </thead>\n",
       "  <tbody>\n",
       "    <tr>\n",
       "      <th>0</th>\n",
       "      <td>functional</td>\n",
       "    </tr>\n",
       "    <tr>\n",
       "      <th>1</th>\n",
       "      <td>functional</td>\n",
       "    </tr>\n",
       "    <tr>\n",
       "      <th>2</th>\n",
       "      <td>functional</td>\n",
       "    </tr>\n",
       "    <tr>\n",
       "      <th>3</th>\n",
       "      <td>non functional</td>\n",
       "    </tr>\n",
       "    <tr>\n",
       "      <th>4</th>\n",
       "      <td>functional</td>\n",
       "    </tr>\n",
       "  </tbody>\n",
       "</table>\n",
       "</div>"
      ],
      "text/plain": [
       "                0\n",
       "0      functional\n",
       "1      functional\n",
       "2      functional\n",
       "3  non functional\n",
       "4      functional"
      ]
     },
     "execution_count": 130,
     "metadata": {},
     "output_type": "execute_result"
    }
   ],
   "source": [
    "subdf.head()"
   ]
  },
  {
   "cell_type": "code",
   "execution_count": 131,
   "metadata": {
    "collapsed": true
   },
   "outputs": [],
   "source": [
    "subdf['id'] = df_test.index"
   ]
  },
  {
   "cell_type": "code",
   "execution_count": 132,
   "metadata": {
    "collapsed": true
   },
   "outputs": [],
   "source": [
    "del subdf[0]"
   ]
  },
  {
   "cell_type": "code",
   "execution_count": 133,
   "metadata": {
    "collapsed": true
   },
   "outputs": [],
   "source": [
    "subdf['status_group'] = model1"
   ]
  },
  {
   "cell_type": "code",
   "execution_count": 134,
   "metadata": {
    "collapsed": true
   },
   "outputs": [],
   "source": [
    "subdf.to_csv('submission16.csv', sep=',', index=False) "
   ]
  },
  {
   "cell_type": "code",
   "execution_count": 135,
   "metadata": {},
   "outputs": [
    {
     "data": {
      "text/plain": [
       "functional                 9151\n",
       "non functional             5159\n",
       "functional needs repair     540\n",
       "Name: status_group, dtype: int64"
      ]
     },
     "execution_count": 135,
     "metadata": {},
     "output_type": "execute_result"
    }
   ],
   "source": [
    "subdf.status_group.value_counts()"
   ]
  },
  {
   "cell_type": "code",
   "execution_count": 136,
   "metadata": {},
   "outputs": [
    {
     "data": {
      "text/plain": [
       "functional                 32247\n",
       "non functional             22805\n",
       "functional needs repair     4316\n",
       "Name: status_group, dtype: int64"
      ]
     },
     "execution_count": 136,
     "metadata": {},
     "output_type": "execute_result"
    }
   ],
   "source": [
    "final_train_df.status_group.value_counts()"
   ]
  }
 ],
 "metadata": {
  "kernelspec": {
   "display_name": "Python 3",
   "language": "python",
   "name": "python3"
  },
  "language_info": {
   "codemirror_mode": {
    "name": "ipython",
    "version": 3
   },
   "file_extension": ".py",
   "mimetype": "text/x-python",
   "name": "python",
   "nbconvert_exporter": "python",
   "pygments_lexer": "ipython3",
   "version": "3.6.3"
  }
 },
 "nbformat": 4,
 "nbformat_minor": 2
}
