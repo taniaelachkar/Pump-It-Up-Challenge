{
 "cells": [
  {
   "cell_type": "markdown",
   "metadata": {},
   "source": [
    "# Pump It Up Challenge Test Dataset Feature Engineering"
   ]
  },
  {
   "cell_type": "code",
   "execution_count": 4,
   "metadata": {
    "collapsed": true
   },
   "outputs": [],
   "source": [
    "%matplotlib inline\n",
    "import pandas as pd\n",
    "import numpy as np"
   ]
  },
  {
   "cell_type": "code",
   "execution_count": 5,
   "metadata": {
    "collapsed": true
   },
   "outputs": [],
   "source": [
    "#doing all the feature engineering steps of training set to the test set"
   ]
  },
  {
   "cell_type": "code",
   "execution_count": 6,
   "metadata": {},
   "outputs": [
    {
     "data": {
      "text/html": [
       "<div>\n",
       "<style>\n",
       "    .dataframe thead tr:only-child th {\n",
       "        text-align: right;\n",
       "    }\n",
       "\n",
       "    .dataframe thead th {\n",
       "        text-align: left;\n",
       "    }\n",
       "\n",
       "    .dataframe tbody tr th {\n",
       "        vertical-align: top;\n",
       "    }\n",
       "</style>\n",
       "<table border=\"1\" class=\"dataframe\">\n",
       "  <thead>\n",
       "    <tr style=\"text-align: right;\">\n",
       "      <th></th>\n",
       "      <th>amount_tsh</th>\n",
       "      <th>date_recorded</th>\n",
       "      <th>funder</th>\n",
       "      <th>gps_height</th>\n",
       "      <th>installer</th>\n",
       "      <th>longitude</th>\n",
       "      <th>latitude</th>\n",
       "      <th>wpt_name</th>\n",
       "      <th>num_private</th>\n",
       "      <th>basin</th>\n",
       "      <th>...</th>\n",
       "      <th>payment_type</th>\n",
       "      <th>water_quality</th>\n",
       "      <th>quality_group</th>\n",
       "      <th>quantity</th>\n",
       "      <th>quantity_group</th>\n",
       "      <th>source</th>\n",
       "      <th>source_type</th>\n",
       "      <th>source_class</th>\n",
       "      <th>waterpoint_type</th>\n",
       "      <th>waterpoint_type_group</th>\n",
       "    </tr>\n",
       "    <tr>\n",
       "      <th>id</th>\n",
       "      <th></th>\n",
       "      <th></th>\n",
       "      <th></th>\n",
       "      <th></th>\n",
       "      <th></th>\n",
       "      <th></th>\n",
       "      <th></th>\n",
       "      <th></th>\n",
       "      <th></th>\n",
       "      <th></th>\n",
       "      <th></th>\n",
       "      <th></th>\n",
       "      <th></th>\n",
       "      <th></th>\n",
       "      <th></th>\n",
       "      <th></th>\n",
       "      <th></th>\n",
       "      <th></th>\n",
       "      <th></th>\n",
       "      <th></th>\n",
       "      <th></th>\n",
       "    </tr>\n",
       "  </thead>\n",
       "  <tbody>\n",
       "    <tr>\n",
       "      <th>50785</th>\n",
       "      <td>0.0</td>\n",
       "      <td>2013-02-04</td>\n",
       "      <td>Dmdd</td>\n",
       "      <td>1996</td>\n",
       "      <td>DMDD</td>\n",
       "      <td>35.290799</td>\n",
       "      <td>-4.059696</td>\n",
       "      <td>Dinamu Secondary School</td>\n",
       "      <td>0</td>\n",
       "      <td>Internal</td>\n",
       "      <td>...</td>\n",
       "      <td>never pay</td>\n",
       "      <td>soft</td>\n",
       "      <td>good</td>\n",
       "      <td>seasonal</td>\n",
       "      <td>seasonal</td>\n",
       "      <td>rainwater harvesting</td>\n",
       "      <td>rainwater harvesting</td>\n",
       "      <td>surface</td>\n",
       "      <td>other</td>\n",
       "      <td>other</td>\n",
       "    </tr>\n",
       "    <tr>\n",
       "      <th>51630</th>\n",
       "      <td>0.0</td>\n",
       "      <td>2013-02-04</td>\n",
       "      <td>Government Of Tanzania</td>\n",
       "      <td>1569</td>\n",
       "      <td>DWE</td>\n",
       "      <td>36.656709</td>\n",
       "      <td>-3.309214</td>\n",
       "      <td>Kimnyak</td>\n",
       "      <td>0</td>\n",
       "      <td>Pangani</td>\n",
       "      <td>...</td>\n",
       "      <td>never pay</td>\n",
       "      <td>soft</td>\n",
       "      <td>good</td>\n",
       "      <td>insufficient</td>\n",
       "      <td>insufficient</td>\n",
       "      <td>spring</td>\n",
       "      <td>spring</td>\n",
       "      <td>groundwater</td>\n",
       "      <td>communal standpipe</td>\n",
       "      <td>communal standpipe</td>\n",
       "    </tr>\n",
       "    <tr>\n",
       "      <th>17168</th>\n",
       "      <td>0.0</td>\n",
       "      <td>2013-02-01</td>\n",
       "      <td>NaN</td>\n",
       "      <td>1567</td>\n",
       "      <td>NaN</td>\n",
       "      <td>34.767863</td>\n",
       "      <td>-5.004344</td>\n",
       "      <td>Puma Secondary</td>\n",
       "      <td>0</td>\n",
       "      <td>Internal</td>\n",
       "      <td>...</td>\n",
       "      <td>never pay</td>\n",
       "      <td>soft</td>\n",
       "      <td>good</td>\n",
       "      <td>insufficient</td>\n",
       "      <td>insufficient</td>\n",
       "      <td>rainwater harvesting</td>\n",
       "      <td>rainwater harvesting</td>\n",
       "      <td>surface</td>\n",
       "      <td>other</td>\n",
       "      <td>other</td>\n",
       "    </tr>\n",
       "    <tr>\n",
       "      <th>45559</th>\n",
       "      <td>0.0</td>\n",
       "      <td>2013-01-22</td>\n",
       "      <td>Finn Water</td>\n",
       "      <td>267</td>\n",
       "      <td>FINN WATER</td>\n",
       "      <td>38.058046</td>\n",
       "      <td>-9.418672</td>\n",
       "      <td>Kwa Mzee Pange</td>\n",
       "      <td>0</td>\n",
       "      <td>Ruvuma / Southern Coast</td>\n",
       "      <td>...</td>\n",
       "      <td>unknown</td>\n",
       "      <td>soft</td>\n",
       "      <td>good</td>\n",
       "      <td>dry</td>\n",
       "      <td>dry</td>\n",
       "      <td>shallow well</td>\n",
       "      <td>shallow well</td>\n",
       "      <td>groundwater</td>\n",
       "      <td>other</td>\n",
       "      <td>other</td>\n",
       "    </tr>\n",
       "    <tr>\n",
       "      <th>49871</th>\n",
       "      <td>500.0</td>\n",
       "      <td>2013-03-27</td>\n",
       "      <td>Bruder</td>\n",
       "      <td>1260</td>\n",
       "      <td>BRUDER</td>\n",
       "      <td>35.006123</td>\n",
       "      <td>-10.950412</td>\n",
       "      <td>Kwa Mzee Turuka</td>\n",
       "      <td>0</td>\n",
       "      <td>Ruvuma / Southern Coast</td>\n",
       "      <td>...</td>\n",
       "      <td>monthly</td>\n",
       "      <td>soft</td>\n",
       "      <td>good</td>\n",
       "      <td>enough</td>\n",
       "      <td>enough</td>\n",
       "      <td>spring</td>\n",
       "      <td>spring</td>\n",
       "      <td>groundwater</td>\n",
       "      <td>communal standpipe</td>\n",
       "      <td>communal standpipe</td>\n",
       "    </tr>\n",
       "  </tbody>\n",
       "</table>\n",
       "<p>5 rows × 39 columns</p>\n",
       "</div>"
      ],
      "text/plain": [
       "       amount_tsh date_recorded                  funder  gps_height  \\\n",
       "id                                                                    \n",
       "50785         0.0    2013-02-04                    Dmdd        1996   \n",
       "51630         0.0    2013-02-04  Government Of Tanzania        1569   \n",
       "17168         0.0    2013-02-01                     NaN        1567   \n",
       "45559         0.0    2013-01-22              Finn Water         267   \n",
       "49871       500.0    2013-03-27                  Bruder        1260   \n",
       "\n",
       "        installer  longitude   latitude                 wpt_name  num_private  \\\n",
       "id                                                                              \n",
       "50785        DMDD  35.290799  -4.059696  Dinamu Secondary School            0   \n",
       "51630         DWE  36.656709  -3.309214                  Kimnyak            0   \n",
       "17168         NaN  34.767863  -5.004344           Puma Secondary            0   \n",
       "45559  FINN WATER  38.058046  -9.418672           Kwa Mzee Pange            0   \n",
       "49871      BRUDER  35.006123 -10.950412          Kwa Mzee Turuka            0   \n",
       "\n",
       "                         basin          ...          payment_type  \\\n",
       "id                                      ...                         \n",
       "50785                 Internal          ...             never pay   \n",
       "51630                  Pangani          ...             never pay   \n",
       "17168                 Internal          ...             never pay   \n",
       "45559  Ruvuma / Southern Coast          ...               unknown   \n",
       "49871  Ruvuma / Southern Coast          ...               monthly   \n",
       "\n",
       "      water_quality  quality_group      quantity quantity_group  \\\n",
       "id                                                                \n",
       "50785          soft           good      seasonal       seasonal   \n",
       "51630          soft           good  insufficient   insufficient   \n",
       "17168          soft           good  insufficient   insufficient   \n",
       "45559          soft           good           dry            dry   \n",
       "49871          soft           good        enough         enough   \n",
       "\n",
       "                     source           source_type source_class  \\\n",
       "id                                                               \n",
       "50785  rainwater harvesting  rainwater harvesting      surface   \n",
       "51630                spring                spring  groundwater   \n",
       "17168  rainwater harvesting  rainwater harvesting      surface   \n",
       "45559          shallow well          shallow well  groundwater   \n",
       "49871                spring                spring  groundwater   \n",
       "\n",
       "          waterpoint_type waterpoint_type_group  \n",
       "id                                               \n",
       "50785               other                 other  \n",
       "51630  communal standpipe    communal standpipe  \n",
       "17168               other                 other  \n",
       "45559               other                 other  \n",
       "49871  communal standpipe    communal standpipe  \n",
       "\n",
       "[5 rows x 39 columns]"
      ]
     },
     "execution_count": 6,
     "metadata": {},
     "output_type": "execute_result"
    }
   ],
   "source": [
    "final_train_df = pd.read_csv(\n",
    "    \"/Users/taniaelachkar/Desktop/MBD/Term 2/Machine Learning II/assignment 2/Pump_it_Up_Data_Mining_the_Water_Table_-_Test_set_values.csv\", sep=',', index_col=\"id\",\n",
    ")\n",
    "final_train_df.head()"
   ]
  },
  {
   "cell_type": "code",
   "execution_count": 7,
   "metadata": {},
   "outputs": [
    {
     "data": {
      "text/plain": [
       "amount_tsh                  0\n",
       "date_recorded               0\n",
       "funder                    869\n",
       "gps_height                  0\n",
       "installer                 877\n",
       "longitude                   0\n",
       "latitude                    0\n",
       "wpt_name                    0\n",
       "num_private                 0\n",
       "basin                       0\n",
       "subvillage                 99\n",
       "region                      0\n",
       "region_code                 0\n",
       "district_code               0\n",
       "lga                         0\n",
       "ward                        0\n",
       "population                  0\n",
       "public_meeting            821\n",
       "recorded_by                 0\n",
       "scheme_management         969\n",
       "scheme_name              7092\n",
       "permit                    737\n",
       "construction_year           0\n",
       "extraction_type             0\n",
       "extraction_type_group       0\n",
       "extraction_type_class       0\n",
       "management                  0\n",
       "management_group            0\n",
       "payment                     0\n",
       "payment_type                0\n",
       "water_quality               0\n",
       "quality_group               0\n",
       "quantity                    0\n",
       "quantity_group              0\n",
       "source                      0\n",
       "source_type                 0\n",
       "source_class                0\n",
       "waterpoint_type             0\n",
       "waterpoint_type_group       0\n",
       "dtype: int64"
      ]
     },
     "execution_count": 7,
     "metadata": {},
     "output_type": "execute_result"
    }
   ],
   "source": [
    "#to get a count of the null values per column\n",
    "final_train_df.isnull().sum()\n",
    "#from below we see funder, installer, subvillage, public_meeting, scheme_management, scheme_name and permit variables have null values."
   ]
  },
  {
   "cell_type": "code",
   "execution_count": 8,
   "metadata": {},
   "outputs": [
    {
     "data": {
      "text/plain": [
       "Government Of Tanzania            2215\n",
       "Danida                             793\n",
       "Hesawa                             580\n",
       "World Bank                         352\n",
       "Kkkt                               336\n",
       "Rwssp                              329\n",
       "World Vision                       316\n",
       "Unicef                             267\n",
       "Tasaf                              259\n",
       "Dhv                                236\n",
       "Private Individual                 208\n",
       "0                                  203\n",
       "Dwsp                               201\n",
       "District Council                   194\n",
       "Norad                              184\n",
       "Water                              156\n",
       "Germany Republi                    155\n",
       "Ministry Of Water                  138\n",
       "Tcrs                               133\n",
       "Hifab                              127\n",
       "Netherlands                        122\n",
       "Dwe                                121\n",
       "Lga                                104\n",
       "Adb                                103\n",
       "Amref                              100\n",
       "Rc Church                           89\n",
       "Private                             85\n",
       "Wateraid                            83\n",
       "Fini Water                          81\n",
       "Mission                             78\n",
       "                                  ... \n",
       "Othodox Church                       1\n",
       "Tlc/community                        1\n",
       "Tcrs /government                     1\n",
       "Nipon & Panoco                       1\n",
       "Villager                             1\n",
       "Senapa                               1\n",
       "Nyamigogo                            1\n",
       "Parastatal                           1\n",
       "Lottery Club                         1\n",
       "Bi Kidawa                            1\n",
       "Rc Cathoric                          1\n",
       "Tasmin                               1\n",
       "Local Government                     1\n",
       "Leef Gold Mining                     1\n",
       "Salim Ahmed Salim                    1\n",
       "Colon                                1\n",
       "Japan Government                     1\n",
       "Songa Hospi                          1\n",
       "Wazieni Bilangali                    1\n",
       "Islamic                              1\n",
       "Ilolangulu Water Supply/mileni       1\n",
       "Kibo Brewaries                       1\n",
       "School Adm9nstrarion                 1\n",
       "World Bank/government                1\n",
       "None                                 1\n",
       "Water User Group                     1\n",
       "Nado                                 1\n",
       "Friends Of Kahama                    1\n",
       "Lga And The Commu                    1\n",
       "Lench                                1\n",
       "Name: funder, Length: 980, dtype: int64"
      ]
     },
     "execution_count": 8,
     "metadata": {},
     "output_type": "execute_result"
    }
   ],
   "source": [
    "#we start with funder variable analysis\n",
    "final_train_df.funder.value_counts()"
   ]
  },
  {
   "cell_type": "code",
   "execution_count": 9,
   "metadata": {},
   "outputs": [
    {
     "data": {
      "text/plain": [
       "soft                  12687\n",
       "salty                  1226\n",
       "unknown                 469\n",
       "milky                   201\n",
       "coloured                133\n",
       "salty abandoned          84\n",
       "fluoride                 44\n",
       "fluoride abandoned        6\n",
       "Name: water_quality, dtype: int64"
      ]
     },
     "execution_count": 9,
     "metadata": {},
     "output_type": "execute_result"
    }
   ],
   "source": [
    "final_train_df.water_quality.value_counts()"
   ]
  },
  {
   "cell_type": "code",
   "execution_count": 10,
   "metadata": {},
   "outputs": [
    {
     "data": {
      "text/plain": [
       "good        12687\n",
       "salty        1310\n",
       "unknown       469\n",
       "milky         201\n",
       "colored       133\n",
       "fluoride       50\n",
       "Name: quality_group, dtype: int64"
      ]
     },
     "execution_count": 10,
     "metadata": {},
     "output_type": "execute_result"
    }
   ],
   "source": [
    "final_train_df.quality_group.value_counts()"
   ]
  },
  {
   "cell_type": "code",
   "execution_count": 11,
   "metadata": {
    "collapsed": true
   },
   "outputs": [],
   "source": [
    "# Creating a function to categorize:\n",
    "# Keep high frequency values and replace low frequency values with new category \"other\"\n",
    "def wrangler_function(row,colName,highFrequencyEntity):  \n",
    "    if row[colName] in highFrequencyEntity:\n",
    "        return row[colName]\n",
    "    else:\n",
    "        return 'other'"
   ]
  },
  {
   "cell_type": "code",
   "execution_count": 12,
   "metadata": {},
   "outputs": [
    {
     "data": {
      "text/plain": [
       "gov    2223\n",
       "dan     796\n",
       "wor     678\n",
       "hes     584\n",
       "kkk     405\n",
       "rws     337\n",
       "uni     302\n",
       "pri     300\n",
       "tas     292\n",
       "wat     291\n",
       "dhv     255\n",
       "dws     218\n",
       "fin     212\n",
       "0       203\n",
       "nor     198\n",
       "dis     194\n",
       "ger     179\n",
       "net     165\n",
       "min     143\n",
       "dwe     141\n",
       "tcr     137\n",
       "hif     127\n",
       "oxf     126\n",
       "rc      122\n",
       "rom     110\n",
       "lga     105\n",
       "adb     103\n",
       "ces     101\n",
       "mis     101\n",
       "amr     100\n",
       "       ... \n",
       "eba       1\n",
       "ci        1\n",
       "umo       1\n",
       "wam       1\n",
       "nic       1\n",
       "fic       1\n",
       "q-s       1\n",
       "run       1\n",
       "mdc       1\n",
       "tea       1\n",
       "env       1\n",
       "dol       1\n",
       "isg       1\n",
       "fid       1\n",
       "mja       1\n",
       "mwe       1\n",
       "pol       1\n",
       "wis       1\n",
       "ox        1\n",
       "lcd       1\n",
       "agn       1\n",
       "iuc       1\n",
       "ba        1\n",
       "new       1\n",
       "tgt       1\n",
       "rub       1\n",
       "mou       1\n",
       "rul       1\n",
       "h/k       1\n",
       "nad       1\n",
       "Name: funder, Length: 577, dtype: int64"
      ]
     },
     "execution_count": 12,
     "metadata": {},
     "output_type": "execute_result"
    }
   ],
   "source": [
    "final_train_df['funder'] = final_train_df['funder'].str.lower().str.slice(0,3)\n",
    "final_train_df.funder.value_counts()"
   ]
  },
  {
   "cell_type": "code",
   "execution_count": 13,
   "metadata": {},
   "outputs": [
    {
     "data": {
      "text/plain": [
       "other    8642\n",
       "gov      2223\n",
       "dan       796\n",
       "wor       678\n",
       "hes       584\n",
       "kkk       405\n",
       "rws       337\n",
       "uni       302\n",
       "pri       300\n",
       "tas       292\n",
       "wat       291\n",
       "Name: funder, dtype: int64"
      ]
     },
     "execution_count": 13,
     "metadata": {},
     "output_type": "execute_result"
    }
   ],
   "source": [
    "highFrequencyEntity = ('gov','dan','hes','rws','wor','kkk','uni','pri','wat','tas')        \n",
    "final_train_df['funder'] = final_train_df.apply(lambda row: wrangler_function(row,'funder',highFrequencyEntity), axis=1)\n",
    "final_train_df.funder.value_counts()"
   ]
  },
  {
   "cell_type": "code",
   "execution_count": 14,
   "metadata": {},
   "outputs": [
    {
     "data": {
      "text/plain": [
       "other    7174\n",
       "dwe      4359\n",
       "gov       677\n",
       "com       441\n",
       "dan       418\n",
       "hes       374\n",
       "dis       310\n",
       "rwe       309\n",
       "kkk       294\n",
       "wor       253\n",
       "cen       241\n",
       "Name: installer, dtype: int64"
      ]
     },
     "execution_count": 14,
     "metadata": {},
     "output_type": "execute_result"
    }
   ],
   "source": [
    "# Exploring \"installer\" variable\n",
    "#repeat the same process as funder with the installer variable\n",
    "final_train_df['installer'] = final_train_df['installer'].str.lower().str.slice(0,3)\n",
    "#final_train_df.installer.value_counts()\n",
    "# Categorizing funder variable, Reducing the levels of the funder variable\n",
    "highFrequencyEntity = ('dwe','gov','dan','com','hes','dis','rwe','wor','kkk','cen')        \n",
    "final_train_df['installer'] = final_train_df.apply(lambda row: wrangler_function(row,'installer',highFrequencyEntity), axis=1)\n",
    "final_train_df.installer.value_counts()"
   ]
  },
  {
   "cell_type": "code",
   "execution_count": 15,
   "metadata": {},
   "outputs": [
    {
     "name": "stdout",
     "output_type": "stream",
     "text": [
      "Number of Sub-villages:  8443\n"
     ]
    },
    {
     "data": {
      "text/plain": [
       "Shuleni                 140\n",
       "Majengo                 129\n",
       "Madukani                121\n",
       "Kati                     94\n",
       "Sokoni                   62\n",
       "Mtakuja                  60\n",
       "M                        56\n",
       "Songambele               47\n",
       "Mbuyuni                  46\n",
       "Muungano                 43\n",
       "Amani                    38\n",
       "Mlimani                  38\n",
       "Kanisani                 35\n",
       "Miembeni                 34\n",
       "Bondeni                  31\n",
       "Msikitini                30\n",
       "Kibaoni                  29\n",
       "Senta                    27\n",
       "Kichangani               26\n",
       "1                        25\n",
       "Nyerere                  24\n",
       "Mtaa Wa Kitunda Kati     24\n",
       "Mjini                    23\n",
       "Mwenge                   23\n",
       "Kisiwani                 22\n",
       "Mjimwema                 21\n",
       "Mkwajuni                 21\n",
       "Mtaa Wa Kivule           21\n",
       "Msumbiji                 21\n",
       "Msufini                  20\n",
       "                       ... \n",
       "Nkonko                    1\n",
       "Mwihando                  1\n",
       "Usinge Kati               1\n",
       "Buyagu                    1\n",
       "Nzoga                     1\n",
       "Kigaga                    1\n",
       "Hhasangw                  1\n",
       "Msindeni A                1\n",
       "Mpalamawe                 1\n",
       "Msalama                   1\n",
       "Ighuka                    1\n",
       "Lyamabumbe                1\n",
       "Ibushi                    1\n",
       "Lwamdembwe                1\n",
       "Njeje                     1\n",
       "Kimanganuni Kati          1\n",
       "Udongo Mashariki          1\n",
       "Kabuyombo                 1\n",
       "Mnyengachi                1\n",
       "Lutaru                    1\n",
       "Mfundize                  1\n",
       "Mgwashi                   1\n",
       "Kabakesa                  1\n",
       "Foini B                   1\n",
       "Busangi                   1\n",
       "Sagalwa                   1\n",
       "Matongolo                 1\n",
       "Karangi                   1\n",
       "Kashambi                  1\n",
       "Maara                     1\n",
       "Name: subvillage, Length: 8443, dtype: int64"
      ]
     },
     "execution_count": 15,
     "metadata": {},
     "output_type": "execute_result"
    }
   ],
   "source": [
    "#analyzing sub-village\n",
    "#Checking number of unique values to categorize subvillage\n",
    "print('Number of Sub-villages: ', len(final_train_df.subvillage.value_counts()))\n",
    "final_train_df.subvillage.value_counts()"
   ]
  },
  {
   "cell_type": "code",
   "execution_count": 16,
   "metadata": {
    "collapsed": true
   },
   "outputs": [],
   "source": [
    "# As there are so many unique values, high frequency values will not be able to dominate other variables. \n",
    "# Hence, it is advisable to remove the column from dataset.\n",
    "final_train_df = final_train_df.drop('subvillage', axis=1)"
   ]
  },
  {
   "cell_type": "code",
   "execution_count": 17,
   "metadata": {},
   "outputs": [
    {
     "data": {
      "text/plain": [
       "(14850, 38)"
      ]
     },
     "execution_count": 17,
     "metadata": {},
     "output_type": "execute_result"
    }
   ],
   "source": [
    "final_train_df.shape"
   ]
  },
  {
   "cell_type": "code",
   "execution_count": 18,
   "metadata": {},
   "outputs": [
    {
     "data": {
      "text/plain": [
       "True     12738\n",
       "False     1291\n",
       "Name: public_meeting, dtype: int64"
      ]
     },
     "execution_count": 18,
     "metadata": {},
     "output_type": "execute_result"
    }
   ],
   "source": [
    "final_train_df.public_meeting.value_counts()"
   ]
  },
  {
   "cell_type": "code",
   "execution_count": 19,
   "metadata": {},
   "outputs": [
    {
     "data": {
      "text/plain": [
       "amount_tsh           43.857861\n",
       "gps_height            0.497094\n",
       "longitude            -4.173130\n",
       "latitude             -0.156238\n",
       "num_private          50.744510\n",
       "region_code           3.201174\n",
       "district_code         3.959339\n",
       "population            8.217148\n",
       "public_meeting       -2.823088\n",
       "permit               -0.827471\n",
       "construction_year    -0.609383\n",
       "dtype: float64"
      ]
     },
     "execution_count": 19,
     "metadata": {},
     "output_type": "execute_result"
    }
   ],
   "source": [
    "final_train_df.skew()"
   ]
  },
  {
   "cell_type": "code",
   "execution_count": 20,
   "metadata": {
    "collapsed": true
   },
   "outputs": [],
   "source": [
    "final_train_df.public_meeting = final_train_df.public_meeting.fillna(True)"
   ]
  },
  {
   "cell_type": "code",
   "execution_count": 21,
   "metadata": {},
   "outputs": [
    {
     "data": {
      "text/plain": [
       "VWC                 9124\n",
       "WUG                 1290\n",
       "Water authority      822\n",
       "Water Board          714\n",
       "WUA                  668\n",
       "Parastatal           444\n",
       "Company              280\n",
       "Private operator     263\n",
       "Other                230\n",
       "SWC                   26\n",
       "Trust                 20\n",
       "Name: scheme_management, dtype: int64"
      ]
     },
     "execution_count": 21,
     "metadata": {},
     "output_type": "execute_result"
    }
   ],
   "source": [
    "#analyzing scheme_management variable\n",
    "final_train_df.scheme_management.value_counts()"
   ]
  },
  {
   "cell_type": "code",
   "execution_count": 22,
   "metadata": {},
   "outputs": [
    {
     "data": {
      "text/plain": [
       "VWC                9124\n",
       "other              1508\n",
       "WUG                1290\n",
       "Water authority     822\n",
       "Water Board         714\n",
       "WUA                 668\n",
       "Parastatal          444\n",
       "Company             280\n",
       "Name: scheme_management, dtype: int64"
      ]
     },
     "execution_count": 22,
     "metadata": {},
     "output_type": "execute_result"
    }
   ],
   "source": [
    "# Since ther 'scheme_management' variable includes high frequency and few low as well. We'll categorize it.\n",
    "highFrequencyEntity = ('VWC','WUG','Water authority','WUA','Water Board','Parastatal','Private Operator','Company')        \n",
    "final_train_df['scheme_management'] = final_train_df.apply(lambda row: wrangler_function(row,'scheme_management',highFrequencyEntity), axis=1)\n",
    "final_train_df.scheme_management.value_counts()"
   ]
  },
  {
   "cell_type": "code",
   "execution_count": 23,
   "metadata": {},
   "outputs": [
    {
     "data": {
      "text/plain": [
       "K                                        176\n",
       "Borehole                                 158\n",
       "None                                     150\n",
       "DANIDA                                   104\n",
       "Chalinze wate                             96\n",
       "M                                         90\n",
       "Government                                75\n",
       "Bagamoyo wate                             67\n",
       "Ngana water supplied scheme               65\n",
       "wanging'ombe water supply s               62\n",
       "Uroki-Bomang'ombe water sup               57\n",
       "N                                         54\n",
       "I                                         52\n",
       "Handeni Trunk Main(H                      52\n",
       "wanging'ombe supply scheme                50\n",
       "Kirua kahe gravity water supply trust     44\n",
       "Kijiji                                    44\n",
       "Makwale water supplied sche               43\n",
       "Machumba estate pipe line                 40\n",
       "Lyamungo umbwe water supply               34\n",
       "S                                         34\n",
       "Mradi wa maji wa wino                     33\n",
       "Losaa-Kia water supply                    32\n",
       "Roman                                     32\n",
       "Mkongoro Two                              32\n",
       "upper Ruvu                                31\n",
       "Mkongoro One                              31\n",
       "mtwango water supply scheme               31\n",
       "Kidia kilemapunda                         30\n",
       "Una mkolowoni                             30\n",
       "                                        ... \n",
       "BL Vetenary                                1\n",
       "Koronani Borehole                          1\n",
       "Kinu                                       1\n",
       "QWICKWIN                                   1\n",
       "Sasani                                     1\n",
       "TM Namwe                                   1\n",
       "Marera water supply                        1\n",
       "Pinyinyi water scheme                      1\n",
       "Sawasa water supoly                        1\n",
       "Kampogonyo water                           1\n",
       "Lake victoria pipe scheme                  1\n",
       "Zepi                                       1\n",
       "Maja                                       1\n",
       "Irevea sister water projec                 1\n",
       "Kidu                                       1\n",
       "Uhindi water supply                        1\n",
       "Sauwasa water supply                       1\n",
       "Vihi                                       1\n",
       "Liuguru                                    1\n",
       "Nangunde                                   1\n",
       "Chimbendenga                               1\n",
       "Bl kikwe water supply                      1\n",
       "Mkuru Pumping water supply                 1\n",
       "Mali water supply                          1\n",
       "Good management                            1\n",
       "Nyamasenene Water Supply                   1\n",
       "Maranje water supply                       1\n",
       "Ibil                                       1\n",
       "Mashati water supply                       1\n",
       "Naberera pipe scheme                       1\n",
       "Name: scheme_name, Length: 1789, dtype: int64"
      ]
     },
     "execution_count": 23,
     "metadata": {},
     "output_type": "execute_result"
    }
   ],
   "source": [
    "#analyzing scheme_name variable\n",
    "final_train_df.scheme_name.value_counts()"
   ]
  },
  {
   "cell_type": "code",
   "execution_count": 24,
   "metadata": {
    "collapsed": true
   },
   "outputs": [],
   "source": [
    "# As there are so many unique values, high frequency values will not be able to dominate other variables. \n",
    "# Hence, it is advisable to remove the column from dataset.\n",
    "final_train_df = final_train_df.drop('scheme_name', axis=1)"
   ]
  },
  {
   "cell_type": "code",
   "execution_count": 25,
   "metadata": {},
   "outputs": [
    {
     "data": {
      "text/plain": [
       "True     9754\n",
       "False    4359\n",
       "Name: permit, dtype: int64"
      ]
     },
     "execution_count": 25,
     "metadata": {},
     "output_type": "execute_result"
    }
   ],
   "source": [
    "#analyzing permit variable\n",
    "final_train_df.permit.value_counts()"
   ]
  },
  {
   "cell_type": "code",
   "execution_count": 26,
   "metadata": {
    "collapsed": true
   },
   "outputs": [],
   "source": [
    "final_train_df.permit = final_train_df.permit.fillna(True)"
   ]
  },
  {
   "cell_type": "code",
   "execution_count": 27,
   "metadata": {},
   "outputs": [
    {
     "data": {
      "text/plain": [
       "0      14656\n",
       "1         21\n",
       "5         14\n",
       "8         12\n",
       "15        12\n",
       "6         11\n",
       "3         11\n",
       "4         10\n",
       "93         9\n",
       "102        8\n",
       "2          8\n",
       "17         7\n",
       "11         7\n",
       "47         6\n",
       "16         5\n",
       "22         5\n",
       "65         5\n",
       "32         5\n",
       "7          5\n",
       "45         5\n",
       "39         4\n",
       "34         3\n",
       "50         2\n",
       "120        2\n",
       "80         2\n",
       "12         2\n",
       "41         2\n",
       "25         2\n",
       "180        2\n",
       "23         1\n",
       "13         1\n",
       "420        1\n",
       "10         1\n",
       "26         1\n",
       "141        1\n",
       "669        1\n",
       "Name: num_private, dtype: int64"
      ]
     },
     "execution_count": 27,
     "metadata": {},
     "output_type": "execute_result"
    }
   ],
   "source": [
    "#next we analyze with num_private column as it has a high skewness value\n",
    "final_train_df.num_private.value_counts()"
   ]
  },
  {
   "cell_type": "code",
   "execution_count": 28,
   "metadata": {
    "collapsed": true
   },
   "outputs": [],
   "source": [
    "#num_private column is removed as 99% of the column is filled with 0's\n",
    "final_train_df = final_train_df.drop('num_private', axis=1)"
   ]
  },
  {
   "cell_type": "code",
   "execution_count": 29,
   "metadata": {},
   "outputs": [
    {
     "data": {
      "text/plain": [
       "(14850, 36)"
      ]
     },
     "execution_count": 29,
     "metadata": {},
     "output_type": "execute_result"
    }
   ],
   "source": [
    "final_train_df.shape"
   ]
  },
  {
   "cell_type": "code",
   "execution_count": 30,
   "metadata": {},
   "outputs": [
    {
     "data": {
      "text/plain": [
       "GeoData Consultants Ltd    14850\n",
       "Name: recorded_by, dtype: int64"
      ]
     },
     "execution_count": 30,
     "metadata": {},
     "output_type": "execute_result"
    }
   ],
   "source": [
    "#analyzing recorded_by column\n",
    "final_train_df.recorded_by.value_counts()"
   ]
  },
  {
   "cell_type": "code",
   "execution_count": 31,
   "metadata": {
    "collapsed": true
   },
   "outputs": [],
   "source": [
    "#Remove recorded_by column as it has only one value for all rows\n",
    "final_train_df = final_train_df.drop('recorded_by', axis=1)"
   ]
  },
  {
   "cell_type": "code",
   "execution_count": 32,
   "metadata": {},
   "outputs": [
    {
     "data": {
      "text/plain": [
       "(14850, 35)"
      ]
     },
     "execution_count": 32,
     "metadata": {},
     "output_type": "execute_result"
    }
   ],
   "source": [
    "final_train_df.shape"
   ]
  },
  {
   "cell_type": "code",
   "execution_count": 33,
   "metadata": {},
   "outputs": [
    {
     "data": {
      "text/plain": [
       "none                     877\n",
       "Shuleni                  435\n",
       "Zahanati                 204\n",
       "Msikitini                112\n",
       "Sokoni                    68\n",
       "Kanisani                  67\n",
       "Ofisini                   67\n",
       "Bombani                   52\n",
       "School                    52\n",
       "Shule Ya Msingi           48\n",
       "Shule                     39\n",
       "Upendo                    37\n",
       "Mkombozi                  34\n",
       "Sekondari                 32\n",
       "Muungano                  26\n",
       "Songambele                24\n",
       "Madukani                  24\n",
       "Kituo Cha Afya            23\n",
       "Umoja                     21\n",
       "Bwawani                   20\n",
       "Mbugani                   19\n",
       "Bondeni                   19\n",
       "Kisimani                  19\n",
       "Center                    17\n",
       "Shuleni Sekondari         16\n",
       "Maendeleo                 15\n",
       "Mtakuja                   15\n",
       "Mkuyuni                   15\n",
       "Mkwajuni                  15\n",
       "Kilabuni                  14\n",
       "                        ... \n",
       "Plot 18                    1\n",
       "Maji Ya Bluu               1\n",
       "Wamata                     1\n",
       "Kwa Sala Hassani           1\n",
       "Kwa Hussein Tita           1\n",
       "Nguzule                    1\n",
       "Omary Dodo                 1\n",
       "Mnoha                      1\n",
       "Hamsa Kagoda               1\n",
       "Kwamzirai                  1\n",
       "Kwa Remija Kimbe           1\n",
       "Kwa Raule                  1\n",
       "Kwa Joseph Mdeke           1\n",
       "Kwa Rusungu Maganga        1\n",
       "Nyangamba Primary          1\n",
       "Mtaa Wa Karitu             1\n",
       "Kwa Baba Lai               1\n",
       "Kwa Natalia Serafini       1\n",
       "Mwita Muremi               1\n",
       "Magezibili                 1\n",
       "Kwachalachimu              1\n",
       "Sembeti Park               1\n",
       "Kwa Aron                   1\n",
       "Kwa Davis Mwamunyange      1\n",
       "Mkuru Mtc                  1\n",
       "Palioni                    1\n",
       "Combine B                  1\n",
       "Zabron                     1\n",
       "Kwa Bakari Athumani        1\n",
       "Kwa Gidale                 1\n",
       "Name: wpt_name, Length: 10840, dtype: int64"
      ]
     },
     "execution_count": 33,
     "metadata": {},
     "output_type": "execute_result"
    }
   ],
   "source": [
    "#next we analyze with wpt_name column as it has a high skewness value\n",
    "final_train_df.wpt_name.value_counts()"
   ]
  },
  {
   "cell_type": "code",
   "execution_count": 34,
   "metadata": {
    "collapsed": true
   },
   "outputs": [],
   "source": [
    "#Remove wpt_name column as it has only one value for all rows\n",
    "final_train_df = final_train_df.drop('wpt_name', axis=1)"
   ]
  },
  {
   "cell_type": "code",
   "execution_count": 35,
   "metadata": {},
   "outputs": [
    {
     "data": {
      "text/plain": [
       "(14850, 34)"
      ]
     },
     "execution_count": 35,
     "metadata": {},
     "output_type": "execute_result"
    }
   ],
   "source": [
    "final_train_df.shape"
   ]
  },
  {
   "cell_type": "code",
   "execution_count": 36,
   "metadata": {},
   "outputs": [
    {
     "data": {
      "text/plain": [
       "array(['2013-02-04', '2013-02-01', '2013-01-22', '2013-03-27',\n",
       "       '2013-03-04', '2011-03-02', '2013-01-25', '2013-01-23',\n",
       "       '2013-03-18', '2013-10-03', '2013-02-27', '2012-10-11',\n",
       "       '2011-07-29', '2013-06-03', '2011-02-24', '2011-03-11',\n",
       "       '2012-10-06', '2013-02-02', '2013-03-12', '2011-03-07',\n",
       "       '2013-02-09', '2012-10-07', '2011-02-23', '2013-02-18',\n",
       "       '2011-04-10', '2013-02-20', '2013-12-03', '2012-10-29',\n",
       "       '2012-11-05', '2013-03-13', '2011-03-27', '2011-07-04',\n",
       "       '2011-03-14', '2013-02-22', '2011-02-27', '2011-03-30',\n",
       "       '2013-02-06', '2011-03-19', '2012-10-12', '2011-08-14',\n",
       "       '2011-07-28', '2011-04-03', '2012-10-15', '2011-04-12',\n",
       "       '2012-10-16', '2011-07-23', '2011-03-18', '2013-01-19',\n",
       "       '2011-08-01', '2011-08-07', '2013-03-30', '2013-02-12',\n",
       "       '2013-03-28', '2012-10-13', '2012-10-19', '2013-01-29',\n",
       "       '2011-03-04', '2011-03-23', '2013-03-19', '2013-02-16',\n",
       "       '2013-03-17', '2013-02-11', '2013-02-03', '2011-04-08',\n",
       "       '2013-02-19', '2011-08-20', '2013-02-08', '2011-03-05',\n",
       "       '2013-03-21', '2011-03-10', '2013-03-06', '2012-10-28',\n",
       "       '2011-07-08', '2011-07-10', '2012-10-25', '2011-07-26',\n",
       "       '2011-03-22', '2013-02-15', '2011-03-20', '2011-02-14',\n",
       "       '2013-02-13', '2011-07-16', '2011-03-16', '2012-10-18',\n",
       "       '2011-03-12', '2011-07-12', '2011-07-22', '2012-10-03',\n",
       "       '2011-03-01', '2013-01-26', '2011-06-03', '2011-03-08',\n",
       "       '2011-04-18', '2013-02-07', '2012-12-10', '2013-03-15',\n",
       "       '2013-04-04', '2011-04-04', '2013-03-01', '2013-01-27',\n",
       "       '2012-10-14', '2011-03-21', '2011-02-26', '2011-07-20',\n",
       "       '2013-03-14', '2012-11-08', '2013-01-30', '2011-07-19',\n",
       "       '2013-01-24', '2012-10-10', '2013-02-23', '2013-03-16',\n",
       "       '2011-07-31', '2011-04-01', '2011-04-22', '2013-08-02',\n",
       "       '2011-08-05', '2011-02-16', '2011-04-09', '2011-03-17',\n",
       "       '2013-02-14', '2013-03-25', '2013-02-21', '2011-08-10',\n",
       "       '2012-10-20', '2013-03-24', '2011-08-03', '2011-07-05',\n",
       "       '2013-01-16', '2011-02-20', '2013-03-22', '2011-07-17',\n",
       "       '2012-10-08', '2011-03-15', '2011-08-24', '2011-04-06',\n",
       "       '2013-02-24', '2011-03-28', '2011-03-06', '2011-03-26',\n",
       "       '2013-11-03', '2011-04-14', '2013-03-26', '2012-12-13',\n",
       "       '2013-03-03', '2012-11-09', '2012-10-27', '2011-11-03',\n",
       "       '2011-02-03', '2011-08-02', '2013-03-20', '2011-07-25',\n",
       "       '2013-01-20', '2013-02-17', '2013-01-18', '2011-07-27',\n",
       "       '2011-12-03', '2011-04-07', '2012-11-03', '2012-10-26',\n",
       "       '2011-04-17', '2011-07-21', '2011-07-11', '2011-03-29',\n",
       "       '2011-08-16', '2013-02-26', '2011-04-11', '2011-06-04',\n",
       "       '2011-02-22', '2013-01-28', '2011-08-04', '2013-02-10',\n",
       "       '2012-10-09', '2013-01-31', '2012-10-22', '2013-03-29',\n",
       "       '2011-03-09', '2013-03-23', '2011-07-30', '2011-02-28',\n",
       "       '2013-01-17', '2011-08-08', '2011-04-16', '2012-10-17',\n",
       "       '2013-01-15', '2013-02-25', '2011-02-25', '2011-02-19',\n",
       "       '2011-07-15', '2011-03-31', '2011-04-05', '2011-08-22',\n",
       "       '2011-07-18', '2011-04-15', '2011-03-24', '2012-10-23',\n",
       "       '2013-04-03', '2011-03-13', '2011-08-26', '2013-02-05',\n",
       "       '2011-09-04', '2011-04-20', '2011-07-07', '2011-03-25',\n",
       "       '2012-10-21', '2011-04-19', '2012-11-04', '2011-08-11',\n",
       "       '2012-10-24', '2013-05-04', '2011-07-13', '2012-11-06',\n",
       "       '2013-07-04', '2011-07-24', '2013-07-02', '2012-10-04',\n",
       "       '2012-12-14', '2011-08-23', '2011-03-03', '2013-06-04',\n",
       "       '2013-02-28', '2013-07-03', '2012-11-01', '2012-11-10',\n",
       "       '2013-03-10', '2011-08-15', '2011-12-07', '2011-02-18',\n",
       "       '2011-01-03', '2011-04-02', '2013-03-02', '2013-03-11',\n",
       "       '2013-01-09', '2012-10-31', '2011-08-19', '2012-10-02',\n",
       "       '2013-01-21', '2013-01-03', '2013-03-07', '2011-04-13',\n",
       "       '2012-11-13', '2011-02-04', '2011-02-17', '2013-11-02',\n",
       "       '2011-02-21', '2011-08-06', '2011-01-08', '2011-07-14',\n",
       "       '2012-10-05', '2011-08-13', '2011-07-06', '2011-10-04',\n",
       "       '2012-12-16', '2011-06-07', '2011-02-15', '2013-01-06',\n",
       "       '2012-11-15', '2013-05-03', '2013-03-05', '2013-04-02',\n",
       "       '2011-07-09', '2011-10-07', '2013-03-08', '2011-08-09',\n",
       "       '2011-08-12', '2012-12-11', '2012-11-07', '2012-11-12',\n",
       "       '2011-09-02', '2011-08-21', '2012-12-17', '2012-12-18',\n",
       "       '2013-08-03', '2013-10-02', '2013-12-02', '2011-02-01',\n",
       "       '2012-12-15', '2013-05-02', '2013-01-11', '2011-08-18',\n",
       "       '2013-09-03', '2011-08-17', '2013-09-02', '2013-03-09',\n",
       "       '2011-10-03', '2012-11-11', '2013-01-14', '2012-11-19',\n",
       "       '2012-10-30', '2013-01-12', '2013-01-04', '2004-01-04',\n",
       "       '2011-04-21', '2011-04-23', '2011-09-24', '2004-02-23',\n",
       "       '2011-11-07', '2013-01-13', '2012-11-29', '2012-10-01',\n",
       "       '2012-11-02', '2013-01-07', '2011-01-04', '2011-08-25',\n",
       "       '2012-11-14', '2011-09-03', '2011-11-04', '2004-02-01',\n",
       "       '2011-09-10', '2011-05-03', '2011-07-03', '2013-01-08',\n",
       "       '2004-12-01', '2001-03-26', '2012-11-30', '2004-06-01',\n",
       "       '2013-01-10', '2011-08-29', '2004-01-12', '2011-08-27',\n",
       "       '2012-12-23', '2011-09-07', '2004-12-03', '2004-09-01',\n",
       "       '2012-12-12', '2011-02-02', '2012-12-24', '2004-05-01',\n",
       "       '2011-09-22', '2011-05-04', '2004-01-09'], dtype=object)"
      ]
     },
     "execution_count": 36,
     "metadata": {},
     "output_type": "execute_result"
    }
   ],
   "source": [
    "#analyzing date_recorded column\n",
    "final_train_df.date_recorded.unique()\n",
    "#from below we see that the recorded dates in the year 2004 and 2002 could possibly be outliers"
   ]
  },
  {
   "cell_type": "code",
   "execution_count": 37,
   "metadata": {},
   "outputs": [
    {
     "data": {
      "text/plain": [
       "array([2012, 2000, 2010, 1987, 1990, 2007, 1982, 1997, 2003, 2006, 2002,\n",
       "          0, 1984, 1989, 1978, 2008, 2005, 1970, 2009, 1998, 1971, 1972,\n",
       "       1983, 1974, 1992, 1999, 2004, 2011, 1988, 1962, 1986, 1985, 1969,\n",
       "       1996, 1994, 1960, 1975, 1981, 1995, 1963, 1977, 2001, 1993, 1991,\n",
       "       1976, 1980, 2013, 1979, 1967, 1973, 1968, 1965, 1961, 1966, 1964])"
      ]
     },
     "execution_count": 37,
     "metadata": {},
     "output_type": "execute_result"
    }
   ],
   "source": [
    "#analyzing construction_year feature\n",
    "final_train_df.construction_year.unique()"
   ]
  },
  {
   "cell_type": "code",
   "execution_count": 38,
   "metadata": {
    "collapsed": true
   },
   "outputs": [],
   "source": [
    "final_train_df.loc[(final_train_df.construction_year == 0), 'construction_year'] = final_train_df.construction_year.median()"
   ]
  },
  {
   "cell_type": "code",
   "execution_count": 39,
   "metadata": {
    "collapsed": true
   },
   "outputs": [],
   "source": [
    "#converting date_recorded and construction_year columns from object to datetime to  further process it\n",
    "final_train_df['date_recorded'] = pd.to_datetime(final_train_df['date_recorded'])"
   ]
  },
  {
   "cell_type": "code",
   "execution_count": 40,
   "metadata": {},
   "outputs": [
    {
     "data": {
      "text/plain": [
       "id\n",
       "50785     1.0\n",
       "51630    13.0\n",
       "17168     3.0\n",
       "45559    26.0\n",
       "49871    13.0\n",
       "52449    23.0\n",
       "24806     4.0\n",
       "28965    31.0\n",
       "36301    16.0\n",
       "54122    10.0\n",
       "419       7.0\n",
       "45750    11.0\n",
       "653      26.0\n",
       "14017    25.0\n",
       "44607    27.0\n",
       "40228    24.0\n",
       "27714    25.0\n",
       "28785    33.0\n",
       "28330    26.0\n",
       "18532    31.0\n",
       "69961     3.0\n",
       "55083     3.0\n",
       "8691      8.0\n",
       "30331    43.0\n",
       "70970    26.0\n",
       "61136     3.0\n",
       "28799     4.0\n",
       "46825    25.0\n",
       "44718    27.0\n",
       "37350    11.0\n",
       "         ... \n",
       "52228    12.0\n",
       "70038     6.0\n",
       "25901    16.0\n",
       "21131    25.0\n",
       "26580     3.0\n",
       "66059    35.0\n",
       "32944    26.0\n",
       "13686    25.0\n",
       "8471     25.0\n",
       "19620     8.0\n",
       "74162    17.0\n",
       "37994    26.0\n",
       "71151    12.0\n",
       "45017     8.0\n",
       "12592    25.0\n",
       "58693    27.0\n",
       "57539     2.0\n",
       "71252     3.0\n",
       "7869     25.0\n",
       "57316     6.0\n",
       "59757     4.0\n",
       "64579    26.0\n",
       "57731     4.0\n",
       "65541    18.0\n",
       "68174    26.0\n",
       "39307    23.0\n",
       "18990    17.0\n",
       "28749     3.0\n",
       "33492     4.0\n",
       "68707     5.0\n",
       "Name: age, Length: 14850, dtype: float64"
      ]
     },
     "execution_count": 40,
     "metadata": {},
     "output_type": "execute_result"
    }
   ],
   "source": [
    "#constructing the age feature from construction_year and date_recorded without removing the outliers\n",
    "final_train_df['age'] = (final_train_df['date_recorded'].dt.year).sub(final_train_df['construction_year'], axis=0)\n",
    "final_train_df['age']"
   ]
  },
  {
   "cell_type": "code",
   "execution_count": 41,
   "metadata": {
    "collapsed": true
   },
   "outputs": [],
   "source": [
    "final_train_df.loc[(final_train_df.age == 0), 'age'] = final_train_df.age.median()"
   ]
  },
  {
   "cell_type": "code",
   "execution_count": 42,
   "metadata": {},
   "outputs": [
    {
     "data": {
      "text/plain": [
       "amount_tsh           43.857861\n",
       "gps_height            0.497094\n",
       "longitude            -4.173130\n",
       "latitude             -0.156238\n",
       "region_code           3.201174\n",
       "district_code         3.959339\n",
       "population            8.217148\n",
       "public_meeting       -2.932518\n",
       "permit               -0.906868\n",
       "construction_year     0.106111\n",
       "age                  -0.086473\n",
       "dtype: float64"
      ]
     },
     "execution_count": 42,
     "metadata": {},
     "output_type": "execute_result"
    }
   ],
   "source": [
    "final_train_df.skew()\n",
    "#as we see below the age feature has negative skewness due to the possibility of outliers in date_recorded column\n",
    "#now we remove the outliers from the date_recorded column and construct the age column again "
   ]
  },
  {
   "cell_type": "code",
   "execution_count": 43,
   "metadata": {
    "collapsed": true
   },
   "outputs": [],
   "source": [
    "#since we have the age_wo feature, we can remove date_recorded and construction_year features from our dataframe\n",
    "final_train_df = final_train_df.drop('date_recorded', axis=1)"
   ]
  },
  {
   "cell_type": "code",
   "execution_count": 44,
   "metadata": {},
   "outputs": [
    {
     "data": {
      "text/plain": [
       "(14850, 34)"
      ]
     },
     "execution_count": 44,
     "metadata": {},
     "output_type": "execute_result"
    }
   ],
   "source": [
    "final_train_df.shape"
   ]
  },
  {
   "cell_type": "code",
   "execution_count": 45,
   "metadata": {},
   "outputs": [
    {
     "data": {
      "text/plain": [
       "(14850, 34)"
      ]
     },
     "execution_count": 45,
     "metadata": {},
     "output_type": "execute_result"
    }
   ],
   "source": [
    "final_train_df.shape"
   ]
  },
  {
   "cell_type": "code",
   "execution_count": 46,
   "metadata": {},
   "outputs": [
    {
     "data": {
      "text/plain": [
       "gravity              6483\n",
       "nira/tanira          2051\n",
       "other                1672\n",
       "submersible          1218\n",
       "swn 80                918\n",
       "mono                  763\n",
       "india mark ii         629\n",
       "afridev               438\n",
       "ksb                   375\n",
       "other - rope pump     121\n",
       "other - swn 81         55\n",
       "india mark iii         37\n",
       "windmill               35\n",
       "cemo                   18\n",
       "other - play pump      16\n",
       "walimi                 12\n",
       "climax                  9\n",
       "Name: extraction_type, dtype: int64"
      ]
     },
     "execution_count": 46,
     "metadata": {},
     "output_type": "execute_result"
    }
   ],
   "source": [
    "#analyzing all extraction variables\n",
    "final_train_df.extraction_type.value_counts()"
   ]
  },
  {
   "cell_type": "code",
   "execution_count": 47,
   "metadata": {},
   "outputs": [
    {
     "data": {
      "text/plain": [
       "gravity         6483\n",
       "handpump        4156\n",
       "other           1672\n",
       "submersible     1593\n",
       "motorpump        790\n",
       "rope pump        121\n",
       "wind-powered      35\n",
       "Name: extraction_type_class, dtype: int64"
      ]
     },
     "execution_count": 47,
     "metadata": {},
     "output_type": "execute_result"
    }
   ],
   "source": [
    "final_train_df.extraction_type_class.value_counts()"
   ]
  },
  {
   "cell_type": "code",
   "execution_count": 48,
   "metadata": {},
   "outputs": [
    {
     "data": {
      "text/plain": [
       "gravity            6483\n",
       "nira/tanira        2051\n",
       "other              1672\n",
       "submersible        1593\n",
       "swn 80              918\n",
       "mono                763\n",
       "india mark ii       629\n",
       "afridev             438\n",
       "rope pump           121\n",
       "other handpump       83\n",
       "india mark iii       37\n",
       "wind-powered         35\n",
       "other motorpump      27\n",
       "Name: extraction_type_group, dtype: int64"
      ]
     },
     "execution_count": 48,
     "metadata": {},
     "output_type": "execute_result"
    }
   ],
   "source": [
    "final_train_df.extraction_type_group.value_counts()"
   ]
  },
  {
   "cell_type": "code",
   "execution_count": 49,
   "metadata": {
    "collapsed": true
   },
   "outputs": [],
   "source": [
    "#after observing all three extraction variables, we decide to keep extraction_type_class as it provides a more compact grouping for variable extraction.\n",
    "final_train_df = final_train_df.drop('extraction_type_group', axis=1)"
   ]
  },
  {
   "cell_type": "code",
   "execution_count": 50,
   "metadata": {
    "collapsed": true
   },
   "outputs": [],
   "source": [
    "final_train_df = final_train_df.drop('extraction_type', axis=1)"
   ]
  },
  {
   "cell_type": "code",
   "execution_count": 51,
   "metadata": {},
   "outputs": [
    {
     "data": {
      "text/plain": [
       "(14850, 32)"
      ]
     },
     "execution_count": 51,
     "metadata": {},
     "output_type": "execute_result"
    }
   ],
   "source": [
    "final_train_df.shape"
   ]
  },
  {
   "cell_type": "code",
   "execution_count": 52,
   "metadata": {},
   "outputs": [
    {
     "data": {
      "text/plain": [
       "vwc                 10117\n",
       "wug                  1593\n",
       "water board           755\n",
       "wua                   583\n",
       "private operator      533\n",
       "parastatal            461\n",
       "other                 239\n",
       "water authority       219\n",
       "company               174\n",
       "unknown               122\n",
       "trust                  27\n",
       "other - school         27\n",
       "Name: management, dtype: int64"
      ]
     },
     "execution_count": 52,
     "metadata": {},
     "output_type": "execute_result"
    }
   ],
   "source": [
    "#analyzing the management variables\n",
    "final_train_df.management.value_counts()"
   ]
  },
  {
   "cell_type": "code",
   "execution_count": 53,
   "metadata": {},
   "outputs": [
    {
     "data": {
      "text/plain": [
       "VWC                9124\n",
       "other              1508\n",
       "WUG                1290\n",
       "Water authority     822\n",
       "Water Board         714\n",
       "WUA                 668\n",
       "Parastatal          444\n",
       "Company             280\n",
       "Name: scheme_management, dtype: int64"
      ]
     },
     "execution_count": 53,
     "metadata": {},
     "output_type": "execute_result"
    }
   ],
   "source": [
    "final_train_df.scheme_management.value_counts()"
   ]
  },
  {
   "cell_type": "code",
   "execution_count": 54,
   "metadata": {
    "collapsed": true
   },
   "outputs": [],
   "source": [
    "#since scheme_management better represent management variable, we keep that and remove management variable\n",
    "final_train_df = final_train_df.drop('management', axis=1)"
   ]
  },
  {
   "cell_type": "code",
   "execution_count": 55,
   "metadata": {},
   "outputs": [
    {
     "data": {
      "text/plain": [
       "(14850, 31)"
      ]
     },
     "execution_count": 55,
     "metadata": {},
     "output_type": "execute_result"
    }
   ],
   "source": [
    "final_train_df.shape"
   ]
  },
  {
   "cell_type": "code",
   "execution_count": 56,
   "metadata": {},
   "outputs": [
    {
     "data": {
      "text/plain": [
       "user-group    13048\n",
       "commercial      953\n",
       "parastatal      461\n",
       "other           266\n",
       "unknown         122\n",
       "Name: management_group, dtype: int64"
      ]
     },
     "execution_count": 56,
     "metadata": {},
     "output_type": "execute_result"
    }
   ],
   "source": [
    "final_train_df.management_group.value_counts()\n",
    "#from below, we see user-group dominates the management_group values, thus we remove the management_group feature"
   ]
  },
  {
   "cell_type": "code",
   "execution_count": 57,
   "metadata": {},
   "outputs": [
    {
     "data": {
      "text/plain": [
       "user-group    13048\n",
       "commercial      953\n",
       "parastatal      461\n",
       "other           388\n",
       "Name: management_group, dtype: int64"
      ]
     },
     "execution_count": 57,
     "metadata": {},
     "output_type": "execute_result"
    }
   ],
   "source": [
    "#final_train_df = final_train_df.drop('management_group', axis=1)\n",
    "highFrequencyEntity = ('user-group','commercial','parastatal','other')        \n",
    "final_train_df['management_group'] = final_train_df.apply(lambda row: wrangler_function(row,'management_group',highFrequencyEntity), axis=1)\n",
    "final_train_df.management_group.value_counts()"
   ]
  },
  {
   "cell_type": "code",
   "execution_count": 58,
   "metadata": {},
   "outputs": [
    {
     "data": {
      "text/plain": [
       "(14850, 31)"
      ]
     },
     "execution_count": 58,
     "metadata": {},
     "output_type": "execute_result"
    }
   ],
   "source": [
    "final_train_df.shape"
   ]
  },
  {
   "cell_type": "code",
   "execution_count": 59,
   "metadata": {},
   "outputs": [
    {
     "data": {
      "text/plain": [
       "never pay                6364\n",
       "pay per bucket           2281\n",
       "pay monthly              2097\n",
       "unknown                  1992\n",
       "pay when scheme fails     928\n",
       "pay annually              928\n",
       "other                     260\n",
       "Name: payment, dtype: int64"
      ]
     },
     "execution_count": 59,
     "metadata": {},
     "output_type": "execute_result"
    }
   ],
   "source": [
    "#analyzing payment variable\n",
    "final_train_df.payment.value_counts()"
   ]
  },
  {
   "cell_type": "code",
   "execution_count": 60,
   "metadata": {},
   "outputs": [
    {
     "data": {
      "text/plain": [
       "never pay     6364\n",
       "per bucket    2281\n",
       "monthly       2097\n",
       "unknown       1992\n",
       "annually       928\n",
       "on failure     928\n",
       "other          260\n",
       "Name: payment_type, dtype: int64"
      ]
     },
     "execution_count": 60,
     "metadata": {},
     "output_type": "execute_result"
    }
   ],
   "source": [
    "final_train_df.payment_type.value_counts()"
   ]
  },
  {
   "cell_type": "code",
   "execution_count": 61,
   "metadata": {
    "collapsed": true
   },
   "outputs": [],
   "source": [
    "#since the payment and payment_type have same values and value counts, we remove payment feature\n",
    "final_train_df = final_train_df.drop('payment', axis=1)"
   ]
  },
  {
   "cell_type": "code",
   "execution_count": 62,
   "metadata": {},
   "outputs": [
    {
     "data": {
      "text/plain": [
       "soft                  12687\n",
       "salty                  1226\n",
       "unknown                 469\n",
       "milky                   201\n",
       "coloured                133\n",
       "salty abandoned          84\n",
       "fluoride                 44\n",
       "fluoride abandoned        6\n",
       "Name: water_quality, dtype: int64"
      ]
     },
     "execution_count": 62,
     "metadata": {},
     "output_type": "execute_result"
    }
   ],
   "source": [
    "#analyzing water quality features\n",
    "final_train_df.water_quality.value_counts()"
   ]
  },
  {
   "cell_type": "code",
   "execution_count": 63,
   "metadata": {},
   "outputs": [
    {
     "data": {
      "text/plain": [
       "good        12687\n",
       "salty        1310\n",
       "unknown       469\n",
       "milky         201\n",
       "colored       133\n",
       "fluoride       50\n",
       "Name: quality_group, dtype: int64"
      ]
     },
     "execution_count": 63,
     "metadata": {},
     "output_type": "execute_result"
    }
   ],
   "source": [
    "final_train_df.quality_group.value_counts()"
   ]
  },
  {
   "cell_type": "code",
   "execution_count": 64,
   "metadata": {
    "collapsed": true
   },
   "outputs": [],
   "source": [
    "#we keep quality_group and remove water_quality from above analysis\n",
    "final_train_df = final_train_df.drop('water_quality', axis=1)"
   ]
  },
  {
   "cell_type": "code",
   "execution_count": 65,
   "metadata": {},
   "outputs": [
    {
     "data": {
      "text/plain": [
       "enough          8336\n",
       "insufficient    3767\n",
       "dry             1536\n",
       "seasonal        1025\n",
       "unknown          186\n",
       "Name: quantity_group, dtype: int64"
      ]
     },
     "execution_count": 65,
     "metadata": {},
     "output_type": "execute_result"
    }
   ],
   "source": [
    "#analyzing quantity variables\n",
    "final_train_df.quantity_group.value_counts()"
   ]
  },
  {
   "cell_type": "code",
   "execution_count": 66,
   "metadata": {},
   "outputs": [
    {
     "data": {
      "text/plain": [
       "enough          8336\n",
       "insufficient    3767\n",
       "dry             1536\n",
       "seasonal        1025\n",
       "unknown          186\n",
       "Name: quantity, dtype: int64"
      ]
     },
     "execution_count": 66,
     "metadata": {},
     "output_type": "execute_result"
    }
   ],
   "source": [
    "final_train_df.quantity.value_counts()"
   ]
  },
  {
   "cell_type": "code",
   "execution_count": 67,
   "metadata": {
    "collapsed": true
   },
   "outputs": [],
   "source": [
    "#since the quantity and quantity_group have same values and value counts, we remove quantity_group feature\n",
    "final_train_df = final_train_df.drop('quantity_group', axis=1)"
   ]
  },
  {
   "cell_type": "code",
   "execution_count": 68,
   "metadata": {},
   "outputs": [
    {
     "data": {
      "text/plain": [
       "communal standpipe             7106\n",
       "hand pump                      4396\n",
       "other                          1630\n",
       "communal standpipe multiple    1508\n",
       "improved spring                 175\n",
       "cattle trough                    34\n",
       "dam                               1\n",
       "Name: waterpoint_type, dtype: int64"
      ]
     },
     "execution_count": 68,
     "metadata": {},
     "output_type": "execute_result"
    }
   ],
   "source": [
    "#analyzing waterpoint features\n",
    "final_train_df.waterpoint_type.value_counts()"
   ]
  },
  {
   "cell_type": "code",
   "execution_count": 69,
   "metadata": {},
   "outputs": [
    {
     "data": {
      "text/plain": [
       "communal standpipe    8614\n",
       "hand pump             4396\n",
       "other                 1630\n",
       "improved spring        175\n",
       "cattle trough           34\n",
       "dam                      1\n",
       "Name: waterpoint_type_group, dtype: int64"
      ]
     },
     "execution_count": 69,
     "metadata": {},
     "output_type": "execute_result"
    }
   ],
   "source": [
    "final_train_df.waterpoint_type_group.value_counts()"
   ]
  },
  {
   "cell_type": "code",
   "execution_count": 70,
   "metadata": {
    "collapsed": true
   },
   "outputs": [],
   "source": [
    "#removing waterpoint_type feature\n",
    "final_train_df =final_train_df.drop('waterpoint_type', axis=1)"
   ]
  },
  {
   "cell_type": "code",
   "execution_count": 71,
   "metadata": {},
   "outputs": [
    {
     "data": {
      "text/plain": [
       "shallow well            4316\n",
       "spring                  4195\n",
       "machine dbh             2747\n",
       "river                   2352\n",
       "rainwater harvesting     568\n",
       "hand dtw                 234\n",
       "lake                     185\n",
       "dam                      184\n",
       "other                     49\n",
       "unknown                   20\n",
       "Name: source, dtype: int64"
      ]
     },
     "execution_count": 71,
     "metadata": {},
     "output_type": "execute_result"
    }
   ],
   "source": [
    "#analyzing source features\n",
    "final_train_df.source.value_counts()"
   ]
  },
  {
   "cell_type": "code",
   "execution_count": 72,
   "metadata": {},
   "outputs": [
    {
     "data": {
      "text/plain": [
       "groundwater    11492\n",
       "surface         3289\n",
       "unknown           69\n",
       "Name: source_class, dtype: int64"
      ]
     },
     "execution_count": 72,
     "metadata": {},
     "output_type": "execute_result"
    }
   ],
   "source": [
    "final_train_df.source_class.value_counts()"
   ]
  },
  {
   "cell_type": "code",
   "execution_count": 73,
   "metadata": {},
   "outputs": [
    {
     "data": {
      "text/plain": [
       "shallow well            4316\n",
       "spring                  4195\n",
       "borehole                2981\n",
       "river/lake              2537\n",
       "rainwater harvesting     568\n",
       "dam                      184\n",
       "other                     69\n",
       "Name: source_type, dtype: int64"
      ]
     },
     "execution_count": 73,
     "metadata": {},
     "output_type": "execute_result"
    }
   ],
   "source": [
    "final_train_df.source_type.value_counts()"
   ]
  },
  {
   "cell_type": "code",
   "execution_count": 74,
   "metadata": {},
   "outputs": [
    {
     "data": {
      "text/plain": [
       "shallow well    4316\n",
       "spring          4195\n",
       "borehole        2981\n",
       "river/lake      2537\n",
       "other            821\n",
       "Name: source_type, dtype: int64"
      ]
     },
     "execution_count": 74,
     "metadata": {},
     "output_type": "execute_result"
    }
   ],
   "source": [
    "#removing source feature from the dataset and transforming source_type\n",
    "final_train_df = final_train_df.drop('source', axis=1)\n",
    "highFrequencyEntity = ('spring','shallow well','borehole','river/lake','other')        \n",
    "final_train_df['source_type'] = final_train_df.apply(lambda row: wrangler_function(row,'source_type',highFrequencyEntity), axis=1)\n",
    "final_train_df.source_type.value_counts()"
   ]
  },
  {
   "cell_type": "code",
   "execution_count": 75,
   "metadata": {},
   "outputs": [
    {
     "data": {
      "text/plain": [
       " 0       5211\n",
       "-19        18\n",
       " 1294      18\n",
       " 1343      18\n",
       " 1283      17\n",
       "-16        16\n",
       " 1285      16\n",
       " 1373      16\n",
       " 1301      15\n",
       " 1293      15\n",
       " 1183      15\n",
       " 1362      15\n",
       " 1666      14\n",
       "-11        14\n",
       " 1306      14\n",
       " 1270      14\n",
       " 1254      14\n",
       " 1337      14\n",
       " 1312      14\n",
       " 1341      14\n",
       " 1431      13\n",
       " 1309      13\n",
       " 1303      13\n",
       " 1249      13\n",
       " 258       13\n",
       " 272       13\n",
       "-12        13\n",
       "-14        13\n",
       "-13        13\n",
       " 78        13\n",
       "         ... \n",
       " 2451       1\n",
       " 386        1\n",
       " 2427       1\n",
       " 2142       1\n",
       " 578        1\n",
       " 2331       1\n",
       " 2166       1\n",
       " 2307       1\n",
       " 2182       1\n",
       " 135        1\n",
       " 154        1\n",
       " 546        1\n",
       " 594        1\n",
       " 1114       1\n",
       " 778        1\n",
       " 1050       1\n",
       " 1034       1\n",
       "-57         1\n",
       " 826        1\n",
       " 818        1\n",
       " 810        1\n",
       " 2118       1\n",
       " 618        1\n",
       " 746        1\n",
       " 738        1\n",
       " 722        1\n",
       " 698        1\n",
       " 2126       1\n",
       " 674        1\n",
       " 2023       1\n",
       "Name: gps_height, Length: 2157, dtype: int64"
      ]
     },
     "execution_count": 75,
     "metadata": {},
     "output_type": "execute_result"
    }
   ],
   "source": [
    "#analyzing gps_height feature\n",
    "final_train_df.gps_height.value_counts()"
   ]
  },
  {
   "cell_type": "code",
   "execution_count": 76,
   "metadata": {},
   "outputs": [
    {
     "data": {
      "text/plain": [
       "id\n",
       "12818    200000.0\n",
       "17971    100000.0\n",
       "1676      70000.0\n",
       "28695     60000.0\n",
       "69564     50000.0\n",
       "40007     50000.0\n",
       "56875     40000.0\n",
       "58096     35000.0\n",
       "44188     35000.0\n",
       "14114     35000.0\n",
       "42250     30000.0\n",
       "53544     30000.0\n",
       "27458     30000.0\n",
       "49784     30000.0\n",
       "52700     25000.0\n",
       "72487     25000.0\n",
       "13646     25000.0\n",
       "31802     25000.0\n",
       "18291     25000.0\n",
       "23914     25000.0\n",
       "6112      25000.0\n",
       "5243      20000.0\n",
       "3517      20000.0\n",
       "61906     20000.0\n",
       "70268     20000.0\n",
       "50686     20000.0\n",
       "1468      20000.0\n",
       "4970      20000.0\n",
       "32401     20000.0\n",
       "8854      18000.0\n",
       "           ...   \n",
       "14119         0.0\n",
       "25314         0.0\n",
       "34430         0.0\n",
       "45466         0.0\n",
       "56390         0.0\n",
       "49562         0.0\n",
       "37377         0.0\n",
       "40319         0.0\n",
       "38029         0.0\n",
       "53170         0.0\n",
       "38073         0.0\n",
       "13224         0.0\n",
       "5142          0.0\n",
       "49976         0.0\n",
       "18764         0.0\n",
       "71308         0.0\n",
       "71368         0.0\n",
       "20427         0.0\n",
       "49407         0.0\n",
       "17632         0.0\n",
       "60578         0.0\n",
       "2751          0.0\n",
       "8786          0.0\n",
       "34984         0.0\n",
       "48430         0.0\n",
       "7471          0.0\n",
       "39928         0.0\n",
       "14612         0.0\n",
       "66802         0.0\n",
       "50785         0.0\n",
       "Name: amount_tsh, Length: 14850, dtype: float64"
      ]
     },
     "execution_count": 76,
     "metadata": {},
     "output_type": "execute_result"
    }
   ],
   "source": [
    "#analyzing amount_tsh feature\n",
    "final_train_df.amount_tsh.sort_values(ascending=False)"
   ]
  },
  {
   "cell_type": "code",
   "execution_count": 77,
   "metadata": {
    "collapsed": true
   },
   "outputs": [],
   "source": [
    "am = final_train_df.loc[(final_train_df.quantity == 'enough')][['amount_tsh']].mean()"
   ]
  },
  {
   "cell_type": "code",
   "execution_count": 78,
   "metadata": {
    "collapsed": true
   },
   "outputs": [],
   "source": [
    "final_train_df.loc[(final_train_df.quantity == 'enough') & (final_train_df.amount_tsh == 0), 'amount_tsh'] = am[0]"
   ]
  },
  {
   "cell_type": "code",
   "execution_count": 79,
   "metadata": {},
   "outputs": [
    {
     "data": {
      "text/plain": [
       "17    1323\n",
       "11    1308\n",
       "12    1120\n",
       "3     1115\n",
       "5     1039\n",
       "18     859\n",
       "19     777\n",
       "16     717\n",
       "2      685\n",
       "10     666\n",
       "4      632\n",
       "1      578\n",
       "14     509\n",
       "20     482\n",
       "13     443\n",
       "15     434\n",
       "6      423\n",
       "21     389\n",
       "80     298\n",
       "60     273\n",
       "90     216\n",
       "7      215\n",
       "9      109\n",
       "99      89\n",
       "24      76\n",
       "8       75\n",
       "Name: region_code, dtype: int64"
      ]
     },
     "execution_count": 79,
     "metadata": {},
     "output_type": "execute_result"
    }
   ],
   "source": [
    "final_train_df.region_code.value_counts()"
   ]
  },
  {
   "cell_type": "code",
   "execution_count": 80,
   "metadata": {},
   "outputs": [
    {
     "data": {
      "text/plain": [
       "count    1.485000e+04\n",
       "mean    -5.684724e+00\n",
       "std      2.940803e+00\n",
       "min     -1.156459e+01\n",
       "25%     -8.443970e+00\n",
       "50%     -5.049750e+00\n",
       "75%     -3.320594e+00\n",
       "max     -2.000000e-08\n",
       "Name: latitude, dtype: float64"
      ]
     },
     "execution_count": 80,
     "metadata": {},
     "output_type": "execute_result"
    }
   ],
   "source": [
    "final_train_df.latitude.describe()"
   ]
  },
  {
   "cell_type": "code",
   "execution_count": 81,
   "metadata": {},
   "outputs": [
    {
     "data": {
      "text/plain": [
       "count    14850.000000\n",
       "mean        34.061605\n",
       "std          6.593034\n",
       "min          0.000000\n",
       "25%         33.069455\n",
       "50%         34.901215\n",
       "75%         37.196594\n",
       "max         40.325016\n",
       "Name: longitude, dtype: float64"
      ]
     },
     "execution_count": 81,
     "metadata": {},
     "output_type": "execute_result"
    }
   ],
   "source": [
    "final_train_df.longitude.describe()"
   ]
  },
  {
   "cell_type": "code",
   "execution_count": 82,
   "metadata": {
    "collapsed": true
   },
   "outputs": [],
   "source": [
    "final_train_df.loc[(final_train_df.longitude == 0),'longitude'] = final_train_df.longitude.mean()"
   ]
  },
  {
   "cell_type": "code",
   "execution_count": 83,
   "metadata": {
    "collapsed": true
   },
   "outputs": [],
   "source": [
    "final_train_df.loc[(final_train_df.longitude == 0), 'longitude'] = final_train_df.longitude.mean()\n",
    "\n",
    "final_train_df['x'] = np.cos(final_train_df.latitude) * np.cos(final_train_df.longitude)\n",
    "\n",
    "final_train_df['y'] = np.cos(final_train_df.latitude) * np.sin(final_train_df.longitude)\n",
    "\n",
    "final_train_df['z'] = np.sin(final_train_df.latitude) "
   ]
  },
  {
   "cell_type": "code",
   "execution_count": 84,
   "metadata": {
    "collapsed": true
   },
   "outputs": [],
   "source": [
    "#removing waterpoint_type feature\n",
    "final_train_df =final_train_df.drop('region', axis=1)"
   ]
  },
  {
   "cell_type": "code",
   "execution_count": 85,
   "metadata": {
    "collapsed": true
   },
   "outputs": [],
   "source": [
    "#removing waterpoint_type feature\n",
    "final_train_df =final_train_df.drop('lga', axis=1)"
   ]
  },
  {
   "cell_type": "code",
   "execution_count": 86,
   "metadata": {
    "collapsed": true
   },
   "outputs": [],
   "source": [
    "#removing waterpoint_type feature\n",
    "final_train_df =final_train_df.drop('ward', axis=1)"
   ]
  },
  {
   "cell_type": "code",
   "execution_count": 87,
   "metadata": {},
   "outputs": [
    {
     "data": {
      "text/html": [
       "<div>\n",
       "<style>\n",
       "    .dataframe thead tr:only-child th {\n",
       "        text-align: right;\n",
       "    }\n",
       "\n",
       "    .dataframe thead th {\n",
       "        text-align: left;\n",
       "    }\n",
       "\n",
       "    .dataframe tbody tr th {\n",
       "        vertical-align: top;\n",
       "    }\n",
       "</style>\n",
       "<table border=\"1\" class=\"dataframe\">\n",
       "  <thead>\n",
       "    <tr>\n",
       "      <th></th>\n",
       "      <th colspan=\"8\" halign=\"left\">latitude</th>\n",
       "      <th colspan=\"5\" halign=\"left\">longitude</th>\n",
       "      <th colspan=\"8\" halign=\"left\">gps_height</th>\n",
       "    </tr>\n",
       "    <tr>\n",
       "      <th></th>\n",
       "      <th>count</th>\n",
       "      <th>mean</th>\n",
       "      <th>std</th>\n",
       "      <th>min</th>\n",
       "      <th>25%</th>\n",
       "      <th>50%</th>\n",
       "      <th>75%</th>\n",
       "      <th>max</th>\n",
       "      <th>count</th>\n",
       "      <th>mean</th>\n",
       "      <th>...</th>\n",
       "      <th>75%</th>\n",
       "      <th>max</th>\n",
       "      <th>count</th>\n",
       "      <th>mean</th>\n",
       "      <th>std</th>\n",
       "      <th>min</th>\n",
       "      <th>25%</th>\n",
       "      <th>50%</th>\n",
       "      <th>75%</th>\n",
       "      <th>max</th>\n",
       "    </tr>\n",
       "    <tr>\n",
       "      <th>extraction_type_class</th>\n",
       "      <th></th>\n",
       "      <th></th>\n",
       "      <th></th>\n",
       "      <th></th>\n",
       "      <th></th>\n",
       "      <th></th>\n",
       "      <th></th>\n",
       "      <th></th>\n",
       "      <th></th>\n",
       "      <th></th>\n",
       "      <th></th>\n",
       "      <th></th>\n",
       "      <th></th>\n",
       "      <th></th>\n",
       "      <th></th>\n",
       "      <th></th>\n",
       "      <th></th>\n",
       "      <th></th>\n",
       "      <th></th>\n",
       "      <th></th>\n",
       "      <th></th>\n",
       "    </tr>\n",
       "  </thead>\n",
       "  <tbody>\n",
       "    <tr>\n",
       "      <th>gravity</th>\n",
       "      <td>1645.0</td>\n",
       "      <td>-5.889046</td>\n",
       "      <td>3.354854</td>\n",
       "      <td>-9.702382</td>\n",
       "      <td>-9.210144</td>\n",
       "      <td>-6.369743</td>\n",
       "      <td>-2.501442</td>\n",
       "      <td>-2.000000e-08</td>\n",
       "      <td>1645.0</td>\n",
       "      <td>33.297117</td>\n",
       "      <td>...</td>\n",
       "      <td>33.912640</td>\n",
       "      <td>39.093836</td>\n",
       "      <td>1645.0</td>\n",
       "      <td>0.0</td>\n",
       "      <td>0.0</td>\n",
       "      <td>0.0</td>\n",
       "      <td>0.0</td>\n",
       "      <td>0.0</td>\n",
       "      <td>0.0</td>\n",
       "      <td>0.0</td>\n",
       "    </tr>\n",
       "    <tr>\n",
       "      <th>handpump</th>\n",
       "      <td>2104.0</td>\n",
       "      <td>-3.719465</td>\n",
       "      <td>2.562832</td>\n",
       "      <td>-9.698261</td>\n",
       "      <td>-4.761059</td>\n",
       "      <td>-3.275442</td>\n",
       "      <td>-2.609763</td>\n",
       "      <td>-2.000000e-08</td>\n",
       "      <td>2104.0</td>\n",
       "      <td>33.227555</td>\n",
       "      <td>...</td>\n",
       "      <td>34.061605</td>\n",
       "      <td>39.166537</td>\n",
       "      <td>2104.0</td>\n",
       "      <td>0.0</td>\n",
       "      <td>0.0</td>\n",
       "      <td>0.0</td>\n",
       "      <td>0.0</td>\n",
       "      <td>0.0</td>\n",
       "      <td>0.0</td>\n",
       "      <td>0.0</td>\n",
       "    </tr>\n",
       "    <tr>\n",
       "      <th>motorpump</th>\n",
       "      <td>395.0</td>\n",
       "      <td>-5.083687</td>\n",
       "      <td>1.708228</td>\n",
       "      <td>-8.610205</td>\n",
       "      <td>-6.146603</td>\n",
       "      <td>-5.556993</td>\n",
       "      <td>-4.556787</td>\n",
       "      <td>-2.000000e-08</td>\n",
       "      <td>395.0</td>\n",
       "      <td>34.907020</td>\n",
       "      <td>...</td>\n",
       "      <td>35.914585</td>\n",
       "      <td>39.095660</td>\n",
       "      <td>395.0</td>\n",
       "      <td>0.0</td>\n",
       "      <td>0.0</td>\n",
       "      <td>0.0</td>\n",
       "      <td>0.0</td>\n",
       "      <td>0.0</td>\n",
       "      <td>0.0</td>\n",
       "      <td>0.0</td>\n",
       "    </tr>\n",
       "    <tr>\n",
       "      <th>other</th>\n",
       "      <td>699.0</td>\n",
       "      <td>-3.494544</td>\n",
       "      <td>2.003285</td>\n",
       "      <td>-9.355727</td>\n",
       "      <td>-4.337145</td>\n",
       "      <td>-3.694612</td>\n",
       "      <td>-2.542078</td>\n",
       "      <td>-2.000000e-08</td>\n",
       "      <td>699.0</td>\n",
       "      <td>33.285567</td>\n",
       "      <td>...</td>\n",
       "      <td>33.892012</td>\n",
       "      <td>39.171752</td>\n",
       "      <td>699.0</td>\n",
       "      <td>0.0</td>\n",
       "      <td>0.0</td>\n",
       "      <td>0.0</td>\n",
       "      <td>0.0</td>\n",
       "      <td>0.0</td>\n",
       "      <td>0.0</td>\n",
       "      <td>0.0</td>\n",
       "    </tr>\n",
       "    <tr>\n",
       "      <th>rope pump</th>\n",
       "      <td>16.0</td>\n",
       "      <td>-2.753803</td>\n",
       "      <td>0.431731</td>\n",
       "      <td>-3.618500</td>\n",
       "      <td>-2.714635</td>\n",
       "      <td>-2.577615</td>\n",
       "      <td>-2.506643</td>\n",
       "      <td>-2.424257e+00</td>\n",
       "      <td>16.0</td>\n",
       "      <td>31.314412</td>\n",
       "      <td>...</td>\n",
       "      <td>31.371117</td>\n",
       "      <td>33.536872</td>\n",
       "      <td>16.0</td>\n",
       "      <td>0.0</td>\n",
       "      <td>0.0</td>\n",
       "      <td>0.0</td>\n",
       "      <td>0.0</td>\n",
       "      <td>0.0</td>\n",
       "      <td>0.0</td>\n",
       "      <td>0.0</td>\n",
       "    </tr>\n",
       "    <tr>\n",
       "      <th>submersible</th>\n",
       "      <td>333.0</td>\n",
       "      <td>-4.876541</td>\n",
       "      <td>2.421095</td>\n",
       "      <td>-10.300754</td>\n",
       "      <td>-6.393259</td>\n",
       "      <td>-5.429984</td>\n",
       "      <td>-3.727794</td>\n",
       "      <td>-2.000000e-08</td>\n",
       "      <td>333.0</td>\n",
       "      <td>34.725757</td>\n",
       "      <td>...</td>\n",
       "      <td>36.508453</td>\n",
       "      <td>39.868533</td>\n",
       "      <td>333.0</td>\n",
       "      <td>0.0</td>\n",
       "      <td>0.0</td>\n",
       "      <td>0.0</td>\n",
       "      <td>0.0</td>\n",
       "      <td>0.0</td>\n",
       "      <td>0.0</td>\n",
       "      <td>0.0</td>\n",
       "    </tr>\n",
       "    <tr>\n",
       "      <th>wind-powered</th>\n",
       "      <td>19.0</td>\n",
       "      <td>-4.349698</td>\n",
       "      <td>1.094789</td>\n",
       "      <td>-6.309469</td>\n",
       "      <td>-5.102937</td>\n",
       "      <td>-3.791406</td>\n",
       "      <td>-3.696741</td>\n",
       "      <td>-2.397158e+00</td>\n",
       "      <td>19.0</td>\n",
       "      <td>35.124616</td>\n",
       "      <td>...</td>\n",
       "      <td>35.727251</td>\n",
       "      <td>38.502588</td>\n",
       "      <td>19.0</td>\n",
       "      <td>0.0</td>\n",
       "      <td>0.0</td>\n",
       "      <td>0.0</td>\n",
       "      <td>0.0</td>\n",
       "      <td>0.0</td>\n",
       "      <td>0.0</td>\n",
       "      <td>0.0</td>\n",
       "    </tr>\n",
       "  </tbody>\n",
       "</table>\n",
       "<p>7 rows × 24 columns</p>\n",
       "</div>"
      ],
      "text/plain": [
       "                      latitude                                           \\\n",
       "                         count      mean       std        min       25%   \n",
       "extraction_type_class                                                     \n",
       "gravity                 1645.0 -5.889046  3.354854  -9.702382 -9.210144   \n",
       "handpump                2104.0 -3.719465  2.562832  -9.698261 -4.761059   \n",
       "motorpump                395.0 -5.083687  1.708228  -8.610205 -6.146603   \n",
       "other                    699.0 -3.494544  2.003285  -9.355727 -4.337145   \n",
       "rope pump                 16.0 -2.753803  0.431731  -3.618500 -2.714635   \n",
       "submersible              333.0 -4.876541  2.421095 -10.300754 -6.393259   \n",
       "wind-powered              19.0 -4.349698  1.094789  -6.309469 -5.102937   \n",
       "\n",
       "                                                        longitude             \\\n",
       "                            50%       75%           max     count       mean   \n",
       "extraction_type_class                                                          \n",
       "gravity               -6.369743 -2.501442 -2.000000e-08    1645.0  33.297117   \n",
       "handpump              -3.275442 -2.609763 -2.000000e-08    2104.0  33.227555   \n",
       "motorpump             -5.556993 -4.556787 -2.000000e-08     395.0  34.907020   \n",
       "other                 -3.694612 -2.542078 -2.000000e-08     699.0  33.285567   \n",
       "rope pump             -2.577615 -2.506643 -2.424257e+00      16.0  31.314412   \n",
       "submersible           -5.429984 -3.727794 -2.000000e-08     333.0  34.725757   \n",
       "wind-powered          -3.791406 -3.696741 -2.397158e+00      19.0  35.124616   \n",
       "\n",
       "                      ...                        gps_height                 \\\n",
       "                      ...         75%        max      count mean  std  min   \n",
       "extraction_type_class ...                                                    \n",
       "gravity               ...   33.912640  39.093836     1645.0  0.0  0.0  0.0   \n",
       "handpump              ...   34.061605  39.166537     2104.0  0.0  0.0  0.0   \n",
       "motorpump             ...   35.914585  39.095660      395.0  0.0  0.0  0.0   \n",
       "other                 ...   33.892012  39.171752      699.0  0.0  0.0  0.0   \n",
       "rope pump             ...   31.371117  33.536872       16.0  0.0  0.0  0.0   \n",
       "submersible           ...   36.508453  39.868533      333.0  0.0  0.0  0.0   \n",
       "wind-powered          ...   35.727251  38.502588       19.0  0.0  0.0  0.0   \n",
       "\n",
       "                                           \n",
       "                       25%  50%  75%  max  \n",
       "extraction_type_class                      \n",
       "gravity                0.0  0.0  0.0  0.0  \n",
       "handpump               0.0  0.0  0.0  0.0  \n",
       "motorpump              0.0  0.0  0.0  0.0  \n",
       "other                  0.0  0.0  0.0  0.0  \n",
       "rope pump              0.0  0.0  0.0  0.0  \n",
       "submersible            0.0  0.0  0.0  0.0  \n",
       "wind-powered           0.0  0.0  0.0  0.0  \n",
       "\n",
       "[7 rows x 24 columns]"
      ]
     },
     "execution_count": 87,
     "metadata": {},
     "output_type": "execute_result"
    }
   ],
   "source": [
    "final_train_df.loc[final_train_df.gps_height == 0].groupby(final_train_df.extraction_type_class)[['latitude', 'longitude','gps_height']].describe()"
   ]
  },
  {
   "cell_type": "code",
   "execution_count": 88,
   "metadata": {
    "collapsed": true
   },
   "outputs": [],
   "source": [
    "hm = final_train_df.loc[(final_train_df.extraction_type_class != 'gravity')][['gps_height']].mean()"
   ]
  },
  {
   "cell_type": "code",
   "execution_count": 89,
   "metadata": {
    "collapsed": true
   },
   "outputs": [],
   "source": [
    "final_train_df.loc[(final_train_df.extraction_type_class != 'gravity') & (final_train_df.gps_height == 0), 'gps_height'] = hm[0]"
   ]
  },
  {
   "cell_type": "code",
   "execution_count": 90,
   "metadata": {},
   "outputs": [
    {
     "data": {
      "text/plain": [
       "(14850, 26)"
      ]
     },
     "execution_count": 90,
     "metadata": {},
     "output_type": "execute_result"
    }
   ],
   "source": [
    "final_train_df.shape"
   ]
  },
  {
   "cell_type": "code",
   "execution_count": 91,
   "metadata": {
    "collapsed": true
   },
   "outputs": [],
   "source": [
    "#converting all categorical variables to dummy variables\n",
    "train_d = final_train_df.copy()\n",
    "train_d = pd.get_dummies(train_d)"
   ]
  },
  {
   "cell_type": "code",
   "execution_count": 92,
   "metadata": {},
   "outputs": [
    {
     "data": {
      "text/plain": [
       "(14850, 96)"
      ]
     },
     "execution_count": 92,
     "metadata": {},
     "output_type": "execute_result"
    }
   ],
   "source": [
    "train_d.shape"
   ]
  },
  {
   "cell_type": "code",
   "execution_count": 93,
   "metadata": {
    "collapsed": true
   },
   "outputs": [],
   "source": [
    "#do the above steps with test data\n",
    "train_d.to_csv(\"testset1.csv\", sep=',', encoding='utf-8')"
   ]
  },
  {
   "cell_type": "code",
   "execution_count": 94,
   "metadata": {},
   "outputs": [
    {
     "data": {
      "text/plain": [
       "(14850, 96)"
      ]
     },
     "execution_count": 94,
     "metadata": {},
     "output_type": "execute_result"
    }
   ],
   "source": [
    "train_d.shape"
   ]
  }
 ],
 "metadata": {
  "kernelspec": {
   "display_name": "Python 3",
   "language": "python",
   "name": "python3"
  },
  "language_info": {
   "codemirror_mode": {
    "name": "ipython",
    "version": 3
   },
   "file_extension": ".py",
   "mimetype": "text/x-python",
   "name": "python",
   "nbconvert_exporter": "python",
   "pygments_lexer": "ipython3",
   "version": "3.6.3"
  }
 },
 "nbformat": 4,
 "nbformat_minor": 2
}
